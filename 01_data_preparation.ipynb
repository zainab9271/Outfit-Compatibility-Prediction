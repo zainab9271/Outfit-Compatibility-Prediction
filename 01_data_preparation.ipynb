{
  "nbformat": 4,
  "nbformat_minor": 0,
  "metadata": {
    "colab": {
      "name": "01_data_preparation.ipynb",
      "provenance": [],
      "collapsed_sections": [
        "HbE8WmwTQd8S"
      ],
      "toc_visible": true,
      "include_colab_link": true
    },
    "kernelspec": {
      "name": "python3",
      "display_name": "Python 3"
    },
    "language_info": {
      "name": "python"
    }
  },
  "cells": [
    {
      "cell_type": "markdown",
      "metadata": {
        "id": "view-in-github",
        "colab_type": "text"
      },
      "source": [
        "<a href=\"https://colab.research.google.com/github/zainab9271/Outfit-Compatibility-Prediction/blob/main/01_data_preparation.ipynb\" target=\"_parent\"><img src=\"https://colab.research.google.com/assets/colab-badge.svg\" alt=\"Open In Colab\"/></a>"
      ]
    },
    {
      "cell_type": "markdown",
      "source": [
        "# Upload Kaggle Token"
      ],
      "metadata": {
        "id": "HbE8WmwTQd8S"
      }
    },
    {
      "cell_type": "code",
      "execution_count": null,
      "metadata": {
        "colab": {
          "resources": {
            "http://localhost:8080/nbextensions/google.colab/files.js": {
              "data": "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",
              "ok": true,
              "headers": [
                [
                  "content-type",
                  "application/javascript"
                ]
              ],
              "status": 200,
              "status_text": ""
            }
          },
          "base_uri": "https://localhost:8080/",
          "height": 93
        },
        "id": "hVaOP3vmP5TZ",
        "outputId": "5e51b98c-eec2-43ea-e922-608cec09a1a4"
      },
      "outputs": [
        {
          "output_type": "display_data",
          "data": {
            "text/plain": [
              "<IPython.core.display.HTML object>"
            ],
            "text/html": [
              "\n",
              "     <input type=\"file\" id=\"files-d6bee276-4f37-4d1c-8f0b-cf00de67ca2f\" name=\"files[]\" multiple disabled\n",
              "        style=\"border:none\" />\n",
              "     <output id=\"result-d6bee276-4f37-4d1c-8f0b-cf00de67ca2f\">\n",
              "      Upload widget is only available when the cell has been executed in the\n",
              "      current browser session. Please rerun this cell to enable.\n",
              "      </output>\n",
              "      <script src=\"/nbextensions/google.colab/files.js\"></script> "
            ]
          },
          "metadata": {}
        },
        {
          "output_type": "stream",
          "name": "stdout",
          "text": [
            "Saving kaggle.json to kaggle.json\n",
            "User uploaded file \"kaggle.json\" with length 73 bytes\n"
          ]
        }
      ],
      "source": [
        "from google.colab import files\n",
        "\n",
        "uploaded = files.upload()\n",
        "\n",
        "for fn in uploaded.keys():\n",
        "  print(f'User uploaded file \"{fn}\" with length {len(uploaded[fn])} bytes')"
      ]
    },
    {
      "cell_type": "markdown",
      "source": [
        "# Download the Data from Kaggle"
      ],
      "metadata": {
        "id": "j_Y0pmcXQk2Y"
      }
    },
    {
      "cell_type": "code",
      "source": [
        "!mkdir ~/.kaggle\n",
        "!cp kaggle.json ~/.kaggle/\n",
        "!chmod 600 ~/.kaggle/kaggle.json\n",
        "!kaggle datasets download -d dnepozitek/polyvore-outfits"
      ],
      "metadata": {
        "id": "vRsMkYOcQyn8",
        "colab": {
          "base_uri": "https://localhost:8080/"
        },
        "outputId": "3e16f754-2d7b-4fcb-b887-11d663ea9c7e"
      },
      "execution_count": null,
      "outputs": [
        {
          "output_type": "stream",
          "name": "stdout",
          "text": [
            "Downloading polyvore-outfits.zip to /content\n",
            "100% 6.19G/6.21G [01:49<00:00, 85.2MB/s]\n",
            "100% 6.21G/6.21G [01:49<00:00, 60.9MB/s]\n"
          ]
        }
      ]
    },
    {
      "cell_type": "code",
      "source": [
        "!unzip /content/polyvore-outfits.zip"
      ],
      "metadata": {
        "id": "uWwlQheceBg3"
      },
      "execution_count": null,
      "outputs": []
    },
    {
      "cell_type": "markdown",
      "source": [
        "# Import Libraries"
      ],
      "metadata": {
        "id": "Xt60fONuQ0FF"
      }
    },
    {
      "cell_type": "code",
      "source": [
        "import pandas as pd\n",
        "import numpy as np\n",
        "import pathlib\n",
        "import os\n",
        "import tqdm\n",
        "import glob\n",
        "import matplotlib.image as mpimg\n",
        "import matplotlib.pyplot as plt\n",
        "from zipfile import ZipFile"
      ],
      "metadata": {
        "id": "0xshZ8iSmn5L"
      },
      "execution_count": null,
      "outputs": []
    },
    {
      "cell_type": "code",
      "source": [
        "from google.colab import drive\n",
        "drive.mount('/content/drive')"
      ],
      "metadata": {
        "colab": {
          "base_uri": "https://localhost:8080/"
        },
        "id": "2jKrX-dVYAhv",
        "outputId": "f266e53b-8b51-4069-8227-ff7c221515f6"
      },
      "execution_count": null,
      "outputs": [
        {
          "output_type": "stream",
          "name": "stdout",
          "text": [
            "Mounted at /content/drive\n"
          ]
        }
      ]
    },
    {
      "cell_type": "markdown",
      "source": [
        "# Zip Outfit Images to Drive"
      ],
      "metadata": {
        "id": "VBCt1L-AL2xy"
      }
    },
    {
      "cell_type": "markdown",
      "source": [
        "* <font color=red><font size=4>instead of downloading the whole original dataset in each notebook we save only its images for further uses.</font>"
      ],
      "metadata": {
        "id": "C7I3HHGRz0eY"
      }
    },
    {
      "cell_type": "code",
      "source": [
        "file_paths = []\n",
        "for root, directories, files in os.walk('/content/polyvore_outfits/images'):\n",
        "    for file_name in files:\n",
        "        file_path = os.path.join(root, file_name)\n",
        "        file_paths.append(file_path)\n",
        "\n",
        "with ZipFile('/content/drive/MyDrive/Outfit_Recommendation_Project/polyvore_outfits_images.zip', 'w') as zip:\n",
        "    for file in file_paths:\n",
        "        zip.write(file)"
      ],
      "metadata": {
        "id": "khIB_MZYIrXd"
      },
      "execution_count": null,
      "outputs": []
    },
    {
      "cell_type": "code",
      "source": [
        "!unzip \"/content/drive/MyDrive/Outfit_Recommendation_Project/polyvore_outfits_images.zip\""
      ],
      "metadata": {
        "id": "36XuHtI3Tncb"
      },
      "execution_count": null,
      "outputs": []
    },
    {
      "cell_type": "markdown",
      "source": [
        "# Prepare the Data"
      ],
      "metadata": {
        "id": "Z0Aiqm4Mk-lP"
      }
    },
    {
      "cell_type": "markdown",
      "source": [
        "* Parse all json and text files in the original Kaggle dataset\n",
        "* Extract info \n",
        "* Save as csv\n",
        "\n",
        "<font color='yellow'><font size=5> Outfit is a combination of clothes items and thus it is considered a set of images.</font>\n",
        "\n"
      ],
      "metadata": {
        "id": "e06kOfMgnCjY"
      }
    },
    {
      "cell_type": "markdown",
      "source": [
        "## Create Dataframes"
      ],
      "metadata": {
        "id": "HRiUgJD4QEyp"
      }
    },
    {
      "cell_type": "markdown",
      "source": [
        "### polyvore_outfit_titles.json"
      ],
      "metadata": {
        "id": "S3dPh4OwPx--"
      }
    },
    {
      "cell_type": "markdown",
      "source": [
        "* <font color='pink'><font size=4>create a dataframe of outfit id and its info </font>"
      ],
      "metadata": {
        "id": "p5pKhEXBpuQ3"
      }
    },
    {
      "cell_type": "code",
      "source": [
        "polyvore_outfit_titles_df = pd.read_json('/content/polyvore_outfits/polyvore_outfit_titles.json')\n",
        "polyvore_outfit_titles_df = polyvore_outfit_titles_df.T\n",
        "polyvore_outfit_titles_df"
      ],
      "metadata": {
        "colab": {
          "base_uri": "https://localhost:8080/",
          "height": 423
        },
        "id": "GpfX6cuNoOVU",
        "outputId": "39cbcede-5e01-4fae-c822-eb9f866177b6"
      },
      "execution_count": null,
      "outputs": [
        {
          "output_type": "execute_result",
          "data": {
            "text/plain": [
              "                                url_name                       title\n",
              "219779031     spring trend colored denim               Denim Jumpers\n",
              "211158670  boot scootin outfit only 2500          Stacked-Heel Boots\n",
              "222049137               mermaid for life  \"Mermaid Hair, Don't Care\"\n",
              "207880976   street style mini dress wrap               Blanket Wraps\n",
              "171638917             high waisted jeans   High-Waisted Skinny Jeans\n",
              "...                                  ...                         ...\n",
              "209395792                  67 night guys   Apple Cider and Doughnuts\n",
              "213634610                    dance party                 Dance Party\n",
              "222597251                   friday night                Friday Night\n",
              "179451388                 poncho in rain                Rain Ponchos\n",
              "222089789    go sporty with twinkledeals                   Go Sporty\n",
              "\n",
              "[68306 rows x 2 columns]"
            ],
            "text/html": [
              "\n",
              "  <div id=\"df-8d2cbc1f-0204-491c-bf39-f1c9affe598f\">\n",
              "    <div class=\"colab-df-container\">\n",
              "      <div>\n",
              "<style scoped>\n",
              "    .dataframe tbody tr th:only-of-type {\n",
              "        vertical-align: middle;\n",
              "    }\n",
              "\n",
              "    .dataframe tbody tr th {\n",
              "        vertical-align: top;\n",
              "    }\n",
              "\n",
              "    .dataframe thead th {\n",
              "        text-align: right;\n",
              "    }\n",
              "</style>\n",
              "<table border=\"1\" class=\"dataframe\">\n",
              "  <thead>\n",
              "    <tr style=\"text-align: right;\">\n",
              "      <th></th>\n",
              "      <th>url_name</th>\n",
              "      <th>title</th>\n",
              "    </tr>\n",
              "  </thead>\n",
              "  <tbody>\n",
              "    <tr>\n",
              "      <th>219779031</th>\n",
              "      <td>spring trend colored denim</td>\n",
              "      <td>Denim Jumpers</td>\n",
              "    </tr>\n",
              "    <tr>\n",
              "      <th>211158670</th>\n",
              "      <td>boot scootin outfit only 2500</td>\n",
              "      <td>Stacked-Heel Boots</td>\n",
              "    </tr>\n",
              "    <tr>\n",
              "      <th>222049137</th>\n",
              "      <td>mermaid for life</td>\n",
              "      <td>\"Mermaid Hair, Don't Care\"</td>\n",
              "    </tr>\n",
              "    <tr>\n",
              "      <th>207880976</th>\n",
              "      <td>street style mini dress wrap</td>\n",
              "      <td>Blanket Wraps</td>\n",
              "    </tr>\n",
              "    <tr>\n",
              "      <th>171638917</th>\n",
              "      <td>high waisted jeans</td>\n",
              "      <td>High-Waisted Skinny Jeans</td>\n",
              "    </tr>\n",
              "    <tr>\n",
              "      <th>...</th>\n",
              "      <td>...</td>\n",
              "      <td>...</td>\n",
              "    </tr>\n",
              "    <tr>\n",
              "      <th>209395792</th>\n",
              "      <td>67 night guys</td>\n",
              "      <td>Apple Cider and Doughnuts</td>\n",
              "    </tr>\n",
              "    <tr>\n",
              "      <th>213634610</th>\n",
              "      <td>dance party</td>\n",
              "      <td>Dance Party</td>\n",
              "    </tr>\n",
              "    <tr>\n",
              "      <th>222597251</th>\n",
              "      <td>friday night</td>\n",
              "      <td>Friday Night</td>\n",
              "    </tr>\n",
              "    <tr>\n",
              "      <th>179451388</th>\n",
              "      <td>poncho in rain</td>\n",
              "      <td>Rain Ponchos</td>\n",
              "    </tr>\n",
              "    <tr>\n",
              "      <th>222089789</th>\n",
              "      <td>go sporty with twinkledeals</td>\n",
              "      <td>Go Sporty</td>\n",
              "    </tr>\n",
              "  </tbody>\n",
              "</table>\n",
              "<p>68306 rows × 2 columns</p>\n",
              "</div>\n",
              "      <button class=\"colab-df-convert\" onclick=\"convertToInteractive('df-8d2cbc1f-0204-491c-bf39-f1c9affe598f')\"\n",
              "              title=\"Convert this dataframe to an interactive table.\"\n",
              "              style=\"display:none;\">\n",
              "        \n",
              "  <svg xmlns=\"http://www.w3.org/2000/svg\" height=\"24px\"viewBox=\"0 0 24 24\"\n",
              "       width=\"24px\">\n",
              "    <path d=\"M0 0h24v24H0V0z\" fill=\"none\"/>\n",
              "    <path d=\"M18.56 5.44l.94 2.06.94-2.06 2.06-.94-2.06-.94-.94-2.06-.94 2.06-2.06.94zm-11 1L8.5 8.5l.94-2.06 2.06-.94-2.06-.94L8.5 2.5l-.94 2.06-2.06.94zm10 10l.94 2.06.94-2.06 2.06-.94-2.06-.94-.94-2.06-.94 2.06-2.06.94z\"/><path d=\"M17.41 7.96l-1.37-1.37c-.4-.4-.92-.59-1.43-.59-.52 0-1.04.2-1.43.59L10.3 9.45l-7.72 7.72c-.78.78-.78 2.05 0 2.83L4 21.41c.39.39.9.59 1.41.59.51 0 1.02-.2 1.41-.59l7.78-7.78 2.81-2.81c.8-.78.8-2.07 0-2.86zM5.41 20L4 18.59l7.72-7.72 1.47 1.35L5.41 20z\"/>\n",
              "  </svg>\n",
              "      </button>\n",
              "      \n",
              "  <style>\n",
              "    .colab-df-container {\n",
              "      display:flex;\n",
              "      flex-wrap:wrap;\n",
              "      gap: 12px;\n",
              "    }\n",
              "\n",
              "    .colab-df-convert {\n",
              "      background-color: #E8F0FE;\n",
              "      border: none;\n",
              "      border-radius: 50%;\n",
              "      cursor: pointer;\n",
              "      display: none;\n",
              "      fill: #1967D2;\n",
              "      height: 32px;\n",
              "      padding: 0 0 0 0;\n",
              "      width: 32px;\n",
              "    }\n",
              "\n",
              "    .colab-df-convert:hover {\n",
              "      background-color: #E2EBFA;\n",
              "      box-shadow: 0px 1px 2px rgba(60, 64, 67, 0.3), 0px 1px 3px 1px rgba(60, 64, 67, 0.15);\n",
              "      fill: #174EA6;\n",
              "    }\n",
              "\n",
              "    [theme=dark] .colab-df-convert {\n",
              "      background-color: #3B4455;\n",
              "      fill: #D2E3FC;\n",
              "    }\n",
              "\n",
              "    [theme=dark] .colab-df-convert:hover {\n",
              "      background-color: #434B5C;\n",
              "      box-shadow: 0px 1px 3px 1px rgba(0, 0, 0, 0.15);\n",
              "      filter: drop-shadow(0px 1px 2px rgba(0, 0, 0, 0.3));\n",
              "      fill: #FFFFFF;\n",
              "    }\n",
              "  </style>\n",
              "\n",
              "      <script>\n",
              "        const buttonEl =\n",
              "          document.querySelector('#df-8d2cbc1f-0204-491c-bf39-f1c9affe598f button.colab-df-convert');\n",
              "        buttonEl.style.display =\n",
              "          google.colab.kernel.accessAllowed ? 'block' : 'none';\n",
              "\n",
              "        async function convertToInteractive(key) {\n",
              "          const element = document.querySelector('#df-8d2cbc1f-0204-491c-bf39-f1c9affe598f');\n",
              "          const dataTable =\n",
              "            await google.colab.kernel.invokeFunction('convertToInteractive',\n",
              "                                                     [key], {});\n",
              "          if (!dataTable) return;\n",
              "\n",
              "          const docLinkHtml = 'Like what you see? Visit the ' +\n",
              "            '<a target=\"_blank\" href=https://colab.research.google.com/notebooks/data_table.ipynb>data table notebook</a>'\n",
              "            + ' to learn more about interactive tables.';\n",
              "          element.innerHTML = '';\n",
              "          dataTable['output_type'] = 'display_data';\n",
              "          await google.colab.output.renderOutput(dataTable, element);\n",
              "          const docLink = document.createElement('div');\n",
              "          docLink.innerHTML = docLinkHtml;\n",
              "          element.appendChild(docLink);\n",
              "        }\n",
              "      </script>\n",
              "    </div>\n",
              "  </div>\n",
              "  "
            ]
          },
          "metadata": {},
          "execution_count": 7
        }
      ]
    },
    {
      "cell_type": "code",
      "source": [
        "polyvore_outfit_titles_df['outfit_id'] = polyvore_outfit_titles_df.index\n",
        "polyvore_outfit_titles_df.reset_index(drop=True, inplace=True)"
      ],
      "metadata": {
        "id": "lHs7UDl7OmQF"
      },
      "execution_count": null,
      "outputs": []
    },
    {
      "cell_type": "code",
      "source": [
        "polyvore_outfit_titles_df.head(10)"
      ],
      "metadata": {
        "colab": {
          "base_uri": "https://localhost:8080/",
          "height": 322
        },
        "id": "fEZlsXWSQ2qR",
        "outputId": "f3faf5b2-5e8c-45b7-b788-45d027ecc7cd"
      },
      "execution_count": null,
      "outputs": [
        {
          "output_type": "execute_result",
          "data": {
            "text/plain": [
              "                                  url_name                       title  \\\n",
              "0               spring trend colored denim               Denim Jumpers   \n",
              "1            boot scootin outfit only 2500          Stacked-Heel Boots   \n",
              "2                         mermaid for life  \"Mermaid Hair, Don't Care\"   \n",
              "3             street style mini dress wrap               Blanket Wraps   \n",
              "4                       high waisted jeans   High-Waisted Skinny Jeans   \n",
              "5                         casual statement            Chambray Dresses   \n",
              "6  lake studio floral stitched embroidered           Embroidered Coats   \n",
              "7               spring date made my friend                 Friend Date   \n",
              "8                              pack go rio                         Rio   \n",
              "9                      heres to everything             Holiday Fun Run   \n",
              "\n",
              "   outfit_id  \n",
              "0  219779031  \n",
              "1  211158670  \n",
              "2  222049137  \n",
              "3  207880976  \n",
              "4  171638917  \n",
              "5   81476629  \n",
              "6  219905886  \n",
              "7  215768200  \n",
              "8  205180079  \n",
              "9   96522071  "
            ],
            "text/html": [
              "\n",
              "  <div id=\"df-7e79e69f-de01-41f6-a4e2-024282dfbbc9\">\n",
              "    <div class=\"colab-df-container\">\n",
              "      <div>\n",
              "<style scoped>\n",
              "    .dataframe tbody tr th:only-of-type {\n",
              "        vertical-align: middle;\n",
              "    }\n",
              "\n",
              "    .dataframe tbody tr th {\n",
              "        vertical-align: top;\n",
              "    }\n",
              "\n",
              "    .dataframe thead th {\n",
              "        text-align: right;\n",
              "    }\n",
              "</style>\n",
              "<table border=\"1\" class=\"dataframe\">\n",
              "  <thead>\n",
              "    <tr style=\"text-align: right;\">\n",
              "      <th></th>\n",
              "      <th>url_name</th>\n",
              "      <th>title</th>\n",
              "      <th>outfit_id</th>\n",
              "    </tr>\n",
              "  </thead>\n",
              "  <tbody>\n",
              "    <tr>\n",
              "      <th>0</th>\n",
              "      <td>spring trend colored denim</td>\n",
              "      <td>Denim Jumpers</td>\n",
              "      <td>219779031</td>\n",
              "    </tr>\n",
              "    <tr>\n",
              "      <th>1</th>\n",
              "      <td>boot scootin outfit only 2500</td>\n",
              "      <td>Stacked-Heel Boots</td>\n",
              "      <td>211158670</td>\n",
              "    </tr>\n",
              "    <tr>\n",
              "      <th>2</th>\n",
              "      <td>mermaid for life</td>\n",
              "      <td>\"Mermaid Hair, Don't Care\"</td>\n",
              "      <td>222049137</td>\n",
              "    </tr>\n",
              "    <tr>\n",
              "      <th>3</th>\n",
              "      <td>street style mini dress wrap</td>\n",
              "      <td>Blanket Wraps</td>\n",
              "      <td>207880976</td>\n",
              "    </tr>\n",
              "    <tr>\n",
              "      <th>4</th>\n",
              "      <td>high waisted jeans</td>\n",
              "      <td>High-Waisted Skinny Jeans</td>\n",
              "      <td>171638917</td>\n",
              "    </tr>\n",
              "    <tr>\n",
              "      <th>5</th>\n",
              "      <td>casual statement</td>\n",
              "      <td>Chambray Dresses</td>\n",
              "      <td>81476629</td>\n",
              "    </tr>\n",
              "    <tr>\n",
              "      <th>6</th>\n",
              "      <td>lake studio floral stitched embroidered</td>\n",
              "      <td>Embroidered Coats</td>\n",
              "      <td>219905886</td>\n",
              "    </tr>\n",
              "    <tr>\n",
              "      <th>7</th>\n",
              "      <td>spring date made my friend</td>\n",
              "      <td>Friend Date</td>\n",
              "      <td>215768200</td>\n",
              "    </tr>\n",
              "    <tr>\n",
              "      <th>8</th>\n",
              "      <td>pack go rio</td>\n",
              "      <td>Rio</td>\n",
              "      <td>205180079</td>\n",
              "    </tr>\n",
              "    <tr>\n",
              "      <th>9</th>\n",
              "      <td>heres to everything</td>\n",
              "      <td>Holiday Fun Run</td>\n",
              "      <td>96522071</td>\n",
              "    </tr>\n",
              "  </tbody>\n",
              "</table>\n",
              "</div>\n",
              "      <button class=\"colab-df-convert\" onclick=\"convertToInteractive('df-7e79e69f-de01-41f6-a4e2-024282dfbbc9')\"\n",
              "              title=\"Convert this dataframe to an interactive table.\"\n",
              "              style=\"display:none;\">\n",
              "        \n",
              "  <svg xmlns=\"http://www.w3.org/2000/svg\" height=\"24px\"viewBox=\"0 0 24 24\"\n",
              "       width=\"24px\">\n",
              "    <path d=\"M0 0h24v24H0V0z\" fill=\"none\"/>\n",
              "    <path d=\"M18.56 5.44l.94 2.06.94-2.06 2.06-.94-2.06-.94-.94-2.06-.94 2.06-2.06.94zm-11 1L8.5 8.5l.94-2.06 2.06-.94-2.06-.94L8.5 2.5l-.94 2.06-2.06.94zm10 10l.94 2.06.94-2.06 2.06-.94-2.06-.94-.94-2.06-.94 2.06-2.06.94z\"/><path d=\"M17.41 7.96l-1.37-1.37c-.4-.4-.92-.59-1.43-.59-.52 0-1.04.2-1.43.59L10.3 9.45l-7.72 7.72c-.78.78-.78 2.05 0 2.83L4 21.41c.39.39.9.59 1.41.59.51 0 1.02-.2 1.41-.59l7.78-7.78 2.81-2.81c.8-.78.8-2.07 0-2.86zM5.41 20L4 18.59l7.72-7.72 1.47 1.35L5.41 20z\"/>\n",
              "  </svg>\n",
              "      </button>\n",
              "      \n",
              "  <style>\n",
              "    .colab-df-container {\n",
              "      display:flex;\n",
              "      flex-wrap:wrap;\n",
              "      gap: 12px;\n",
              "    }\n",
              "\n",
              "    .colab-df-convert {\n",
              "      background-color: #E8F0FE;\n",
              "      border: none;\n",
              "      border-radius: 50%;\n",
              "      cursor: pointer;\n",
              "      display: none;\n",
              "      fill: #1967D2;\n",
              "      height: 32px;\n",
              "      padding: 0 0 0 0;\n",
              "      width: 32px;\n",
              "    }\n",
              "\n",
              "    .colab-df-convert:hover {\n",
              "      background-color: #E2EBFA;\n",
              "      box-shadow: 0px 1px 2px rgba(60, 64, 67, 0.3), 0px 1px 3px 1px rgba(60, 64, 67, 0.15);\n",
              "      fill: #174EA6;\n",
              "    }\n",
              "\n",
              "    [theme=dark] .colab-df-convert {\n",
              "      background-color: #3B4455;\n",
              "      fill: #D2E3FC;\n",
              "    }\n",
              "\n",
              "    [theme=dark] .colab-df-convert:hover {\n",
              "      background-color: #434B5C;\n",
              "      box-shadow: 0px 1px 3px 1px rgba(0, 0, 0, 0.15);\n",
              "      filter: drop-shadow(0px 1px 2px rgba(0, 0, 0, 0.3));\n",
              "      fill: #FFFFFF;\n",
              "    }\n",
              "  </style>\n",
              "\n",
              "      <script>\n",
              "        const buttonEl =\n",
              "          document.querySelector('#df-7e79e69f-de01-41f6-a4e2-024282dfbbc9 button.colab-df-convert');\n",
              "        buttonEl.style.display =\n",
              "          google.colab.kernel.accessAllowed ? 'block' : 'none';\n",
              "\n",
              "        async function convertToInteractive(key) {\n",
              "          const element = document.querySelector('#df-7e79e69f-de01-41f6-a4e2-024282dfbbc9');\n",
              "          const dataTable =\n",
              "            await google.colab.kernel.invokeFunction('convertToInteractive',\n",
              "                                                     [key], {});\n",
              "          if (!dataTable) return;\n",
              "\n",
              "          const docLinkHtml = 'Like what you see? Visit the ' +\n",
              "            '<a target=\"_blank\" href=https://colab.research.google.com/notebooks/data_table.ipynb>data table notebook</a>'\n",
              "            + ' to learn more about interactive tables.';\n",
              "          element.innerHTML = '';\n",
              "          dataTable['output_type'] = 'display_data';\n",
              "          await google.colab.output.renderOutput(dataTable, element);\n",
              "          const docLink = document.createElement('div');\n",
              "          docLink.innerHTML = docLinkHtml;\n",
              "          element.appendChild(docLink);\n",
              "        }\n",
              "      </script>\n",
              "    </div>\n",
              "  </div>\n",
              "  "
            ]
          },
          "metadata": {},
          "execution_count": 9
        }
      ]
    },
    {
      "cell_type": "code",
      "source": [
        "print(f'Total number of outfits = {polyvore_outfit_titles_df.shape[0]}')"
      ],
      "metadata": {
        "colab": {
          "base_uri": "https://localhost:8080/"
        },
        "id": "M35oDHbkZP0f",
        "outputId": "fb375d1b-4686-4c8c-aa4d-b4b9674ae528"
      },
      "execution_count": null,
      "outputs": [
        {
          "output_type": "stream",
          "name": "stdout",
          "text": [
            "Total number of outfits = 68306\n"
          ]
        }
      ]
    },
    {
      "cell_type": "markdown",
      "source": [
        "#### Make CSV"
      ],
      "metadata": {
        "id": "RQ7HXYM_ORYQ"
      }
    },
    {
      "cell_type": "code",
      "source": [
        "polyvore_outfit_titles_df.to_csv('/content/drive/MyDrive/Outfit_Recommendation_Project/Data_CSV_Files/outfit_titles.csv', index=False)"
      ],
      "metadata": {
        "id": "rJbApT7DORYT"
      },
      "execution_count": null,
      "outputs": []
    },
    {
      "cell_type": "markdown",
      "source": [
        "### polyvore_item_metadata.json"
      ],
      "metadata": {
        "id": "f64zMGl6QXvD"
      }
    },
    {
      "cell_type": "markdown",
      "source": [
        "* <font color='pink'><font size=4> create a dataframe of clothes items(images) and their info </font>"
      ],
      "metadata": {
        "id": "PjTCVbR3whV7"
      }
    },
    {
      "cell_type": "code",
      "source": [
        "polyvore_item_metadata_df = pd.read_json('/content/polyvore_outfits/polyvore_item_metadata.json')\n",
        "polyvore_item_metadata_df"
      ],
      "metadata": {
        "colab": {
          "base_uri": "https://localhost:8080/",
          "height": 796
        },
        "id": "klRmXOqIQhHK",
        "outputId": "788d68fd-98c7-4fb2-8c8b-27e8642c2aec"
      },
      "execution_count": null,
      "outputs": [
        {
          "output_type": "execute_result",
          "data": {
            "text/plain": [
              "                                      211990161  \\\n",
              "url_name           neck print chiffon plus size   \n",
              "description                                       \n",
              "catgeories                                        \n",
              "title                                             \n",
              "related                                           \n",
              "category_id                                  15   \n",
              "semantic_category                          tops   \n",
              "\n",
              "                                                           183179503  \\\n",
              "url_name               christian pellizzari floral jacquard trousers   \n",
              "description        Gold and black silk blend floral jacquard trou...   \n",
              "catgeories         [Women's Fashion, Clothing, Pants, Christian P...   \n",
              "title                  Christian Pellizzari floral jacquard trousers   \n",
              "related            [Floral pants, Grey pants, Print pants, Patter...   \n",
              "category_id                                                       28   \n",
              "semantic_category                                            bottoms   \n",
              "\n",
              "                                             152771755  \\\n",
              "url_name           natures jewelry stainless steel not   \n",
              "description                                              \n",
              "catgeories                                               \n",
              "title                                                    \n",
              "related                                                  \n",
              "category_id                                         65   \n",
              "semantic_category                            jewellery   \n",
              "\n",
              "                                                           190445143  \\\n",
              "url_name                             balmain women high waist flared   \n",
              "description        Decorative gold colored buttons with lion deta...   \n",
              "catgeories         [Women's Fashion, Clothing, Pants, Balmain pants]   \n",
              "title                     Balmain Women High Waist Flared Knit Pants   \n",
              "related            [Balmain, Flared pants, High-waisted pants, Kn...   \n",
              "category_id                                                       28   \n",
              "semantic_category                                            bottoms   \n",
              "\n",
              "                                                           211444470  \\\n",
              "url_name                               acler orson high waist belted   \n",
              "description        This Acler Orson High Waist Belted Short featu...   \n",
              "catgeories         [Women's Fashion, Clothing, Shorts, Marissa We...   \n",
              "title                            Acler Orson High Waist Belted Short   \n",
              "related            [Short shorts, High-waisted shorts, High rise ...   \n",
              "category_id                                                       29   \n",
              "semantic_category                                            bottoms   \n",
              "\n",
              "                                                           192704091  \\\n",
              "url_name                  christian louboutin girlystrappi bow 100mm   \n",
              "description        Christian Louboutin patent leather and denim s...   \n",
              "catgeories         [Women's Fashion, Shoes, Sandals, Christian Lo...   \n",
              "title              Christian Louboutin Girlystrappi Bow 100mm Red...   \n",
              "related            [Christian Louboutin, Red sole shoes, Patent l...   \n",
              "category_id                                                       46   \n",
              "semantic_category                                              shoes   \n",
              "\n",
              "                                        117334561  \\\n",
              "url_name           sacai luck cable knit cardigan   \n",
              "description                                         \n",
              "catgeories                                          \n",
              "title                                               \n",
              "related                                             \n",
              "category_id                                    18   \n",
              "semantic_category                       outerwear   \n",
              "\n",
              "                                                           127403908  \\\n",
              "url_name                                lapel loose woolen pink coat   \n",
              "description        Pink Plain Coats Woolen Polyester Collar Fashi...   \n",
              "catgeories             [Women's Fashion, Clothing, Outerwear, Coats]   \n",
              "title                                   Lapel Loose Woolen Pink Coat   \n",
              "related            [Woolen coat, Pink coat, Fur-collar wool coats...   \n",
              "category_id                                                       24   \n",
              "semantic_category                                          outerwear   \n",
              "\n",
              "                                                           149817672  \\\n",
              "url_name                             dolce gabbana roll neck sweater   \n",
              "description        Black cashmere roll neck sweater  from Dolce &...   \n",
              "catgeories         [Women's Fashion, Tops, Sweaters, Dolce&Gabban...   \n",
              "title                              Dolce & Gabbana roll neck sweater   \n",
              "related            [Dolce&Gabbana, Long sleeve tops, Rollneck swe...   \n",
              "category_id                                                       19   \n",
              "semantic_category                                               tops   \n",
              "\n",
              "                                        210309753  ...  \\\n",
              "url_name           rhinestone devil eye box chain  ...   \n",
              "description                                        ...   \n",
              "catgeories                                         ...   \n",
              "title                                              ...   \n",
              "related                                            ...   \n",
              "category_id                                   106  ...   \n",
              "semantic_category                       jewellery  ...   \n",
              "\n",
              "                                                           201233356  \\\n",
              "url_name                   pre-owned giuseppe zanotti suede platform   \n",
              "description        Purple suede Giuseppe Zanotti platform sandals...   \n",
              "catgeories         [Women's Fashion, Shoes, Sandals, Giuseppe Zan...   \n",
              "title              Pre-owned Giuseppe Zanotti Suede Platform Sandals   \n",
              "related            [Giuseppe Zanotti, Suede shoes, Purple shoes, ...   \n",
              "category_id                                                       46   \n",
              "semantic_category                                              shoes   \n",
              "\n",
              "                                         129890527  \\\n",
              "url_name           raga statement pendant necklace   \n",
              "description                                          \n",
              "catgeories                                           \n",
              "title                                                \n",
              "related                                              \n",
              "category_id                                     62   \n",
              "semantic_category                        jewellery   \n",
              "\n",
              "                                    197205553  \\\n",
              "url_name           belated punk zip up jacket   \n",
              "description                                     \n",
              "catgeories                                      \n",
              "title                                           \n",
              "related                                         \n",
              "category_id                                25   \n",
              "semantic_category                   outerwear   \n",
              "\n",
              "                                                           142700536  \\\n",
              "url_name                             red faux suede polished strappy   \n",
              "description        Make sure to add these sexy heels to your coll...   \n",
              "catgeories                           [Women's Fashion, Shoes, Pumps]   \n",
              "title                 Red Faux Suede Polished Strappy Peep Toe Heels   \n",
              "related            [Platform pumps, Red pumps, Peep toe pumps, Hi...   \n",
              "category_id                                                       43   \n",
              "semantic_category                                              shoes   \n",
              "\n",
              "                                                    192169702  \\\n",
              "url_name           jean skinny empi%C3%A8cement brod%C3%A9 la   \n",
              "description                                                     \n",
              "catgeories                                                      \n",
              "title                                                           \n",
              "related                                                         \n",
              "category_id                                               237   \n",
              "semantic_category                                     bottoms   \n",
              "\n",
              "                                                           108411005  \\\n",
              "url_name                       arnica embellished hand painted skirt   \n",
              "description        Shop Stella Jean in our expertly curated in-se...   \n",
              "catgeories         [Women's Fashion, Clothing, Skirts, Knee Lengt...   \n",
              "title                          Arnica Embellished Hand Painted Skirt   \n",
              "related                               [Red skirt, Embellished skirt]   \n",
              "category_id                                                        9   \n",
              "semantic_category                                            bottoms   \n",
              "\n",
              "                                        212452593  \\\n",
              "url_name           thom browne little boy knitted   \n",
              "description                                         \n",
              "catgeories                                          \n",
              "title                                               \n",
              "related                                             \n",
              "category_id                                   236   \n",
              "semantic_category                       outerwear   \n",
              "\n",
              "                                           208651882  \\\n",
              "url_name           colorful vortex print shawl scarf   \n",
              "description                                            \n",
              "catgeories                                             \n",
              "title                                                  \n",
              "related                                                \n",
              "category_id                                      105   \n",
              "semantic_category                            scarves   \n",
              "\n",
              "                                          209210426  \\\n",
              "url_name           floral embroidered mesh see thru   \n",
              "description                                           \n",
              "catgeories                                            \n",
              "title                                                 \n",
              "related                                               \n",
              "category_id                                      11   \n",
              "semantic_category                              tops   \n",
              "\n",
              "                                                 181567392  \n",
              "url_name           shein sheinside extreme destroyed denim  \n",
              "description                                                 \n",
              "catgeories                                                  \n",
              "title                                                       \n",
              "related                                                     \n",
              "category_id                                             25  \n",
              "semantic_category                                outerwear  \n",
              "\n",
              "[7 rows x 251008 columns]"
            ],
            "text/html": [
              "\n",
              "  <div id=\"df-aa48a208-4c09-4baf-95a9-04e28c20c4d0\">\n",
              "    <div class=\"colab-df-container\">\n",
              "      <div>\n",
              "<style scoped>\n",
              "    .dataframe tbody tr th:only-of-type {\n",
              "        vertical-align: middle;\n",
              "    }\n",
              "\n",
              "    .dataframe tbody tr th {\n",
              "        vertical-align: top;\n",
              "    }\n",
              "\n",
              "    .dataframe thead th {\n",
              "        text-align: right;\n",
              "    }\n",
              "</style>\n",
              "<table border=\"1\" class=\"dataframe\">\n",
              "  <thead>\n",
              "    <tr style=\"text-align: right;\">\n",
              "      <th></th>\n",
              "      <th>211990161</th>\n",
              "      <th>183179503</th>\n",
              "      <th>152771755</th>\n",
              "      <th>190445143</th>\n",
              "      <th>211444470</th>\n",
              "      <th>192704091</th>\n",
              "      <th>117334561</th>\n",
              "      <th>127403908</th>\n",
              "      <th>149817672</th>\n",
              "      <th>210309753</th>\n",
              "      <th>...</th>\n",
              "      <th>201233356</th>\n",
              "      <th>129890527</th>\n",
              "      <th>197205553</th>\n",
              "      <th>142700536</th>\n",
              "      <th>192169702</th>\n",
              "      <th>108411005</th>\n",
              "      <th>212452593</th>\n",
              "      <th>208651882</th>\n",
              "      <th>209210426</th>\n",
              "      <th>181567392</th>\n",
              "    </tr>\n",
              "  </thead>\n",
              "  <tbody>\n",
              "    <tr>\n",
              "      <th>url_name</th>\n",
              "      <td>neck print chiffon plus size</td>\n",
              "      <td>christian pellizzari floral jacquard trousers</td>\n",
              "      <td>natures jewelry stainless steel not</td>\n",
              "      <td>balmain women high waist flared</td>\n",
              "      <td>acler orson high waist belted</td>\n",
              "      <td>christian louboutin girlystrappi bow 100mm</td>\n",
              "      <td>sacai luck cable knit cardigan</td>\n",
              "      <td>lapel loose woolen pink coat</td>\n",
              "      <td>dolce gabbana roll neck sweater</td>\n",
              "      <td>rhinestone devil eye box chain</td>\n",
              "      <td>...</td>\n",
              "      <td>pre-owned giuseppe zanotti suede platform</td>\n",
              "      <td>raga statement pendant necklace</td>\n",
              "      <td>belated punk zip up jacket</td>\n",
              "      <td>red faux suede polished strappy</td>\n",
              "      <td>jean skinny empi%C3%A8cement brod%C3%A9 la</td>\n",
              "      <td>arnica embellished hand painted skirt</td>\n",
              "      <td>thom browne little boy knitted</td>\n",
              "      <td>colorful vortex print shawl scarf</td>\n",
              "      <td>floral embroidered mesh see thru</td>\n",
              "      <td>shein sheinside extreme destroyed denim</td>\n",
              "    </tr>\n",
              "    <tr>\n",
              "      <th>description</th>\n",
              "      <td></td>\n",
              "      <td>Gold and black silk blend floral jacquard trou...</td>\n",
              "      <td></td>\n",
              "      <td>Decorative gold colored buttons with lion deta...</td>\n",
              "      <td>This Acler Orson High Waist Belted Short featu...</td>\n",
              "      <td>Christian Louboutin patent leather and denim s...</td>\n",
              "      <td></td>\n",
              "      <td>Pink Plain Coats Woolen Polyester Collar Fashi...</td>\n",
              "      <td>Black cashmere roll neck sweater  from Dolce &amp;...</td>\n",
              "      <td></td>\n",
              "      <td>...</td>\n",
              "      <td>Purple suede Giuseppe Zanotti platform sandals...</td>\n",
              "      <td></td>\n",
              "      <td></td>\n",
              "      <td>Make sure to add these sexy heels to your coll...</td>\n",
              "      <td></td>\n",
              "      <td>Shop Stella Jean in our expertly curated in-se...</td>\n",
              "      <td></td>\n",
              "      <td></td>\n",
              "      <td></td>\n",
              "      <td></td>\n",
              "    </tr>\n",
              "    <tr>\n",
              "      <th>catgeories</th>\n",
              "      <td></td>\n",
              "      <td>[Women's Fashion, Clothing, Pants, Christian P...</td>\n",
              "      <td></td>\n",
              "      <td>[Women's Fashion, Clothing, Pants, Balmain pants]</td>\n",
              "      <td>[Women's Fashion, Clothing, Shorts, Marissa We...</td>\n",
              "      <td>[Women's Fashion, Shoes, Sandals, Christian Lo...</td>\n",
              "      <td></td>\n",
              "      <td>[Women's Fashion, Clothing, Outerwear, Coats]</td>\n",
              "      <td>[Women's Fashion, Tops, Sweaters, Dolce&amp;Gabban...</td>\n",
              "      <td></td>\n",
              "      <td>...</td>\n",
              "      <td>[Women's Fashion, Shoes, Sandals, Giuseppe Zan...</td>\n",
              "      <td></td>\n",
              "      <td></td>\n",
              "      <td>[Women's Fashion, Shoes, Pumps]</td>\n",
              "      <td></td>\n",
              "      <td>[Women's Fashion, Clothing, Skirts, Knee Lengt...</td>\n",
              "      <td></td>\n",
              "      <td></td>\n",
              "      <td></td>\n",
              "      <td></td>\n",
              "    </tr>\n",
              "    <tr>\n",
              "      <th>title</th>\n",
              "      <td></td>\n",
              "      <td>Christian Pellizzari floral jacquard trousers</td>\n",
              "      <td></td>\n",
              "      <td>Balmain Women High Waist Flared Knit Pants</td>\n",
              "      <td>Acler Orson High Waist Belted Short</td>\n",
              "      <td>Christian Louboutin Girlystrappi Bow 100mm Red...</td>\n",
              "      <td></td>\n",
              "      <td>Lapel Loose Woolen Pink Coat</td>\n",
              "      <td>Dolce &amp; Gabbana roll neck sweater</td>\n",
              "      <td></td>\n",
              "      <td>...</td>\n",
              "      <td>Pre-owned Giuseppe Zanotti Suede Platform Sandals</td>\n",
              "      <td></td>\n",
              "      <td></td>\n",
              "      <td>Red Faux Suede Polished Strappy Peep Toe Heels</td>\n",
              "      <td></td>\n",
              "      <td>Arnica Embellished Hand Painted Skirt</td>\n",
              "      <td></td>\n",
              "      <td></td>\n",
              "      <td></td>\n",
              "      <td></td>\n",
              "    </tr>\n",
              "    <tr>\n",
              "      <th>related</th>\n",
              "      <td></td>\n",
              "      <td>[Floral pants, Grey pants, Print pants, Patter...</td>\n",
              "      <td></td>\n",
              "      <td>[Balmain, Flared pants, High-waisted pants, Kn...</td>\n",
              "      <td>[Short shorts, High-waisted shorts, High rise ...</td>\n",
              "      <td>[Christian Louboutin, Red sole shoes, Patent l...</td>\n",
              "      <td></td>\n",
              "      <td>[Woolen coat, Pink coat, Fur-collar wool coats...</td>\n",
              "      <td>[Dolce&amp;Gabbana, Long sleeve tops, Rollneck swe...</td>\n",
              "      <td></td>\n",
              "      <td>...</td>\n",
              "      <td>[Giuseppe Zanotti, Suede shoes, Purple shoes, ...</td>\n",
              "      <td></td>\n",
              "      <td></td>\n",
              "      <td>[Platform pumps, Red pumps, Peep toe pumps, Hi...</td>\n",
              "      <td></td>\n",
              "      <td>[Red skirt, Embellished skirt]</td>\n",
              "      <td></td>\n",
              "      <td></td>\n",
              "      <td></td>\n",
              "      <td></td>\n",
              "    </tr>\n",
              "    <tr>\n",
              "      <th>category_id</th>\n",
              "      <td>15</td>\n",
              "      <td>28</td>\n",
              "      <td>65</td>\n",
              "      <td>28</td>\n",
              "      <td>29</td>\n",
              "      <td>46</td>\n",
              "      <td>18</td>\n",
              "      <td>24</td>\n",
              "      <td>19</td>\n",
              "      <td>106</td>\n",
              "      <td>...</td>\n",
              "      <td>46</td>\n",
              "      <td>62</td>\n",
              "      <td>25</td>\n",
              "      <td>43</td>\n",
              "      <td>237</td>\n",
              "      <td>9</td>\n",
              "      <td>236</td>\n",
              "      <td>105</td>\n",
              "      <td>11</td>\n",
              "      <td>25</td>\n",
              "    </tr>\n",
              "    <tr>\n",
              "      <th>semantic_category</th>\n",
              "      <td>tops</td>\n",
              "      <td>bottoms</td>\n",
              "      <td>jewellery</td>\n",
              "      <td>bottoms</td>\n",
              "      <td>bottoms</td>\n",
              "      <td>shoes</td>\n",
              "      <td>outerwear</td>\n",
              "      <td>outerwear</td>\n",
              "      <td>tops</td>\n",
              "      <td>jewellery</td>\n",
              "      <td>...</td>\n",
              "      <td>shoes</td>\n",
              "      <td>jewellery</td>\n",
              "      <td>outerwear</td>\n",
              "      <td>shoes</td>\n",
              "      <td>bottoms</td>\n",
              "      <td>bottoms</td>\n",
              "      <td>outerwear</td>\n",
              "      <td>scarves</td>\n",
              "      <td>tops</td>\n",
              "      <td>outerwear</td>\n",
              "    </tr>\n",
              "  </tbody>\n",
              "</table>\n",
              "<p>7 rows × 251008 columns</p>\n",
              "</div>\n",
              "      <button class=\"colab-df-convert\" onclick=\"convertToInteractive('df-aa48a208-4c09-4baf-95a9-04e28c20c4d0')\"\n",
              "              title=\"Convert this dataframe to an interactive table.\"\n",
              "              style=\"display:none;\">\n",
              "        \n",
              "  <svg xmlns=\"http://www.w3.org/2000/svg\" height=\"24px\"viewBox=\"0 0 24 24\"\n",
              "       width=\"24px\">\n",
              "    <path d=\"M0 0h24v24H0V0z\" fill=\"none\"/>\n",
              "    <path d=\"M18.56 5.44l.94 2.06.94-2.06 2.06-.94-2.06-.94-.94-2.06-.94 2.06-2.06.94zm-11 1L8.5 8.5l.94-2.06 2.06-.94-2.06-.94L8.5 2.5l-.94 2.06-2.06.94zm10 10l.94 2.06.94-2.06 2.06-.94-2.06-.94-.94-2.06-.94 2.06-2.06.94z\"/><path d=\"M17.41 7.96l-1.37-1.37c-.4-.4-.92-.59-1.43-.59-.52 0-1.04.2-1.43.59L10.3 9.45l-7.72 7.72c-.78.78-.78 2.05 0 2.83L4 21.41c.39.39.9.59 1.41.59.51 0 1.02-.2 1.41-.59l7.78-7.78 2.81-2.81c.8-.78.8-2.07 0-2.86zM5.41 20L4 18.59l7.72-7.72 1.47 1.35L5.41 20z\"/>\n",
              "  </svg>\n",
              "      </button>\n",
              "      \n",
              "  <style>\n",
              "    .colab-df-container {\n",
              "      display:flex;\n",
              "      flex-wrap:wrap;\n",
              "      gap: 12px;\n",
              "    }\n",
              "\n",
              "    .colab-df-convert {\n",
              "      background-color: #E8F0FE;\n",
              "      border: none;\n",
              "      border-radius: 50%;\n",
              "      cursor: pointer;\n",
              "      display: none;\n",
              "      fill: #1967D2;\n",
              "      height: 32px;\n",
              "      padding: 0 0 0 0;\n",
              "      width: 32px;\n",
              "    }\n",
              "\n",
              "    .colab-df-convert:hover {\n",
              "      background-color: #E2EBFA;\n",
              "      box-shadow: 0px 1px 2px rgba(60, 64, 67, 0.3), 0px 1px 3px 1px rgba(60, 64, 67, 0.15);\n",
              "      fill: #174EA6;\n",
              "    }\n",
              "\n",
              "    [theme=dark] .colab-df-convert {\n",
              "      background-color: #3B4455;\n",
              "      fill: #D2E3FC;\n",
              "    }\n",
              "\n",
              "    [theme=dark] .colab-df-convert:hover {\n",
              "      background-color: #434B5C;\n",
              "      box-shadow: 0px 1px 3px 1px rgba(0, 0, 0, 0.15);\n",
              "      filter: drop-shadow(0px 1px 2px rgba(0, 0, 0, 0.3));\n",
              "      fill: #FFFFFF;\n",
              "    }\n",
              "  </style>\n",
              "\n",
              "      <script>\n",
              "        const buttonEl =\n",
              "          document.querySelector('#df-aa48a208-4c09-4baf-95a9-04e28c20c4d0 button.colab-df-convert');\n",
              "        buttonEl.style.display =\n",
              "          google.colab.kernel.accessAllowed ? 'block' : 'none';\n",
              "\n",
              "        async function convertToInteractive(key) {\n",
              "          const element = document.querySelector('#df-aa48a208-4c09-4baf-95a9-04e28c20c4d0');\n",
              "          const dataTable =\n",
              "            await google.colab.kernel.invokeFunction('convertToInteractive',\n",
              "                                                     [key], {});\n",
              "          if (!dataTable) return;\n",
              "\n",
              "          const docLinkHtml = 'Like what you see? Visit the ' +\n",
              "            '<a target=\"_blank\" href=https://colab.research.google.com/notebooks/data_table.ipynb>data table notebook</a>'\n",
              "            + ' to learn more about interactive tables.';\n",
              "          element.innerHTML = '';\n",
              "          dataTable['output_type'] = 'display_data';\n",
              "          await google.colab.output.renderOutput(dataTable, element);\n",
              "          const docLink = document.createElement('div');\n",
              "          docLink.innerHTML = docLinkHtml;\n",
              "          element.appendChild(docLink);\n",
              "        }\n",
              "      </script>\n",
              "    </div>\n",
              "  </div>\n",
              "  "
            ]
          },
          "metadata": {},
          "execution_count": 27
        }
      ]
    },
    {
      "cell_type": "code",
      "source": [
        "polyvore_item_metadata_df = polyvore_item_metadata_df.T\n",
        "polyvore_item_metadata_df['item_id'] = polyvore_item_metadata_df.index\n",
        "polyvore_item_metadata_df.reset_index(drop=True, inplace=True)"
      ],
      "metadata": {
        "id": "li0-eq6HSJEg"
      },
      "execution_count": null,
      "outputs": []
    },
    {
      "cell_type": "code",
      "source": [
        "polyvore_item_metadata_df"
      ],
      "metadata": {
        "colab": {
          "base_uri": "https://localhost:8080/",
          "height": 728
        },
        "id": "OM7QO8yFTFLo",
        "outputId": "c46683a5-f905-4333-9a95-5cca3fec3319"
      },
      "execution_count": null,
      "outputs": [
        {
          "output_type": "execute_result",
          "data": {
            "text/plain": [
              "                                             url_name  \\\n",
              "0                        neck print chiffon plus size   \n",
              "1       christian pellizzari floral jacquard trousers   \n",
              "2                 natures jewelry stainless steel not   \n",
              "3                     balmain women high waist flared   \n",
              "4                       acler orson high waist belted   \n",
              "...                                               ...   \n",
              "251003          arnica embellished hand painted skirt   \n",
              "251004                 thom browne little boy knitted   \n",
              "251005              colorful vortex print shawl scarf   \n",
              "251006               floral embroidered mesh see thru   \n",
              "251007        shein sheinside extreme destroyed denim   \n",
              "\n",
              "                                              description  \\\n",
              "0                                                           \n",
              "1       Gold and black silk blend floral jacquard trou...   \n",
              "2                                                           \n",
              "3       Decorative gold colored buttons with lion deta...   \n",
              "4       This Acler Orson High Waist Belted Short featu...   \n",
              "...                                                   ...   \n",
              "251003  Shop Stella Jean in our expertly curated in-se...   \n",
              "251004                                                      \n",
              "251005                                                      \n",
              "251006                                                      \n",
              "251007                                                      \n",
              "\n",
              "                                               catgeories  \\\n",
              "0                                                           \n",
              "1       [Women's Fashion, Clothing, Pants, Christian P...   \n",
              "2                                                           \n",
              "3       [Women's Fashion, Clothing, Pants, Balmain pants]   \n",
              "4       [Women's Fashion, Clothing, Shorts, Marissa We...   \n",
              "...                                                   ...   \n",
              "251003  [Women's Fashion, Clothing, Skirts, Knee Lengt...   \n",
              "251004                                                      \n",
              "251005                                                      \n",
              "251006                                                      \n",
              "251007                                                      \n",
              "\n",
              "                                                title  \\\n",
              "0                                                       \n",
              "1       Christian Pellizzari floral jacquard trousers   \n",
              "2                                                       \n",
              "3          Balmain Women High Waist Flared Knit Pants   \n",
              "4                 Acler Orson High Waist Belted Short   \n",
              "...                                               ...   \n",
              "251003          Arnica Embellished Hand Painted Skirt   \n",
              "251004                                                  \n",
              "251005                                                  \n",
              "251006                                                  \n",
              "251007                                                  \n",
              "\n",
              "                                                  related category_id  \\\n",
              "0                                                                  15   \n",
              "1       [Floral pants, Grey pants, Print pants, Patter...          28   \n",
              "2                                                                  65   \n",
              "3       [Balmain, Flared pants, High-waisted pants, Kn...          28   \n",
              "4       [Short shorts, High-waisted shorts, High rise ...          29   \n",
              "...                                                   ...         ...   \n",
              "251003                     [Red skirt, Embellished skirt]           9   \n",
              "251004                                                            236   \n",
              "251005                                                            105   \n",
              "251006                                                             11   \n",
              "251007                                                             25   \n",
              "\n",
              "       semantic_category    item_id  \n",
              "0                   tops  211990161  \n",
              "1                bottoms  183179503  \n",
              "2              jewellery  152771755  \n",
              "3                bottoms  190445143  \n",
              "4                bottoms  211444470  \n",
              "...                  ...        ...  \n",
              "251003           bottoms  108411005  \n",
              "251004         outerwear  212452593  \n",
              "251005           scarves  208651882  \n",
              "251006              tops  209210426  \n",
              "251007         outerwear  181567392  \n",
              "\n",
              "[251008 rows x 8 columns]"
            ],
            "text/html": [
              "\n",
              "  <div id=\"df-d0ece8ec-31ff-4593-b309-6c47fb790869\">\n",
              "    <div class=\"colab-df-container\">\n",
              "      <div>\n",
              "<style scoped>\n",
              "    .dataframe tbody tr th:only-of-type {\n",
              "        vertical-align: middle;\n",
              "    }\n",
              "\n",
              "    .dataframe tbody tr th {\n",
              "        vertical-align: top;\n",
              "    }\n",
              "\n",
              "    .dataframe thead th {\n",
              "        text-align: right;\n",
              "    }\n",
              "</style>\n",
              "<table border=\"1\" class=\"dataframe\">\n",
              "  <thead>\n",
              "    <tr style=\"text-align: right;\">\n",
              "      <th></th>\n",
              "      <th>url_name</th>\n",
              "      <th>description</th>\n",
              "      <th>catgeories</th>\n",
              "      <th>title</th>\n",
              "      <th>related</th>\n",
              "      <th>category_id</th>\n",
              "      <th>semantic_category</th>\n",
              "      <th>item_id</th>\n",
              "    </tr>\n",
              "  </thead>\n",
              "  <tbody>\n",
              "    <tr>\n",
              "      <th>0</th>\n",
              "      <td>neck print chiffon plus size</td>\n",
              "      <td></td>\n",
              "      <td></td>\n",
              "      <td></td>\n",
              "      <td></td>\n",
              "      <td>15</td>\n",
              "      <td>tops</td>\n",
              "      <td>211990161</td>\n",
              "    </tr>\n",
              "    <tr>\n",
              "      <th>1</th>\n",
              "      <td>christian pellizzari floral jacquard trousers</td>\n",
              "      <td>Gold and black silk blend floral jacquard trou...</td>\n",
              "      <td>[Women's Fashion, Clothing, Pants, Christian P...</td>\n",
              "      <td>Christian Pellizzari floral jacquard trousers</td>\n",
              "      <td>[Floral pants, Grey pants, Print pants, Patter...</td>\n",
              "      <td>28</td>\n",
              "      <td>bottoms</td>\n",
              "      <td>183179503</td>\n",
              "    </tr>\n",
              "    <tr>\n",
              "      <th>2</th>\n",
              "      <td>natures jewelry stainless steel not</td>\n",
              "      <td></td>\n",
              "      <td></td>\n",
              "      <td></td>\n",
              "      <td></td>\n",
              "      <td>65</td>\n",
              "      <td>jewellery</td>\n",
              "      <td>152771755</td>\n",
              "    </tr>\n",
              "    <tr>\n",
              "      <th>3</th>\n",
              "      <td>balmain women high waist flared</td>\n",
              "      <td>Decorative gold colored buttons with lion deta...</td>\n",
              "      <td>[Women's Fashion, Clothing, Pants, Balmain pants]</td>\n",
              "      <td>Balmain Women High Waist Flared Knit Pants</td>\n",
              "      <td>[Balmain, Flared pants, High-waisted pants, Kn...</td>\n",
              "      <td>28</td>\n",
              "      <td>bottoms</td>\n",
              "      <td>190445143</td>\n",
              "    </tr>\n",
              "    <tr>\n",
              "      <th>4</th>\n",
              "      <td>acler orson high waist belted</td>\n",
              "      <td>This Acler Orson High Waist Belted Short featu...</td>\n",
              "      <td>[Women's Fashion, Clothing, Shorts, Marissa We...</td>\n",
              "      <td>Acler Orson High Waist Belted Short</td>\n",
              "      <td>[Short shorts, High-waisted shorts, High rise ...</td>\n",
              "      <td>29</td>\n",
              "      <td>bottoms</td>\n",
              "      <td>211444470</td>\n",
              "    </tr>\n",
              "    <tr>\n",
              "      <th>...</th>\n",
              "      <td>...</td>\n",
              "      <td>...</td>\n",
              "      <td>...</td>\n",
              "      <td>...</td>\n",
              "      <td>...</td>\n",
              "      <td>...</td>\n",
              "      <td>...</td>\n",
              "      <td>...</td>\n",
              "    </tr>\n",
              "    <tr>\n",
              "      <th>251003</th>\n",
              "      <td>arnica embellished hand painted skirt</td>\n",
              "      <td>Shop Stella Jean in our expertly curated in-se...</td>\n",
              "      <td>[Women's Fashion, Clothing, Skirts, Knee Lengt...</td>\n",
              "      <td>Arnica Embellished Hand Painted Skirt</td>\n",
              "      <td>[Red skirt, Embellished skirt]</td>\n",
              "      <td>9</td>\n",
              "      <td>bottoms</td>\n",
              "      <td>108411005</td>\n",
              "    </tr>\n",
              "    <tr>\n",
              "      <th>251004</th>\n",
              "      <td>thom browne little boy knitted</td>\n",
              "      <td></td>\n",
              "      <td></td>\n",
              "      <td></td>\n",
              "      <td></td>\n",
              "      <td>236</td>\n",
              "      <td>outerwear</td>\n",
              "      <td>212452593</td>\n",
              "    </tr>\n",
              "    <tr>\n",
              "      <th>251005</th>\n",
              "      <td>colorful vortex print shawl scarf</td>\n",
              "      <td></td>\n",
              "      <td></td>\n",
              "      <td></td>\n",
              "      <td></td>\n",
              "      <td>105</td>\n",
              "      <td>scarves</td>\n",
              "      <td>208651882</td>\n",
              "    </tr>\n",
              "    <tr>\n",
              "      <th>251006</th>\n",
              "      <td>floral embroidered mesh see thru</td>\n",
              "      <td></td>\n",
              "      <td></td>\n",
              "      <td></td>\n",
              "      <td></td>\n",
              "      <td>11</td>\n",
              "      <td>tops</td>\n",
              "      <td>209210426</td>\n",
              "    </tr>\n",
              "    <tr>\n",
              "      <th>251007</th>\n",
              "      <td>shein sheinside extreme destroyed denim</td>\n",
              "      <td></td>\n",
              "      <td></td>\n",
              "      <td></td>\n",
              "      <td></td>\n",
              "      <td>25</td>\n",
              "      <td>outerwear</td>\n",
              "      <td>181567392</td>\n",
              "    </tr>\n",
              "  </tbody>\n",
              "</table>\n",
              "<p>251008 rows × 8 columns</p>\n",
              "</div>\n",
              "      <button class=\"colab-df-convert\" onclick=\"convertToInteractive('df-d0ece8ec-31ff-4593-b309-6c47fb790869')\"\n",
              "              title=\"Convert this dataframe to an interactive table.\"\n",
              "              style=\"display:none;\">\n",
              "        \n",
              "  <svg xmlns=\"http://www.w3.org/2000/svg\" height=\"24px\"viewBox=\"0 0 24 24\"\n",
              "       width=\"24px\">\n",
              "    <path d=\"M0 0h24v24H0V0z\" fill=\"none\"/>\n",
              "    <path d=\"M18.56 5.44l.94 2.06.94-2.06 2.06-.94-2.06-.94-.94-2.06-.94 2.06-2.06.94zm-11 1L8.5 8.5l.94-2.06 2.06-.94-2.06-.94L8.5 2.5l-.94 2.06-2.06.94zm10 10l.94 2.06.94-2.06 2.06-.94-2.06-.94-.94-2.06-.94 2.06-2.06.94z\"/><path d=\"M17.41 7.96l-1.37-1.37c-.4-.4-.92-.59-1.43-.59-.52 0-1.04.2-1.43.59L10.3 9.45l-7.72 7.72c-.78.78-.78 2.05 0 2.83L4 21.41c.39.39.9.59 1.41.59.51 0 1.02-.2 1.41-.59l7.78-7.78 2.81-2.81c.8-.78.8-2.07 0-2.86zM5.41 20L4 18.59l7.72-7.72 1.47 1.35L5.41 20z\"/>\n",
              "  </svg>\n",
              "      </button>\n",
              "      \n",
              "  <style>\n",
              "    .colab-df-container {\n",
              "      display:flex;\n",
              "      flex-wrap:wrap;\n",
              "      gap: 12px;\n",
              "    }\n",
              "\n",
              "    .colab-df-convert {\n",
              "      background-color: #E8F0FE;\n",
              "      border: none;\n",
              "      border-radius: 50%;\n",
              "      cursor: pointer;\n",
              "      display: none;\n",
              "      fill: #1967D2;\n",
              "      height: 32px;\n",
              "      padding: 0 0 0 0;\n",
              "      width: 32px;\n",
              "    }\n",
              "\n",
              "    .colab-df-convert:hover {\n",
              "      background-color: #E2EBFA;\n",
              "      box-shadow: 0px 1px 2px rgba(60, 64, 67, 0.3), 0px 1px 3px 1px rgba(60, 64, 67, 0.15);\n",
              "      fill: #174EA6;\n",
              "    }\n",
              "\n",
              "    [theme=dark] .colab-df-convert {\n",
              "      background-color: #3B4455;\n",
              "      fill: #D2E3FC;\n",
              "    }\n",
              "\n",
              "    [theme=dark] .colab-df-convert:hover {\n",
              "      background-color: #434B5C;\n",
              "      box-shadow: 0px 1px 3px 1px rgba(0, 0, 0, 0.15);\n",
              "      filter: drop-shadow(0px 1px 2px rgba(0, 0, 0, 0.3));\n",
              "      fill: #FFFFFF;\n",
              "    }\n",
              "  </style>\n",
              "\n",
              "      <script>\n",
              "        const buttonEl =\n",
              "          document.querySelector('#df-d0ece8ec-31ff-4593-b309-6c47fb790869 button.colab-df-convert');\n",
              "        buttonEl.style.display =\n",
              "          google.colab.kernel.accessAllowed ? 'block' : 'none';\n",
              "\n",
              "        async function convertToInteractive(key) {\n",
              "          const element = document.querySelector('#df-d0ece8ec-31ff-4593-b309-6c47fb790869');\n",
              "          const dataTable =\n",
              "            await google.colab.kernel.invokeFunction('convertToInteractive',\n",
              "                                                     [key], {});\n",
              "          if (!dataTable) return;\n",
              "\n",
              "          const docLinkHtml = 'Like what you see? Visit the ' +\n",
              "            '<a target=\"_blank\" href=https://colab.research.google.com/notebooks/data_table.ipynb>data table notebook</a>'\n",
              "            + ' to learn more about interactive tables.';\n",
              "          element.innerHTML = '';\n",
              "          dataTable['output_type'] = 'display_data';\n",
              "          await google.colab.output.renderOutput(dataTable, element);\n",
              "          const docLink = document.createElement('div');\n",
              "          docLink.innerHTML = docLinkHtml;\n",
              "          element.appendChild(docLink);\n",
              "        }\n",
              "      </script>\n",
              "    </div>\n",
              "  </div>\n",
              "  "
            ]
          },
          "metadata": {},
          "execution_count": 30
        }
      ]
    },
    {
      "cell_type": "code",
      "source": [
        "polyvore_item_metadata_df.dtypes"
      ],
      "metadata": {
        "colab": {
          "base_uri": "https://localhost:8080/"
        },
        "id": "IH0z62dpShkQ",
        "outputId": "3d3a733a-2a55-4109-ac54-67027fdc8db8"
      },
      "execution_count": null,
      "outputs": [
        {
          "output_type": "execute_result",
          "data": {
            "text/plain": [
              "url_name             object\n",
              "description          object\n",
              "catgeories           object\n",
              "title                object\n",
              "related              object\n",
              "category_id          object\n",
              "semantic_category    object\n",
              "item_id               int64\n",
              "dtype: object"
            ]
          },
          "metadata": {},
          "execution_count": 32
        }
      ]
    },
    {
      "cell_type": "code",
      "source": [
        "print(f'Number of Items = {polyvore_item_metadata_df.shape[0]}')"
      ],
      "metadata": {
        "colab": {
          "base_uri": "https://localhost:8080/"
        },
        "id": "iaB-R0CU2QIQ",
        "outputId": "363c8c23-7f32-470c-cba5-75409d37aae3"
      },
      "execution_count": null,
      "outputs": [
        {
          "output_type": "stream",
          "name": "stdout",
          "text": [
            "Number of Items = 251008\n"
          ]
        }
      ]
    },
    {
      "cell_type": "code",
      "source": [
        "print(f'Number of Images = {len(os.listdir(\"/content/content/polyvore_outfits/images\"))}')"
      ],
      "metadata": {
        "colab": {
          "base_uri": "https://localhost:8080/"
        },
        "id": "LA0HFZqf22C8",
        "outputId": "c5486b08-5faf-4167-d3d1-3169ca55a1e6"
      },
      "execution_count": null,
      "outputs": [
        {
          "output_type": "stream",
          "name": "stdout",
          "text": [
            "Number of Images = 261057\n"
          ]
        }
      ]
    },
    {
      "cell_type": "code",
      "source": [
        "img = mpimg.imread('/content/content/polyvore_outfits/images/104934947.jpg')\n",
        "plt.imshow(img)"
      ],
      "metadata": {
        "colab": {
          "base_uri": "https://localhost:8080/",
          "height": 287
        },
        "id": "ayknZXOaQCQo",
        "outputId": "bae0fdf5-2c48-4fd2-8c96-35d9e350c32e"
      },
      "execution_count": null,
      "outputs": [
        {
          "output_type": "execute_result",
          "data": {
            "text/plain": [
              "<matplotlib.image.AxesImage at 0x7f4fc3e8f410>"
            ]
          },
          "metadata": {},
          "execution_count": 16
        },
        {
          "output_type": "display_data",
          "data": {
            "text/plain": [
              "<Figure size 432x288 with 1 Axes>"
            ],
            "image/png": "[encoded data removed]"
          },
          "metadata": {
            "needs_background": "light"
          }
        }
      ]
    },
    {
      "cell_type": "markdown",
      "source": [
        "#### Make CSV"
      ],
      "metadata": {
        "id": "Uod_d2w4cFFc"
      }
    },
    {
      "cell_type": "code",
      "source": [
        "polyvore_item_metadata_df.to_csv('/content/drive/MyDrive/Outfit_Recommendation_Project/Data_CSV_Files/item_metadata.csv', index=False)"
      ],
      "metadata": {
        "id": "79RFwP9zcBrk"
      },
      "execution_count": null,
      "outputs": []
    },
    {
      "cell_type": "markdown",
      "source": [
        "### images"
      ],
      "metadata": {
        "id": "hFzdisT45jto"
      }
    },
    {
      "cell_type": "markdown",
      "source": [
        "* <font color='pink'><font size=4>create a dataframe of clothes items(images) and their path </font>"
      ],
      "metadata": {
        "id": "dECea5Muxqv5"
      }
    },
    {
      "cell_type": "code",
      "source": [
        "images_path = np.array(glob.glob('/content/content/polyvore_outfits/images'+'/'+'*.jpg'))\n",
        "print(len(images_path))\n",
        "print(images_path)"
      ],
      "metadata": {
        "colab": {
          "base_uri": "https://localhost:8080/"
        },
        "id": "9VbwiK_5_tMe",
        "outputId": "02e3a5f1-176c-4eb6-a066-b070c3ae416a"
      },
      "execution_count": null,
      "outputs": [
        {
          "output_type": "stream",
          "name": "stdout",
          "text": [
            "261057\n",
            "['/content/content/polyvore_outfits/images/176301125.jpg'\n",
            " '/content/content/polyvore_outfits/images/130693955.jpg'\n",
            " '/content/content/polyvore_outfits/images/164351218.jpg' ...\n",
            " '/content/content/polyvore_outfits/images/198373775.jpg'\n",
            " '/content/content/polyvore_outfits/images/159783323.jpg'\n",
            " '/content/content/polyvore_outfits/images/80647609.jpg']\n"
          ]
        }
      ]
    },
    {
      "cell_type": "code",
      "source": [
        "def get_item_id(img_path):\n",
        "    item_file = os.path.basename(img_path)\n",
        "    item_id = pathlib.Path(item_file).with_suffix(\"\")\n",
        "    return item_id.name"
      ],
      "metadata": {
        "id": "v-yIW-emSNl7"
      },
      "execution_count": null,
      "outputs": []
    },
    {
      "cell_type": "code",
      "source": [
        "item_image_df = pd.DataFrame(columns=['item_id', 'item_image_path'])\n",
        "item_image_df.item_image_path = images_path\n",
        "item_image_df.item_id = item_image_df.item_image_path.apply(get_item_id)\n",
        "item_image_df"
      ],
      "metadata": {
        "colab": {
          "base_uri": "https://localhost:8080/",
          "height": 423
        },
        "id": "tN_WaZpU5sB-",
        "outputId": "6bcad515-62c9-4123-a948-8d1f51a19961"
      },
      "execution_count": null,
      "outputs": [
        {
          "output_type": "execute_result",
          "data": {
            "text/plain": [
              "          item_id                                    item_image_path\n",
              "0       176301125  /content/content/polyvore_outfits/images/17630...\n",
              "1       130693955  /content/content/polyvore_outfits/images/13069...\n",
              "2       164351218  /content/content/polyvore_outfits/images/16435...\n",
              "3       187769739  /content/content/polyvore_outfits/images/18776...\n",
              "4       175793816  /content/content/polyvore_outfits/images/17579...\n",
              "...           ...                                                ...\n",
              "261052  213179765  /content/content/polyvore_outfits/images/21317...\n",
              "261053  157646550  /content/content/polyvore_outfits/images/15764...\n",
              "261054  198373775  /content/content/polyvore_outfits/images/19837...\n",
              "261055  159783323  /content/content/polyvore_outfits/images/15978...\n",
              "261056   80647609  /content/content/polyvore_outfits/images/80647...\n",
              "\n",
              "[261057 rows x 2 columns]"
            ],
            "text/html": [
              "\n",
              "  <div id=\"df-7c5f76dc-2ded-431a-af71-31523d808009\">\n",
              "    <div class=\"colab-df-container\">\n",
              "      <div>\n",
              "<style scoped>\n",
              "    .dataframe tbody tr th:only-of-type {\n",
              "        vertical-align: middle;\n",
              "    }\n",
              "\n",
              "    .dataframe tbody tr th {\n",
              "        vertical-align: top;\n",
              "    }\n",
              "\n",
              "    .dataframe thead th {\n",
              "        text-align: right;\n",
              "    }\n",
              "</style>\n",
              "<table border=\"1\" class=\"dataframe\">\n",
              "  <thead>\n",
              "    <tr style=\"text-align: right;\">\n",
              "      <th></th>\n",
              "      <th>item_id</th>\n",
              "      <th>item_image_path</th>\n",
              "    </tr>\n",
              "  </thead>\n",
              "  <tbody>\n",
              "    <tr>\n",
              "      <th>0</th>\n",
              "      <td>176301125</td>\n",
              "      <td>/content/content/polyvore_outfits/images/17630...</td>\n",
              "    </tr>\n",
              "    <tr>\n",
              "      <th>1</th>\n",
              "      <td>130693955</td>\n",
              "      <td>/content/content/polyvore_outfits/images/13069...</td>\n",
              "    </tr>\n",
              "    <tr>\n",
              "      <th>2</th>\n",
              "      <td>164351218</td>\n",
              "      <td>/content/content/polyvore_outfits/images/16435...</td>\n",
              "    </tr>\n",
              "    <tr>\n",
              "      <th>3</th>\n",
              "      <td>187769739</td>\n",
              "      <td>/content/content/polyvore_outfits/images/18776...</td>\n",
              "    </tr>\n",
              "    <tr>\n",
              "      <th>4</th>\n",
              "      <td>175793816</td>\n",
              "      <td>/content/content/polyvore_outfits/images/17579...</td>\n",
              "    </tr>\n",
              "    <tr>\n",
              "      <th>...</th>\n",
              "      <td>...</td>\n",
              "      <td>...</td>\n",
              "    </tr>\n",
              "    <tr>\n",
              "      <th>261052</th>\n",
              "      <td>213179765</td>\n",
              "      <td>/content/content/polyvore_outfits/images/21317...</td>\n",
              "    </tr>\n",
              "    <tr>\n",
              "      <th>261053</th>\n",
              "      <td>157646550</td>\n",
              "      <td>/content/content/polyvore_outfits/images/15764...</td>\n",
              "    </tr>\n",
              "    <tr>\n",
              "      <th>261054</th>\n",
              "      <td>198373775</td>\n",
              "      <td>/content/content/polyvore_outfits/images/19837...</td>\n",
              "    </tr>\n",
              "    <tr>\n",
              "      <th>261055</th>\n",
              "      <td>159783323</td>\n",
              "      <td>/content/content/polyvore_outfits/images/15978...</td>\n",
              "    </tr>\n",
              "    <tr>\n",
              "      <th>261056</th>\n",
              "      <td>80647609</td>\n",
              "      <td>/content/content/polyvore_outfits/images/80647...</td>\n",
              "    </tr>\n",
              "  </tbody>\n",
              "</table>\n",
              "<p>261057 rows × 2 columns</p>\n",
              "</div>\n",
              "      <button class=\"colab-df-convert\" onclick=\"convertToInteractive('df-7c5f76dc-2ded-431a-af71-31523d808009')\"\n",
              "              title=\"Convert this dataframe to an interactive table.\"\n",
              "              style=\"display:none;\">\n",
              "        \n",
              "  <svg xmlns=\"http://www.w3.org/2000/svg\" height=\"24px\"viewBox=\"0 0 24 24\"\n",
              "       width=\"24px\">\n",
              "    <path d=\"M0 0h24v24H0V0z\" fill=\"none\"/>\n",
              "    <path d=\"M18.56 5.44l.94 2.06.94-2.06 2.06-.94-2.06-.94-.94-2.06-.94 2.06-2.06.94zm-11 1L8.5 8.5l.94-2.06 2.06-.94-2.06-.94L8.5 2.5l-.94 2.06-2.06.94zm10 10l.94 2.06.94-2.06 2.06-.94-2.06-.94-.94-2.06-.94 2.06-2.06.94z\"/><path d=\"M17.41 7.96l-1.37-1.37c-.4-.4-.92-.59-1.43-.59-.52 0-1.04.2-1.43.59L10.3 9.45l-7.72 7.72c-.78.78-.78 2.05 0 2.83L4 21.41c.39.39.9.59 1.41.59.51 0 1.02-.2 1.41-.59l7.78-7.78 2.81-2.81c.8-.78.8-2.07 0-2.86zM5.41 20L4 18.59l7.72-7.72 1.47 1.35L5.41 20z\"/>\n",
              "  </svg>\n",
              "      </button>\n",
              "      \n",
              "  <style>\n",
              "    .colab-df-container {\n",
              "      display:flex;\n",
              "      flex-wrap:wrap;\n",
              "      gap: 12px;\n",
              "    }\n",
              "\n",
              "    .colab-df-convert {\n",
              "      background-color: #E8F0FE;\n",
              "      border: none;\n",
              "      border-radius: 50%;\n",
              "      cursor: pointer;\n",
              "      display: none;\n",
              "      fill: #1967D2;\n",
              "      height: 32px;\n",
              "      padding: 0 0 0 0;\n",
              "      width: 32px;\n",
              "    }\n",
              "\n",
              "    .colab-df-convert:hover {\n",
              "      background-color: #E2EBFA;\n",
              "      box-shadow: 0px 1px 2px rgba(60, 64, 67, 0.3), 0px 1px 3px 1px rgba(60, 64, 67, 0.15);\n",
              "      fill: #174EA6;\n",
              "    }\n",
              "\n",
              "    [theme=dark] .colab-df-convert {\n",
              "      background-color: #3B4455;\n",
              "      fill: #D2E3FC;\n",
              "    }\n",
              "\n",
              "    [theme=dark] .colab-df-convert:hover {\n",
              "      background-color: #434B5C;\n",
              "      box-shadow: 0px 1px 3px 1px rgba(0, 0, 0, 0.15);\n",
              "      filter: drop-shadow(0px 1px 2px rgba(0, 0, 0, 0.3));\n",
              "      fill: #FFFFFF;\n",
              "    }\n",
              "  </style>\n",
              "\n",
              "      <script>\n",
              "        const buttonEl =\n",
              "          document.querySelector('#df-7c5f76dc-2ded-431a-af71-31523d808009 button.colab-df-convert');\n",
              "        buttonEl.style.display =\n",
              "          google.colab.kernel.accessAllowed ? 'block' : 'none';\n",
              "\n",
              "        async function convertToInteractive(key) {\n",
              "          const element = document.querySelector('#df-7c5f76dc-2ded-431a-af71-31523d808009');\n",
              "          const dataTable =\n",
              "            await google.colab.kernel.invokeFunction('convertToInteractive',\n",
              "                                                     [key], {});\n",
              "          if (!dataTable) return;\n",
              "\n",
              "          const docLinkHtml = 'Like what you see? Visit the ' +\n",
              "            '<a target=\"_blank\" href=https://colab.research.google.com/notebooks/data_table.ipynb>data table notebook</a>'\n",
              "            + ' to learn more about interactive tables.';\n",
              "          element.innerHTML = '';\n",
              "          dataTable['output_type'] = 'display_data';\n",
              "          await google.colab.output.renderOutput(dataTable, element);\n",
              "          const docLink = document.createElement('div');\n",
              "          docLink.innerHTML = docLinkHtml;\n",
              "          element.appendChild(docLink);\n",
              "        }\n",
              "      </script>\n",
              "    </div>\n",
              "  </div>\n",
              "  "
            ]
          },
          "metadata": {},
          "execution_count": 19
        }
      ]
    },
    {
      "cell_type": "markdown",
      "source": [
        "#### Make CSV"
      ],
      "metadata": {
        "id": "onooQjpCVvgr"
      }
    },
    {
      "cell_type": "code",
      "source": [
        "item_image_df.to_csv('/content/drive/MyDrive/Outfit_Recommendation_Project/Data_CSV_Files/item_image.csv', index=False)"
      ],
      "metadata": {
        "id": "9JWh9lMAVwsB"
      },
      "execution_count": null,
      "outputs": []
    },
    {
      "cell_type": "markdown",
      "source": [
        "### categories.csv"
      ],
      "metadata": {
        "id": "eIsZMMPNOPSh"
      }
    },
    {
      "cell_type": "markdown",
      "source": [
        "* <font color='pink'><font size=4>create a dataframe of clothes categories </font>"
      ],
      "metadata": {
        "id": "UBqWmZtKg3cV"
      }
    },
    {
      "cell_type": "code",
      "source": [
        "categories_df = pd.read_csv('/content/polyvore_outfits/categories.csv', header=0, names=['category_id', 'fine_grained_category', 'semantic_category'])\n",
        "categories_df"
      ],
      "metadata": {
        "colab": {
          "base_uri": "https://localhost:8080/",
          "height": 423
        },
        "id": "gRx8Vtj9Oc1l",
        "outputId": "e981d5a7-c375-4839-e88c-4a3d2b60c5eb"
      },
      "execution_count": null,
      "outputs": [
        {
          "output_type": "execute_result",
          "data": {
            "text/plain": [
              "     category_id fine_grained_category semantic_category\n",
              "0              3                 dress          all-body\n",
              "1              4                 dress          all-body\n",
              "2              5                 dress          all-body\n",
              "3              6                  gown          all-body\n",
              "4              7                 skirt           bottoms\n",
              "..           ...                   ...               ...\n",
              "218         4495             sweathirt              tops\n",
              "219         4495               sweater              tops\n",
              "220         4496                hoodie              tops\n",
              "221         4517          swimsuit top              tops\n",
              "222         4518       swimsuit bottom           bottoms\n",
              "\n",
              "[223 rows x 3 columns]"
            ],
            "text/html": [
              "\n",
              "  <div id=\"df-56ba7183-5394-40a7-a3ad-31454abe2645\">\n",
              "    <div class=\"colab-df-container\">\n",
              "      <div>\n",
              "<style scoped>\n",
              "    .dataframe tbody tr th:only-of-type {\n",
              "        vertical-align: middle;\n",
              "    }\n",
              "\n",
              "    .dataframe tbody tr th {\n",
              "        vertical-align: top;\n",
              "    }\n",
              "\n",
              "    .dataframe thead th {\n",
              "        text-align: right;\n",
              "    }\n",
              "</style>\n",
              "<table border=\"1\" class=\"dataframe\">\n",
              "  <thead>\n",
              "    <tr style=\"text-align: right;\">\n",
              "      <th></th>\n",
              "      <th>category_id</th>\n",
              "      <th>fine_grained_category</th>\n",
              "      <th>semantic_category</th>\n",
              "    </tr>\n",
              "  </thead>\n",
              "  <tbody>\n",
              "    <tr>\n",
              "      <th>0</th>\n",
              "      <td>3</td>\n",
              "      <td>dress</td>\n",
              "      <td>all-body</td>\n",
              "    </tr>\n",
              "    <tr>\n",
              "      <th>1</th>\n",
              "      <td>4</td>\n",
              "      <td>dress</td>\n",
              "      <td>all-body</td>\n",
              "    </tr>\n",
              "    <tr>\n",
              "      <th>2</th>\n",
              "      <td>5</td>\n",
              "      <td>dress</td>\n",
              "      <td>all-body</td>\n",
              "    </tr>\n",
              "    <tr>\n",
              "      <th>3</th>\n",
              "      <td>6</td>\n",
              "      <td>gown</td>\n",
              "      <td>all-body</td>\n",
              "    </tr>\n",
              "    <tr>\n",
              "      <th>4</th>\n",
              "      <td>7</td>\n",
              "      <td>skirt</td>\n",
              "      <td>bottoms</td>\n",
              "    </tr>\n",
              "    <tr>\n",
              "      <th>...</th>\n",
              "      <td>...</td>\n",
              "      <td>...</td>\n",
              "      <td>...</td>\n",
              "    </tr>\n",
              "    <tr>\n",
              "      <th>218</th>\n",
              "      <td>4495</td>\n",
              "      <td>sweathirt</td>\n",
              "      <td>tops</td>\n",
              "    </tr>\n",
              "    <tr>\n",
              "      <th>219</th>\n",
              "      <td>4495</td>\n",
              "      <td>sweater</td>\n",
              "      <td>tops</td>\n",
              "    </tr>\n",
              "    <tr>\n",
              "      <th>220</th>\n",
              "      <td>4496</td>\n",
              "      <td>hoodie</td>\n",
              "      <td>tops</td>\n",
              "    </tr>\n",
              "    <tr>\n",
              "      <th>221</th>\n",
              "      <td>4517</td>\n",
              "      <td>swimsuit top</td>\n",
              "      <td>tops</td>\n",
              "    </tr>\n",
              "    <tr>\n",
              "      <th>222</th>\n",
              "      <td>4518</td>\n",
              "      <td>swimsuit bottom</td>\n",
              "      <td>bottoms</td>\n",
              "    </tr>\n",
              "  </tbody>\n",
              "</table>\n",
              "<p>223 rows × 3 columns</p>\n",
              "</div>\n",
              "      <button class=\"colab-df-convert\" onclick=\"convertToInteractive('df-56ba7183-5394-40a7-a3ad-31454abe2645')\"\n",
              "              title=\"Convert this dataframe to an interactive table.\"\n",
              "              style=\"display:none;\">\n",
              "        \n",
              "  <svg xmlns=\"http://www.w3.org/2000/svg\" height=\"24px\"viewBox=\"0 0 24 24\"\n",
              "       width=\"24px\">\n",
              "    <path d=\"M0 0h24v24H0V0z\" fill=\"none\"/>\n",
              "    <path d=\"M18.56 5.44l.94 2.06.94-2.06 2.06-.94-2.06-.94-.94-2.06-.94 2.06-2.06.94zm-11 1L8.5 8.5l.94-2.06 2.06-.94-2.06-.94L8.5 2.5l-.94 2.06-2.06.94zm10 10l.94 2.06.94-2.06 2.06-.94-2.06-.94-.94-2.06-.94 2.06-2.06.94z\"/><path d=\"M17.41 7.96l-1.37-1.37c-.4-.4-.92-.59-1.43-.59-.52 0-1.04.2-1.43.59L10.3 9.45l-7.72 7.72c-.78.78-.78 2.05 0 2.83L4 21.41c.39.39.9.59 1.41.59.51 0 1.02-.2 1.41-.59l7.78-7.78 2.81-2.81c.8-.78.8-2.07 0-2.86zM5.41 20L4 18.59l7.72-7.72 1.47 1.35L5.41 20z\"/>\n",
              "  </svg>\n",
              "      </button>\n",
              "      \n",
              "  <style>\n",
              "    .colab-df-container {\n",
              "      display:flex;\n",
              "      flex-wrap:wrap;\n",
              "      gap: 12px;\n",
              "    }\n",
              "\n",
              "    .colab-df-convert {\n",
              "      background-color: #E8F0FE;\n",
              "      border: none;\n",
              "      border-radius: 50%;\n",
              "      cursor: pointer;\n",
              "      display: none;\n",
              "      fill: #1967D2;\n",
              "      height: 32px;\n",
              "      padding: 0 0 0 0;\n",
              "      width: 32px;\n",
              "    }\n",
              "\n",
              "    .colab-df-convert:hover {\n",
              "      background-color: #E2EBFA;\n",
              "      box-shadow: 0px 1px 2px rgba(60, 64, 67, 0.3), 0px 1px 3px 1px rgba(60, 64, 67, 0.15);\n",
              "      fill: #174EA6;\n",
              "    }\n",
              "\n",
              "    [theme=dark] .colab-df-convert {\n",
              "      background-color: #3B4455;\n",
              "      fill: #D2E3FC;\n",
              "    }\n",
              "\n",
              "    [theme=dark] .colab-df-convert:hover {\n",
              "      background-color: #434B5C;\n",
              "      box-shadow: 0px 1px 3px 1px rgba(0, 0, 0, 0.15);\n",
              "      filter: drop-shadow(0px 1px 2px rgba(0, 0, 0, 0.3));\n",
              "      fill: #FFFFFF;\n",
              "    }\n",
              "  </style>\n",
              "\n",
              "      <script>\n",
              "        const buttonEl =\n",
              "          document.querySelector('#df-56ba7183-5394-40a7-a3ad-31454abe2645 button.colab-df-convert');\n",
              "        buttonEl.style.display =\n",
              "          google.colab.kernel.accessAllowed ? 'block' : 'none';\n",
              "\n",
              "        async function convertToInteractive(key) {\n",
              "          const element = document.querySelector('#df-56ba7183-5394-40a7-a3ad-31454abe2645');\n",
              "          const dataTable =\n",
              "            await google.colab.kernel.invokeFunction('convertToInteractive',\n",
              "                                                     [key], {});\n",
              "          if (!dataTable) return;\n",
              "\n",
              "          const docLinkHtml = 'Like what you see? Visit the ' +\n",
              "            '<a target=\"_blank\" href=https://colab.research.google.com/notebooks/data_table.ipynb>data table notebook</a>'\n",
              "            + ' to learn more about interactive tables.';\n",
              "          element.innerHTML = '';\n",
              "          dataTable['output_type'] = 'display_data';\n",
              "          await google.colab.output.renderOutput(dataTable, element);\n",
              "          const docLink = document.createElement('div');\n",
              "          docLink.innerHTML = docLinkHtml;\n",
              "          element.appendChild(docLink);\n",
              "        }\n",
              "      </script>\n",
              "    </div>\n",
              "  </div>\n",
              "  "
            ]
          },
          "metadata": {},
          "execution_count": 38
        }
      ]
    },
    {
      "cell_type": "markdown",
      "source": [
        "#### Make CSV"
      ],
      "metadata": {
        "id": "iigt47ffo6iV"
      }
    },
    {
      "cell_type": "code",
      "source": [
        "categories_df.to_csv('/content/drive/MyDrive/Outfit_Recommendation_Project/Data_CSV_Files/categories.csv', index=False)"
      ],
      "metadata": {
        "id": "3oG4Jzuho5qm"
      },
      "execution_count": null,
      "outputs": []
    },
    {
      "cell_type": "markdown",
      "source": [
        "### disjoint"
      ],
      "metadata": {
        "id": "VoRHEhIMTNn3"
      }
    },
    {
      "cell_type": "markdown",
      "source": [
        "<font color='lightblue'><font size=4>Polyvore Outfits (disjoint) - Outfits in the test/validation set do not share any items in common with outfits in the training set (although some items in the test set may be present in outfits in the validation set)</font>\n",
        "\n",
        "---\n",
        "\n",
        "<font color='orange'><font size=5>We rely on Disjoint Data for the Rest of our Work.</font>\n",
        "\n"
      ],
      "metadata": {
        "id": "hjfN0ImChqOK"
      }
    },
    {
      "cell_type": "code",
      "source": [
        "items_id_list = item_image_df.item_id.to_numpy()\n",
        "items_id_list"
      ],
      "metadata": {
        "colab": {
          "base_uri": "https://localhost:8080/"
        },
        "id": "_p-LPeoh_yqQ",
        "outputId": "1546f262-257d-430c-ae90-11b39a42c1d2"
      },
      "execution_count": null,
      "outputs": [
        {
          "output_type": "execute_result",
          "data": {
            "text/plain": [
              "array(['176301125', '130693955', '164351218', ..., '198373775',\n",
              "       '159783323', '80647609'], dtype=object)"
            ]
          },
          "metadata": {},
          "execution_count": 21
        }
      ]
    },
    {
      "cell_type": "code",
      "source": [
        "images_path_list = item_image_df.item_image_path.to_numpy()\n",
        "images_path_list"
      ],
      "metadata": {
        "colab": {
          "base_uri": "https://localhost:8080/"
        },
        "id": "u0DdLspH_-kz",
        "outputId": "26ff1c39-0489-4040-967a-e5aacf49a0e2"
      },
      "execution_count": null,
      "outputs": [
        {
          "output_type": "execute_result",
          "data": {
            "text/plain": [
              "array(['/content/content/polyvore_outfits/images/176301125.jpg',\n",
              "       '/content/content/polyvore_outfits/images/130693955.jpg',\n",
              "       '/content/content/polyvore_outfits/images/164351218.jpg', ...,\n",
              "       '/content/content/polyvore_outfits/images/198373775.jpg',\n",
              "       '/content/content/polyvore_outfits/images/159783323.jpg',\n",
              "       '/content/content/polyvore_outfits/images/80647609.jpg'],\n",
              "      dtype=object)"
            ]
          },
          "metadata": {},
          "execution_count": 22
        }
      ]
    },
    {
      "cell_type": "code",
      "source": [
        "def build_outfit(row): \n",
        "  \n",
        "  dic_outfit={}\n",
        "  for item_dict in row[0]:\n",
        "    item_path = images_path_list[np.where(items_id_list == str(item_dict['item_id']))[0][0]]\n",
        "    dic_outfit[f'{row[1]}_{item_dict[\"index\"]}'] = item_path\n",
        "    \n",
        "  return dic_outfit\n",
        "  "
      ],
      "metadata": {
        "id": "otVy-e-Vr504"
      },
      "execution_count": null,
      "outputs": []
    },
    {
      "cell_type": "code",
      "source": [
        "def arrange_images(image_dict):\n",
        "    outfits_images_id = list(image_dict.keys())\n",
        "    outfits_images_path = list(image_dict.values())\n",
        "\n",
        "    return pd.DataFrame({'outfits_images_id':outfits_images_id, 'outfits_images_path':outfits_images_path})"
      ],
      "metadata": {
        "id": "UtWNMmqIEiBr"
      },
      "execution_count": null,
      "outputs": []
    },
    {
      "cell_type": "markdown",
      "source": [
        "#### train.json"
      ],
      "metadata": {
        "id": "hvfiqobHqiYf"
      }
    },
    {
      "cell_type": "markdown",
      "source": [
        "* <font color='pink'><font size=4> create a dataframe of disjoint training outfits </font>"
      ],
      "metadata": {
        "id": "kVYmzzx9kDj3"
      }
    },
    {
      "cell_type": "code",
      "source": [
        "disjiont_train_df = pd.read_json(\"/content/polyvore_outfits/disjoint/train.json\")\n",
        "disjiont_train_df"
      ],
      "metadata": {
        "id": "58FfFeoRqiYg",
        "colab": {
          "base_uri": "https://localhost:8080/",
          "height": 423
        },
        "outputId": "b6b3bffa-6308-4f46-8478-8910049a809c"
      },
      "execution_count": null,
      "outputs": [
        {
          "output_type": "execute_result",
          "data": {
            "text/plain": [
              "                                                   items     set_id\n",
              "0      [{'item_id': '132621870', 'index': 1}, {'item_...  199244701\n",
              "1      [{'item_id': '162715806', 'index': 1}, {'item_...  200742384\n",
              "2      [{'item_id': '180028994', 'index': 1}, {'item_...  206955877\n",
              "3      [{'item_id': '198643069', 'index': 1}, {'item_...  220340816\n",
              "4      [{'item_id': '200139640', 'index': 1}, {'item_...  219393187\n",
              "...                                                  ...        ...\n",
              "16990  [{'item_id': '174197824', 'index': 1}, {'item_...  205231354\n",
              "16991  [{'item_id': '189119660', 'index': 1}, {'item_...  211884833\n",
              "16992  [{'item_id': '198170894', 'index': 1}, {'item_...  217542558\n",
              "16993  [{'item_id': '180489704', 'index': 1}, {'item_...  205613256\n",
              "16994  [{'item_id': '180383429', 'index': 1}, {'item_...  225327855\n",
              "\n",
              "[16995 rows x 2 columns]"
            ],
            "text/html": [
              "\n",
              "  <div id=\"df-d7403e19-3aef-4db9-b8cf-ec60ab923995\">\n",
              "    <div class=\"colab-df-container\">\n",
              "      <div>\n",
              "<style scoped>\n",
              "    .dataframe tbody tr th:only-of-type {\n",
              "        vertical-align: middle;\n",
              "    }\n",
              "\n",
              "    .dataframe tbody tr th {\n",
              "        vertical-align: top;\n",
              "    }\n",
              "\n",
              "    .dataframe thead th {\n",
              "        text-align: right;\n",
              "    }\n",
              "</style>\n",
              "<table border=\"1\" class=\"dataframe\">\n",
              "  <thead>\n",
              "    <tr style=\"text-align: right;\">\n",
              "      <th></th>\n",
              "      <th>items</th>\n",
              "      <th>set_id</th>\n",
              "    </tr>\n",
              "  </thead>\n",
              "  <tbody>\n",
              "    <tr>\n",
              "      <th>0</th>\n",
              "      <td>[{'item_id': '132621870', 'index': 1}, {'item_...</td>\n",
              "      <td>199244701</td>\n",
              "    </tr>\n",
              "    <tr>\n",
              "      <th>1</th>\n",
              "      <td>[{'item_id': '162715806', 'index': 1}, {'item_...</td>\n",
              "      <td>200742384</td>\n",
              "    </tr>\n",
              "    <tr>\n",
              "      <th>2</th>\n",
              "      <td>[{'item_id': '180028994', 'index': 1}, {'item_...</td>\n",
              "      <td>206955877</td>\n",
              "    </tr>\n",
              "    <tr>\n",
              "      <th>3</th>\n",
              "      <td>[{'item_id': '198643069', 'index': 1}, {'item_...</td>\n",
              "      <td>220340816</td>\n",
              "    </tr>\n",
              "    <tr>\n",
              "      <th>4</th>\n",
              "      <td>[{'item_id': '200139640', 'index': 1}, {'item_...</td>\n",
              "      <td>219393187</td>\n",
              "    </tr>\n",
              "    <tr>\n",
              "      <th>...</th>\n",
              "      <td>...</td>\n",
              "      <td>...</td>\n",
              "    </tr>\n",
              "    <tr>\n",
              "      <th>16990</th>\n",
              "      <td>[{'item_id': '174197824', 'index': 1}, {'item_...</td>\n",
              "      <td>205231354</td>\n",
              "    </tr>\n",
              "    <tr>\n",
              "      <th>16991</th>\n",
              "      <td>[{'item_id': '189119660', 'index': 1}, {'item_...</td>\n",
              "      <td>211884833</td>\n",
              "    </tr>\n",
              "    <tr>\n",
              "      <th>16992</th>\n",
              "      <td>[{'item_id': '198170894', 'index': 1}, {'item_...</td>\n",
              "      <td>217542558</td>\n",
              "    </tr>\n",
              "    <tr>\n",
              "      <th>16993</th>\n",
              "      <td>[{'item_id': '180489704', 'index': 1}, {'item_...</td>\n",
              "      <td>205613256</td>\n",
              "    </tr>\n",
              "    <tr>\n",
              "      <th>16994</th>\n",
              "      <td>[{'item_id': '180383429', 'index': 1}, {'item_...</td>\n",
              "      <td>225327855</td>\n",
              "    </tr>\n",
              "  </tbody>\n",
              "</table>\n",
              "<p>16995 rows × 2 columns</p>\n",
              "</div>\n",
              "      <button class=\"colab-df-convert\" onclick=\"convertToInteractive('df-d7403e19-3aef-4db9-b8cf-ec60ab923995')\"\n",
              "              title=\"Convert this dataframe to an interactive table.\"\n",
              "              style=\"display:none;\">\n",
              "        \n",
              "  <svg xmlns=\"http://www.w3.org/2000/svg\" height=\"24px\"viewBox=\"0 0 24 24\"\n",
              "       width=\"24px\">\n",
              "    <path d=\"M0 0h24v24H0V0z\" fill=\"none\"/>\n",
              "    <path d=\"M18.56 5.44l.94 2.06.94-2.06 2.06-.94-2.06-.94-.94-2.06-.94 2.06-2.06.94zm-11 1L8.5 8.5l.94-2.06 2.06-.94-2.06-.94L8.5 2.5l-.94 2.06-2.06.94zm10 10l.94 2.06.94-2.06 2.06-.94-2.06-.94-.94-2.06-.94 2.06-2.06.94z\"/><path d=\"M17.41 7.96l-1.37-1.37c-.4-.4-.92-.59-1.43-.59-.52 0-1.04.2-1.43.59L10.3 9.45l-7.72 7.72c-.78.78-.78 2.05 0 2.83L4 21.41c.39.39.9.59 1.41.59.51 0 1.02-.2 1.41-.59l7.78-7.78 2.81-2.81c.8-.78.8-2.07 0-2.86zM5.41 20L4 18.59l7.72-7.72 1.47 1.35L5.41 20z\"/>\n",
              "  </svg>\n",
              "      </button>\n",
              "      \n",
              "  <style>\n",
              "    .colab-df-container {\n",
              "      display:flex;\n",
              "      flex-wrap:wrap;\n",
              "      gap: 12px;\n",
              "    }\n",
              "\n",
              "    .colab-df-convert {\n",
              "      background-color: #E8F0FE;\n",
              "      border: none;\n",
              "      border-radius: 50%;\n",
              "      cursor: pointer;\n",
              "      display: none;\n",
              "      fill: #1967D2;\n",
              "      height: 32px;\n",
              "      padding: 0 0 0 0;\n",
              "      width: 32px;\n",
              "    }\n",
              "\n",
              "    .colab-df-convert:hover {\n",
              "      background-color: #E2EBFA;\n",
              "      box-shadow: 0px 1px 2px rgba(60, 64, 67, 0.3), 0px 1px 3px 1px rgba(60, 64, 67, 0.15);\n",
              "      fill: #174EA6;\n",
              "    }\n",
              "\n",
              "    [theme=dark] .colab-df-convert {\n",
              "      background-color: #3B4455;\n",
              "      fill: #D2E3FC;\n",
              "    }\n",
              "\n",
              "    [theme=dark] .colab-df-convert:hover {\n",
              "      background-color: #434B5C;\n",
              "      box-shadow: 0px 1px 3px 1px rgba(0, 0, 0, 0.15);\n",
              "      filter: drop-shadow(0px 1px 2px rgba(0, 0, 0, 0.3));\n",
              "      fill: #FFFFFF;\n",
              "    }\n",
              "  </style>\n",
              "\n",
              "      <script>\n",
              "        const buttonEl =\n",
              "          document.querySelector('#df-d7403e19-3aef-4db9-b8cf-ec60ab923995 button.colab-df-convert');\n",
              "        buttonEl.style.display =\n",
              "          google.colab.kernel.accessAllowed ? 'block' : 'none';\n",
              "\n",
              "        async function convertToInteractive(key) {\n",
              "          const element = document.querySelector('#df-d7403e19-3aef-4db9-b8cf-ec60ab923995');\n",
              "          const dataTable =\n",
              "            await google.colab.kernel.invokeFunction('convertToInteractive',\n",
              "                                                     [key], {});\n",
              "          if (!dataTable) return;\n",
              "\n",
              "          const docLinkHtml = 'Like what you see? Visit the ' +\n",
              "            '<a target=\"_blank\" href=https://colab.research.google.com/notebooks/data_table.ipynb>data table notebook</a>'\n",
              "            + ' to learn more about interactive tables.';\n",
              "          element.innerHTML = '';\n",
              "          dataTable['output_type'] = 'display_data';\n",
              "          await google.colab.output.renderOutput(dataTable, element);\n",
              "          const docLink = document.createElement('div');\n",
              "          docLink.innerHTML = docLinkHtml;\n",
              "          element.appendChild(docLink);\n",
              "        }\n",
              "      </script>\n",
              "    </div>\n",
              "  </div>\n",
              "  "
            ]
          },
          "metadata": {},
          "execution_count": 25
        }
      ]
    },
    {
      "cell_type": "code",
      "source": [
        "disjiont_train_df.rename(columns = {'items' : 'outfit_items', 'set_id' : 'outfit_id'}, inplace = True)\n",
        "print(disjiont_train_df.iloc[10,1])\n",
        "disjiont_train_df.iloc[10,0]"
      ],
      "metadata": {
        "id": "H626xjLasDtu",
        "colab": {
          "base_uri": "https://localhost:8080/"
        },
        "outputId": "06bf842e-08ac-4025-a608-b03c9597e92c"
      },
      "execution_count": null,
      "outputs": [
        {
          "output_type": "stream",
          "name": "stdout",
          "text": [
            "225139325\n"
          ]
        },
        {
          "output_type": "execute_result",
          "data": {
            "text/plain": [
              "[{'index': 1, 'item_id': '213007746'},\n",
              " {'index': 2, 'item_id': '212992927'},\n",
              " {'index': 3, 'item_id': '214327110'},\n",
              " {'index': 4, 'item_id': '207668984'},\n",
              " {'index': 5, 'item_id': '181900351'},\n",
              " {'index': 6, 'item_id': '202212715'}]"
            ]
          },
          "metadata": {},
          "execution_count": 26
        }
      ]
    },
    {
      "cell_type": "code",
      "source": [
        "disjiont_train_outfits_df=disjiont_train_df.copy()\n",
        "\n",
        "for i in tqdm.tqdm(range(disjiont_train_outfits_df.shape[0])):\n",
        "    disjiont_train_outfits_df.at[i,'outfit_items'] = build_outfit(disjiont_train_outfits_df.iloc[i])\n"
      ],
      "metadata": {
        "colab": {
          "base_uri": "https://localhost:8080/"
        },
        "id": "LCMtyC8MGLpw",
        "outputId": "e6461e4e-c959-4a1d-bf04-e8961551e020"
      },
      "execution_count": null,
      "outputs": [
        {
          "output_type": "stream",
          "name": "stderr",
          "text": [
            "100%|██████████| 16995/16995 [10:00<00:00, 28.28it/s]\n"
          ]
        }
      ]
    },
    {
      "cell_type": "code",
      "source": [
        "print(disjiont_train_outfits_df.iloc[10,1])\n",
        "disjiont_train_outfits_df.iloc[10,0]"
      ],
      "metadata": {
        "id": "LCGCO8DusLjg",
        "colab": {
          "base_uri": "https://localhost:8080/"
        },
        "outputId": "3b43d818-688e-4e1d-f908-9239c43e87e1"
      },
      "execution_count": null,
      "outputs": [
        {
          "output_type": "stream",
          "name": "stdout",
          "text": [
            "225139325\n"
          ]
        },
        {
          "output_type": "execute_result",
          "data": {
            "text/plain": [
              "{'225139325_1': '/content/content/polyvore_outfits/images/213007746.jpg',\n",
              " '225139325_2': '/content/content/polyvore_outfits/images/212992927.jpg',\n",
              " '225139325_3': '/content/content/polyvore_outfits/images/214327110.jpg',\n",
              " '225139325_4': '/content/content/polyvore_outfits/images/207668984.jpg',\n",
              " '225139325_5': '/content/content/polyvore_outfits/images/181900351.jpg',\n",
              " '225139325_6': '/content/content/polyvore_outfits/images/202212715.jpg'}"
            ]
          },
          "metadata": {},
          "execution_count": 28
        }
      ]
    },
    {
      "cell_type": "code",
      "source": [
        "disjiont_train_outfits_df"
      ],
      "metadata": {
        "colab": {
          "base_uri": "https://localhost:8080/",
          "height": 423
        },
        "id": "79gvpeMaH0lb",
        "outputId": "4b6a42ba-f833-47c2-810a-38c4d0a86357"
      },
      "execution_count": null,
      "outputs": [
        {
          "output_type": "execute_result",
          "data": {
            "text/plain": [
              "                                            outfit_items  outfit_id\n",
              "0      {'199244701_1': '/content/content/polyvore_out...  199244701\n",
              "1      {'200742384_1': '/content/content/polyvore_out...  200742384\n",
              "2      {'206955877_1': '/content/content/polyvore_out...  206955877\n",
              "3      {'220340816_1': '/content/content/polyvore_out...  220340816\n",
              "4      {'219393187_1': '/content/content/polyvore_out...  219393187\n",
              "...                                                  ...        ...\n",
              "16990  {'205231354_1': '/content/content/polyvore_out...  205231354\n",
              "16991  {'211884833_1': '/content/content/polyvore_out...  211884833\n",
              "16992  {'217542558_1': '/content/content/polyvore_out...  217542558\n",
              "16993  {'205613256_1': '/content/content/polyvore_out...  205613256\n",
              "16994  {'225327855_1': '/content/content/polyvore_out...  225327855\n",
              "\n",
              "[16995 rows x 2 columns]"
            ],
            "text/html": [
              "\n",
              "  <div id=\"df-7b146e7d-07f0-4b0b-b847-d0c19bbd3f99\">\n",
              "    <div class=\"colab-df-container\">\n",
              "      <div>\n",
              "<style scoped>\n",
              "    .dataframe tbody tr th:only-of-type {\n",
              "        vertical-align: middle;\n",
              "    }\n",
              "\n",
              "    .dataframe tbody tr th {\n",
              "        vertical-align: top;\n",
              "    }\n",
              "\n",
              "    .dataframe thead th {\n",
              "        text-align: right;\n",
              "    }\n",
              "</style>\n",
              "<table border=\"1\" class=\"dataframe\">\n",
              "  <thead>\n",
              "    <tr style=\"text-align: right;\">\n",
              "      <th></th>\n",
              "      <th>outfit_items</th>\n",
              "      <th>outfit_id</th>\n",
              "    </tr>\n",
              "  </thead>\n",
              "  <tbody>\n",
              "    <tr>\n",
              "      <th>0</th>\n",
              "      <td>{'199244701_1': '/content/content/polyvore_out...</td>\n",
              "      <td>199244701</td>\n",
              "    </tr>\n",
              "    <tr>\n",
              "      <th>1</th>\n",
              "      <td>{'200742384_1': '/content/content/polyvore_out...</td>\n",
              "      <td>200742384</td>\n",
              "    </tr>\n",
              "    <tr>\n",
              "      <th>2</th>\n",
              "      <td>{'206955877_1': '/content/content/polyvore_out...</td>\n",
              "      <td>206955877</td>\n",
              "    </tr>\n",
              "    <tr>\n",
              "      <th>3</th>\n",
              "      <td>{'220340816_1': '/content/content/polyvore_out...</td>\n",
              "      <td>220340816</td>\n",
              "    </tr>\n",
              "    <tr>\n",
              "      <th>4</th>\n",
              "      <td>{'219393187_1': '/content/content/polyvore_out...</td>\n",
              "      <td>219393187</td>\n",
              "    </tr>\n",
              "    <tr>\n",
              "      <th>...</th>\n",
              "      <td>...</td>\n",
              "      <td>...</td>\n",
              "    </tr>\n",
              "    <tr>\n",
              "      <th>16990</th>\n",
              "      <td>{'205231354_1': '/content/content/polyvore_out...</td>\n",
              "      <td>205231354</td>\n",
              "    </tr>\n",
              "    <tr>\n",
              "      <th>16991</th>\n",
              "      <td>{'211884833_1': '/content/content/polyvore_out...</td>\n",
              "      <td>211884833</td>\n",
              "    </tr>\n",
              "    <tr>\n",
              "      <th>16992</th>\n",
              "      <td>{'217542558_1': '/content/content/polyvore_out...</td>\n",
              "      <td>217542558</td>\n",
              "    </tr>\n",
              "    <tr>\n",
              "      <th>16993</th>\n",
              "      <td>{'205613256_1': '/content/content/polyvore_out...</td>\n",
              "      <td>205613256</td>\n",
              "    </tr>\n",
              "    <tr>\n",
              "      <th>16994</th>\n",
              "      <td>{'225327855_1': '/content/content/polyvore_out...</td>\n",
              "      <td>225327855</td>\n",
              "    </tr>\n",
              "  </tbody>\n",
              "</table>\n",
              "<p>16995 rows × 2 columns</p>\n",
              "</div>\n",
              "      <button class=\"colab-df-convert\" onclick=\"convertToInteractive('df-7b146e7d-07f0-4b0b-b847-d0c19bbd3f99')\"\n",
              "              title=\"Convert this dataframe to an interactive table.\"\n",
              "              style=\"display:none;\">\n",
              "        \n",
              "  <svg xmlns=\"http://www.w3.org/2000/svg\" height=\"24px\"viewBox=\"0 0 24 24\"\n",
              "       width=\"24px\">\n",
              "    <path d=\"M0 0h24v24H0V0z\" fill=\"none\"/>\n",
              "    <path d=\"M18.56 5.44l.94 2.06.94-2.06 2.06-.94-2.06-.94-.94-2.06-.94 2.06-2.06.94zm-11 1L8.5 8.5l.94-2.06 2.06-.94-2.06-.94L8.5 2.5l-.94 2.06-2.06.94zm10 10l.94 2.06.94-2.06 2.06-.94-2.06-.94-.94-2.06-.94 2.06-2.06.94z\"/><path d=\"M17.41 7.96l-1.37-1.37c-.4-.4-.92-.59-1.43-.59-.52 0-1.04.2-1.43.59L10.3 9.45l-7.72 7.72c-.78.78-.78 2.05 0 2.83L4 21.41c.39.39.9.59 1.41.59.51 0 1.02-.2 1.41-.59l7.78-7.78 2.81-2.81c.8-.78.8-2.07 0-2.86zM5.41 20L4 18.59l7.72-7.72 1.47 1.35L5.41 20z\"/>\n",
              "  </svg>\n",
              "      </button>\n",
              "      \n",
              "  <style>\n",
              "    .colab-df-container {\n",
              "      display:flex;\n",
              "      flex-wrap:wrap;\n",
              "      gap: 12px;\n",
              "    }\n",
              "\n",
              "    .colab-df-convert {\n",
              "      background-color: #E8F0FE;\n",
              "      border: none;\n",
              "      border-radius: 50%;\n",
              "      cursor: pointer;\n",
              "      display: none;\n",
              "      fill: #1967D2;\n",
              "      height: 32px;\n",
              "      padding: 0 0 0 0;\n",
              "      width: 32px;\n",
              "    }\n",
              "\n",
              "    .colab-df-convert:hover {\n",
              "      background-color: #E2EBFA;\n",
              "      box-shadow: 0px 1px 2px rgba(60, 64, 67, 0.3), 0px 1px 3px 1px rgba(60, 64, 67, 0.15);\n",
              "      fill: #174EA6;\n",
              "    }\n",
              "\n",
              "    [theme=dark] .colab-df-convert {\n",
              "      background-color: #3B4455;\n",
              "      fill: #D2E3FC;\n",
              "    }\n",
              "\n",
              "    [theme=dark] .colab-df-convert:hover {\n",
              "      background-color: #434B5C;\n",
              "      box-shadow: 0px 1px 3px 1px rgba(0, 0, 0, 0.15);\n",
              "      filter: drop-shadow(0px 1px 2px rgba(0, 0, 0, 0.3));\n",
              "      fill: #FFFFFF;\n",
              "    }\n",
              "  </style>\n",
              "\n",
              "      <script>\n",
              "        const buttonEl =\n",
              "          document.querySelector('#df-7b146e7d-07f0-4b0b-b847-d0c19bbd3f99 button.colab-df-convert');\n",
              "        buttonEl.style.display =\n",
              "          google.colab.kernel.accessAllowed ? 'block' : 'none';\n",
              "\n",
              "        async function convertToInteractive(key) {\n",
              "          const element = document.querySelector('#df-7b146e7d-07f0-4b0b-b847-d0c19bbd3f99');\n",
              "          const dataTable =\n",
              "            await google.colab.kernel.invokeFunction('convertToInteractive',\n",
              "                                                     [key], {});\n",
              "          if (!dataTable) return;\n",
              "\n",
              "          const docLinkHtml = 'Like what you see? Visit the ' +\n",
              "            '<a target=\"_blank\" href=https://colab.research.google.com/notebooks/data_table.ipynb>data table notebook</a>'\n",
              "            + ' to learn more about interactive tables.';\n",
              "          element.innerHTML = '';\n",
              "          dataTable['output_type'] = 'display_data';\n",
              "          await google.colab.output.renderOutput(dataTable, element);\n",
              "          const docLink = document.createElement('div');\n",
              "          docLink.innerHTML = docLinkHtml;\n",
              "          element.appendChild(docLink);\n",
              "        }\n",
              "      </script>\n",
              "    </div>\n",
              "  </div>\n",
              "  "
            ]
          },
          "metadata": {},
          "execution_count": 29
        }
      ]
    },
    {
      "cell_type": "code",
      "source": [
        "disjiont_train_outfits_images = pd.DataFrame(columns=['outfits_images_id', 'outfits_images_path'])\n",
        "for i in tqdm.tqdm(range(disjiont_train_outfits_df.shape[0])):\n",
        "    disjiont_train_outfits_images = disjiont_train_outfits_images.append(arrange_images(disjiont_train_outfits_df.iloc[i,0]), ignore_index=True)\n"
      ],
      "metadata": {
        "colab": {
          "base_uri": "https://localhost:8080/"
        },
        "id": "ClVbuvqiIIxj",
        "outputId": "ee912b77-c0c9-4fca-eae0-fd7e7774bafa"
      },
      "execution_count": null,
      "outputs": [
        {
          "output_type": "stream",
          "name": "stderr",
          "text": [
            "100%|██████████| 16995/16995 [01:21<00:00, 207.33it/s]\n"
          ]
        }
      ]
    },
    {
      "cell_type": "code",
      "source": [
        "disjiont_train_outfits_images"
      ],
      "metadata": {
        "colab": {
          "base_uri": "https://localhost:8080/",
          "height": 423
        },
        "id": "X4rIpDjoOSzW",
        "outputId": "1e00f1d7-c163-4098-e46a-27f5ed3ccc0b"
      },
      "execution_count": null,
      "outputs": [
        {
          "output_type": "execute_result",
          "data": {
            "text/plain": [
              "      outfits_images_id                                outfits_images_path\n",
              "0           199244701_1  /content/content/polyvore_outfits/images/13262...\n",
              "1           199244701_2  /content/content/polyvore_outfits/images/15396...\n",
              "2           199244701_3  /content/content/polyvore_outfits/images/17116...\n",
              "3           199244701_4  /content/content/polyvore_outfits/images/16279...\n",
              "4           199244701_5  /content/content/polyvore_outfits/images/17253...\n",
              "...                 ...                                                ...\n",
              "85930       205613256_4  /content/content/polyvore_outfits/images/17596...\n",
              "85931       205613256_5  /content/content/polyvore_outfits/images/16292...\n",
              "85932       205613256_6  /content/content/polyvore_outfits/images/18060...\n",
              "85933       225327855_1  /content/content/polyvore_outfits/images/18038...\n",
              "85934       225327855_2  /content/content/polyvore_outfits/images/20191...\n",
              "\n",
              "[85935 rows x 2 columns]"
            ],
            "text/html": [
              "\n",
              "  <div id=\"df-ddb6eeb2-9453-4f89-85ac-90eee67cec78\">\n",
              "    <div class=\"colab-df-container\">\n",
              "      <div>\n",
              "<style scoped>\n",
              "    .dataframe tbody tr th:only-of-type {\n",
              "        vertical-align: middle;\n",
              "    }\n",
              "\n",
              "    .dataframe tbody tr th {\n",
              "        vertical-align: top;\n",
              "    }\n",
              "\n",
              "    .dataframe thead th {\n",
              "        text-align: right;\n",
              "    }\n",
              "</style>\n",
              "<table border=\"1\" class=\"dataframe\">\n",
              "  <thead>\n",
              "    <tr style=\"text-align: right;\">\n",
              "      <th></th>\n",
              "      <th>outfits_images_id</th>\n",
              "      <th>outfits_images_path</th>\n",
              "    </tr>\n",
              "  </thead>\n",
              "  <tbody>\n",
              "    <tr>\n",
              "      <th>0</th>\n",
              "      <td>199244701_1</td>\n",
              "      <td>/content/content/polyvore_outfits/images/13262...</td>\n",
              "    </tr>\n",
              "    <tr>\n",
              "      <th>1</th>\n",
              "      <td>199244701_2</td>\n",
              "      <td>/content/content/polyvore_outfits/images/15396...</td>\n",
              "    </tr>\n",
              "    <tr>\n",
              "      <th>2</th>\n",
              "      <td>199244701_3</td>\n",
              "      <td>/content/content/polyvore_outfits/images/17116...</td>\n",
              "    </tr>\n",
              "    <tr>\n",
              "      <th>3</th>\n",
              "      <td>199244701_4</td>\n",
              "      <td>/content/content/polyvore_outfits/images/16279...</td>\n",
              "    </tr>\n",
              "    <tr>\n",
              "      <th>4</th>\n",
              "      <td>199244701_5</td>\n",
              "      <td>/content/content/polyvore_outfits/images/17253...</td>\n",
              "    </tr>\n",
              "    <tr>\n",
              "      <th>...</th>\n",
              "      <td>...</td>\n",
              "      <td>...</td>\n",
              "    </tr>\n",
              "    <tr>\n",
              "      <th>85930</th>\n",
              "      <td>205613256_4</td>\n",
              "      <td>/content/content/polyvore_outfits/images/17596...</td>\n",
              "    </tr>\n",
              "    <tr>\n",
              "      <th>85931</th>\n",
              "      <td>205613256_5</td>\n",
              "      <td>/content/content/polyvore_outfits/images/16292...</td>\n",
              "    </tr>\n",
              "    <tr>\n",
              "      <th>85932</th>\n",
              "      <td>205613256_6</td>\n",
              "      <td>/content/content/polyvore_outfits/images/18060...</td>\n",
              "    </tr>\n",
              "    <tr>\n",
              "      <th>85933</th>\n",
              "      <td>225327855_1</td>\n",
              "      <td>/content/content/polyvore_outfits/images/18038...</td>\n",
              "    </tr>\n",
              "    <tr>\n",
              "      <th>85934</th>\n",
              "      <td>225327855_2</td>\n",
              "      <td>/content/content/polyvore_outfits/images/20191...</td>\n",
              "    </tr>\n",
              "  </tbody>\n",
              "</table>\n",
              "<p>85935 rows × 2 columns</p>\n",
              "</div>\n",
              "      <button class=\"colab-df-convert\" onclick=\"convertToInteractive('df-ddb6eeb2-9453-4f89-85ac-90eee67cec78')\"\n",
              "              title=\"Convert this dataframe to an interactive table.\"\n",
              "              style=\"display:none;\">\n",
              "        \n",
              "  <svg xmlns=\"http://www.w3.org/2000/svg\" height=\"24px\"viewBox=\"0 0 24 24\"\n",
              "       width=\"24px\">\n",
              "    <path d=\"M0 0h24v24H0V0z\" fill=\"none\"/>\n",
              "    <path d=\"M18.56 5.44l.94 2.06.94-2.06 2.06-.94-2.06-.94-.94-2.06-.94 2.06-2.06.94zm-11 1L8.5 8.5l.94-2.06 2.06-.94-2.06-.94L8.5 2.5l-.94 2.06-2.06.94zm10 10l.94 2.06.94-2.06 2.06-.94-2.06-.94-.94-2.06-.94 2.06-2.06.94z\"/><path d=\"M17.41 7.96l-1.37-1.37c-.4-.4-.92-.59-1.43-.59-.52 0-1.04.2-1.43.59L10.3 9.45l-7.72 7.72c-.78.78-.78 2.05 0 2.83L4 21.41c.39.39.9.59 1.41.59.51 0 1.02-.2 1.41-.59l7.78-7.78 2.81-2.81c.8-.78.8-2.07 0-2.86zM5.41 20L4 18.59l7.72-7.72 1.47 1.35L5.41 20z\"/>\n",
              "  </svg>\n",
              "      </button>\n",
              "      \n",
              "  <style>\n",
              "    .colab-df-container {\n",
              "      display:flex;\n",
              "      flex-wrap:wrap;\n",
              "      gap: 12px;\n",
              "    }\n",
              "\n",
              "    .colab-df-convert {\n",
              "      background-color: #E8F0FE;\n",
              "      border: none;\n",
              "      border-radius: 50%;\n",
              "      cursor: pointer;\n",
              "      display: none;\n",
              "      fill: #1967D2;\n",
              "      height: 32px;\n",
              "      padding: 0 0 0 0;\n",
              "      width: 32px;\n",
              "    }\n",
              "\n",
              "    .colab-df-convert:hover {\n",
              "      background-color: #E2EBFA;\n",
              "      box-shadow: 0px 1px 2px rgba(60, 64, 67, 0.3), 0px 1px 3px 1px rgba(60, 64, 67, 0.15);\n",
              "      fill: #174EA6;\n",
              "    }\n",
              "\n",
              "    [theme=dark] .colab-df-convert {\n",
              "      background-color: #3B4455;\n",
              "      fill: #D2E3FC;\n",
              "    }\n",
              "\n",
              "    [theme=dark] .colab-df-convert:hover {\n",
              "      background-color: #434B5C;\n",
              "      box-shadow: 0px 1px 3px 1px rgba(0, 0, 0, 0.15);\n",
              "      filter: drop-shadow(0px 1px 2px rgba(0, 0, 0, 0.3));\n",
              "      fill: #FFFFFF;\n",
              "    }\n",
              "  </style>\n",
              "\n",
              "      <script>\n",
              "        const buttonEl =\n",
              "          document.querySelector('#df-ddb6eeb2-9453-4f89-85ac-90eee67cec78 button.colab-df-convert');\n",
              "        buttonEl.style.display =\n",
              "          google.colab.kernel.accessAllowed ? 'block' : 'none';\n",
              "\n",
              "        async function convertToInteractive(key) {\n",
              "          const element = document.querySelector('#df-ddb6eeb2-9453-4f89-85ac-90eee67cec78');\n",
              "          const dataTable =\n",
              "            await google.colab.kernel.invokeFunction('convertToInteractive',\n",
              "                                                     [key], {});\n",
              "          if (!dataTable) return;\n",
              "\n",
              "          const docLinkHtml = 'Like what you see? Visit the ' +\n",
              "            '<a target=\"_blank\" href=https://colab.research.google.com/notebooks/data_table.ipynb>data table notebook</a>'\n",
              "            + ' to learn more about interactive tables.';\n",
              "          element.innerHTML = '';\n",
              "          dataTable['output_type'] = 'display_data';\n",
              "          await google.colab.output.renderOutput(dataTable, element);\n",
              "          const docLink = document.createElement('div');\n",
              "          docLink.innerHTML = docLinkHtml;\n",
              "          element.appendChild(docLink);\n",
              "        }\n",
              "      </script>\n",
              "    </div>\n",
              "  </div>\n",
              "  "
            ]
          },
          "metadata": {},
          "execution_count": 31
        }
      ]
    },
    {
      "cell_type": "markdown",
      "source": [
        "##### Make CSV"
      ],
      "metadata": {
        "id": "5nm1Lr2SqiYg"
      }
    },
    {
      "cell_type": "code",
      "source": [
        "disjiont_train_outfits_df.to_csv('/content/drive/MyDrive/Outfit_Recommendation_Project/Data_CSV_Files/disjiont_train_outfits.csv')"
      ],
      "metadata": {
        "id": "okM52GY9qiYg"
      },
      "execution_count": null,
      "outputs": []
    },
    {
      "cell_type": "code",
      "source": [
        "disjiont_train_outfits_images.to_csv('/content/drive/MyDrive/Outfit_Recommendation_Project/Data_CSV_Files/disjiont_train_outfits_images.csv', index=False)"
      ],
      "metadata": {
        "id": "iUOahxf4R8kN"
      },
      "execution_count": null,
      "outputs": []
    },
    {
      "cell_type": "markdown",
      "source": [
        "#### test.json"
      ],
      "metadata": {
        "id": "SkkOfZe1qxce"
      }
    },
    {
      "cell_type": "markdown",
      "source": [
        "* <font color='pink'><font size=4> create a dataframe of disjoint testing outfits </font>"
      ],
      "metadata": {
        "id": "Las8iPDlkZSd"
      }
    },
    {
      "cell_type": "code",
      "source": [
        "disjiont_test_df= pd.read_json(\"/content/polyvore_outfits/disjoint/test.json\")\n",
        "disjiont_test_df"
      ],
      "metadata": {
        "id": "JjXqxYSrqxcf",
        "colab": {
          "base_uri": "https://localhost:8080/",
          "height": 423
        },
        "outputId": "d0233be9-ae6f-4a59-9df6-b4683ac5e423"
      },
      "execution_count": null,
      "outputs": [
        {
          "output_type": "execute_result",
          "data": {
            "text/plain": [
              "                                                   items     set_id\n",
              "0      [{'item_id': '159402796', 'index': 1}, {'item_...  222049137\n",
              "1      [{'item_id': '58893791', 'index': 1}, {'item_i...  171638917\n",
              "2      [{'item_id': '147772496', 'index': 1}, {'item_...  209614451\n",
              "3      [{'item_id': '172213324', 'index': 1}, {'item_...  208805759\n",
              "4      [{'item_id': '146453731', 'index': 1}, {'item_...  181727193\n",
              "...                                                  ...        ...\n",
              "15140  [{'item_id': '110258509', 'index': 1}, {'item_...  130442086\n",
              "15141  [{'item_id': '159369228', 'index': 1}, {'item_...  191016735\n",
              "15142  [{'item_id': '150478161', 'index': 1}, {'item_...  179451388\n",
              "15143  [{'item_id': '32286230', 'index': 1}, {'item_i...   42911078\n",
              "15144  [{'item_id': '189120927', 'index': 1}, {'item_...  210601169\n",
              "\n",
              "[15145 rows x 2 columns]"
            ],
            "text/html": [
              "\n",
              "  <div id=\"df-e3c7d744-4c3c-40ec-9a04-203dcd911047\">\n",
              "    <div class=\"colab-df-container\">\n",
              "      <div>\n",
              "<style scoped>\n",
              "    .dataframe tbody tr th:only-of-type {\n",
              "        vertical-align: middle;\n",
              "    }\n",
              "\n",
              "    .dataframe tbody tr th {\n",
              "        vertical-align: top;\n",
              "    }\n",
              "\n",
              "    .dataframe thead th {\n",
              "        text-align: right;\n",
              "    }\n",
              "</style>\n",
              "<table border=\"1\" class=\"dataframe\">\n",
              "  <thead>\n",
              "    <tr style=\"text-align: right;\">\n",
              "      <th></th>\n",
              "      <th>items</th>\n",
              "      <th>set_id</th>\n",
              "    </tr>\n",
              "  </thead>\n",
              "  <tbody>\n",
              "    <tr>\n",
              "      <th>0</th>\n",
              "      <td>[{'item_id': '159402796', 'index': 1}, {'item_...</td>\n",
              "      <td>222049137</td>\n",
              "    </tr>\n",
              "    <tr>\n",
              "      <th>1</th>\n",
              "      <td>[{'item_id': '58893791', 'index': 1}, {'item_i...</td>\n",
              "      <td>171638917</td>\n",
              "    </tr>\n",
              "    <tr>\n",
              "      <th>2</th>\n",
              "      <td>[{'item_id': '147772496', 'index': 1}, {'item_...</td>\n",
              "      <td>209614451</td>\n",
              "    </tr>\n",
              "    <tr>\n",
              "      <th>3</th>\n",
              "      <td>[{'item_id': '172213324', 'index': 1}, {'item_...</td>\n",
              "      <td>208805759</td>\n",
              "    </tr>\n",
              "    <tr>\n",
              "      <th>4</th>\n",
              "      <td>[{'item_id': '146453731', 'index': 1}, {'item_...</td>\n",
              "      <td>181727193</td>\n",
              "    </tr>\n",
              "    <tr>\n",
              "      <th>...</th>\n",
              "      <td>...</td>\n",
              "      <td>...</td>\n",
              "    </tr>\n",
              "    <tr>\n",
              "      <th>15140</th>\n",
              "      <td>[{'item_id': '110258509', 'index': 1}, {'item_...</td>\n",
              "      <td>130442086</td>\n",
              "    </tr>\n",
              "    <tr>\n",
              "      <th>15141</th>\n",
              "      <td>[{'item_id': '159369228', 'index': 1}, {'item_...</td>\n",
              "      <td>191016735</td>\n",
              "    </tr>\n",
              "    <tr>\n",
              "      <th>15142</th>\n",
              "      <td>[{'item_id': '150478161', 'index': 1}, {'item_...</td>\n",
              "      <td>179451388</td>\n",
              "    </tr>\n",
              "    <tr>\n",
              "      <th>15143</th>\n",
              "      <td>[{'item_id': '32286230', 'index': 1}, {'item_i...</td>\n",
              "      <td>42911078</td>\n",
              "    </tr>\n",
              "    <tr>\n",
              "      <th>15144</th>\n",
              "      <td>[{'item_id': '189120927', 'index': 1}, {'item_...</td>\n",
              "      <td>210601169</td>\n",
              "    </tr>\n",
              "  </tbody>\n",
              "</table>\n",
              "<p>15145 rows × 2 columns</p>\n",
              "</div>\n",
              "      <button class=\"colab-df-convert\" onclick=\"convertToInteractive('df-e3c7d744-4c3c-40ec-9a04-203dcd911047')\"\n",
              "              title=\"Convert this dataframe to an interactive table.\"\n",
              "              style=\"display:none;\">\n",
              "        \n",
              "  <svg xmlns=\"http://www.w3.org/2000/svg\" height=\"24px\"viewBox=\"0 0 24 24\"\n",
              "       width=\"24px\">\n",
              "    <path d=\"M0 0h24v24H0V0z\" fill=\"none\"/>\n",
              "    <path d=\"M18.56 5.44l.94 2.06.94-2.06 2.06-.94-2.06-.94-.94-2.06-.94 2.06-2.06.94zm-11 1L8.5 8.5l.94-2.06 2.06-.94-2.06-.94L8.5 2.5l-.94 2.06-2.06.94zm10 10l.94 2.06.94-2.06 2.06-.94-2.06-.94-.94-2.06-.94 2.06-2.06.94z\"/><path d=\"M17.41 7.96l-1.37-1.37c-.4-.4-.92-.59-1.43-.59-.52 0-1.04.2-1.43.59L10.3 9.45l-7.72 7.72c-.78.78-.78 2.05 0 2.83L4 21.41c.39.39.9.59 1.41.59.51 0 1.02-.2 1.41-.59l7.78-7.78 2.81-2.81c.8-.78.8-2.07 0-2.86zM5.41 20L4 18.59l7.72-7.72 1.47 1.35L5.41 20z\"/>\n",
              "  </svg>\n",
              "      </button>\n",
              "      \n",
              "  <style>\n",
              "    .colab-df-container {\n",
              "      display:flex;\n",
              "      flex-wrap:wrap;\n",
              "      gap: 12px;\n",
              "    }\n",
              "\n",
              "    .colab-df-convert {\n",
              "      background-color: #E8F0FE;\n",
              "      border: none;\n",
              "      border-radius: 50%;\n",
              "      cursor: pointer;\n",
              "      display: none;\n",
              "      fill: #1967D2;\n",
              "      height: 32px;\n",
              "      padding: 0 0 0 0;\n",
              "      width: 32px;\n",
              "    }\n",
              "\n",
              "    .colab-df-convert:hover {\n",
              "      background-color: #E2EBFA;\n",
              "      box-shadow: 0px 1px 2px rgba(60, 64, 67, 0.3), 0px 1px 3px 1px rgba(60, 64, 67, 0.15);\n",
              "      fill: #174EA6;\n",
              "    }\n",
              "\n",
              "    [theme=dark] .colab-df-convert {\n",
              "      background-color: #3B4455;\n",
              "      fill: #D2E3FC;\n",
              "    }\n",
              "\n",
              "    [theme=dark] .colab-df-convert:hover {\n",
              "      background-color: #434B5C;\n",
              "      box-shadow: 0px 1px 3px 1px rgba(0, 0, 0, 0.15);\n",
              "      filter: drop-shadow(0px 1px 2px rgba(0, 0, 0, 0.3));\n",
              "      fill: #FFFFFF;\n",
              "    }\n",
              "  </style>\n",
              "\n",
              "      <script>\n",
              "        const buttonEl =\n",
              "          document.querySelector('#df-e3c7d744-4c3c-40ec-9a04-203dcd911047 button.colab-df-convert');\n",
              "        buttonEl.style.display =\n",
              "          google.colab.kernel.accessAllowed ? 'block' : 'none';\n",
              "\n",
              "        async function convertToInteractive(key) {\n",
              "          const element = document.querySelector('#df-e3c7d744-4c3c-40ec-9a04-203dcd911047');\n",
              "          const dataTable =\n",
              "            await google.colab.kernel.invokeFunction('convertToInteractive',\n",
              "                                                     [key], {});\n",
              "          if (!dataTable) return;\n",
              "\n",
              "          const docLinkHtml = 'Like what you see? Visit the ' +\n",
              "            '<a target=\"_blank\" href=https://colab.research.google.com/notebooks/data_table.ipynb>data table notebook</a>'\n",
              "            + ' to learn more about interactive tables.';\n",
              "          element.innerHTML = '';\n",
              "          dataTable['output_type'] = 'display_data';\n",
              "          await google.colab.output.renderOutput(dataTable, element);\n",
              "          const docLink = document.createElement('div');\n",
              "          docLink.innerHTML = docLinkHtml;\n",
              "          element.appendChild(docLink);\n",
              "        }\n",
              "      </script>\n",
              "    </div>\n",
              "  </div>\n",
              "  "
            ]
          },
          "metadata": {},
          "execution_count": 34
        }
      ]
    },
    {
      "cell_type": "code",
      "source": [
        "disjiont_test_df.rename(columns = {'items' : 'outfit_items', 'set_id' : 'outfit_id'}, inplace = True)\n",
        "print(disjiont_test_df.iloc[100,1])\n",
        "disjiont_test_df.iloc[100,0]"
      ],
      "metadata": {
        "id": "JRRdWCHKsha7",
        "colab": {
          "base_uri": "https://localhost:8080/"
        },
        "outputId": "84c8cfd8-7f5c-4b61-c2de-a30d6fb14036"
      },
      "execution_count": null,
      "outputs": [
        {
          "output_type": "stream",
          "name": "stdout",
          "text": [
            "191671357\n"
          ]
        },
        {
          "output_type": "execute_result",
          "data": {
            "text/plain": [
              "[{'index': 1, 'item_id': '162281351'},\n",
              " {'index': 2, 'item_id': '162284763'},\n",
              " {'index': 3, 'item_id': '160720385'},\n",
              " {'index': 4, 'item_id': '158799041'},\n",
              " {'index': 5, 'item_id': '146340382'}]"
            ]
          },
          "metadata": {},
          "execution_count": 35
        }
      ]
    },
    {
      "cell_type": "code",
      "source": [
        "disjiont_test_outfits_df=disjiont_test_df.copy()\n",
        "\n",
        "for i in tqdm.tqdm(range(disjiont_test_outfits_df.shape[0])):\n",
        "    disjiont_test_outfits_df.at[i,'outfit_items'] = build_outfit(disjiont_test_outfits_df.iloc[i])\n"
      ],
      "metadata": {
        "colab": {
          "base_uri": "https://localhost:8080/"
        },
        "id": "Wm8xm1E5P3xf",
        "outputId": "de29be3f-1f32-48df-91e0-69a7323ae97c"
      },
      "execution_count": null,
      "outputs": [
        {
          "output_type": "stream",
          "name": "stderr",
          "text": [
            "100%|██████████| 15145/15145 [08:27<00:00, 29.85it/s]\n"
          ]
        }
      ]
    },
    {
      "cell_type": "code",
      "source": [
        "print(disjiont_test_outfits_df.iloc[100,1])\n",
        "disjiont_test_outfits_df.iloc[100,0]"
      ],
      "metadata": {
        "id": "2nJa4u12smnK",
        "colab": {
          "base_uri": "https://localhost:8080/"
        },
        "outputId": "df6ec22e-4eb9-49ee-92fc-e602fe322859"
      },
      "execution_count": null,
      "outputs": [
        {
          "output_type": "stream",
          "name": "stdout",
          "text": [
            "191671357\n"
          ]
        },
        {
          "output_type": "execute_result",
          "data": {
            "text/plain": [
              "{'191671357_1': '/content/content/polyvore_outfits/images/162281351.jpg',\n",
              " '191671357_2': '/content/content/polyvore_outfits/images/162284763.jpg',\n",
              " '191671357_3': '/content/content/polyvore_outfits/images/160720385.jpg',\n",
              " '191671357_4': '/content/content/polyvore_outfits/images/158799041.jpg',\n",
              " '191671357_5': '/content/content/polyvore_outfits/images/146340382.jpg'}"
            ]
          },
          "metadata": {},
          "execution_count": 37
        }
      ]
    },
    {
      "cell_type": "code",
      "source": [
        "disjiont_test_outfits_images = pd.DataFrame(columns=['outfits_images_id', 'outfits_images_path'])\n",
        "for i in tqdm.tqdm(range(disjiont_test_outfits_df.shape[0])):\n",
        "    disjiont_test_outfits_images = disjiont_test_outfits_images.append(arrange_images(disjiont_test_outfits_df.iloc[i,0]), ignore_index=True)\n"
      ],
      "metadata": {
        "colab": {
          "base_uri": "https://localhost:8080/"
        },
        "id": "ciu8DsSsaebR",
        "outputId": "abc6e5b8-b7d3-42d3-dcbc-cb1529dbf578"
      },
      "execution_count": null,
      "outputs": [
        {
          "output_type": "stream",
          "name": "stderr",
          "text": [
            "100%|██████████| 15145/15145 [01:06<00:00, 227.13it/s]\n"
          ]
        }
      ]
    },
    {
      "cell_type": "code",
      "source": [
        "disjiont_test_outfits_images"
      ],
      "metadata": {
        "colab": {
          "base_uri": "https://localhost:8080/",
          "height": 423
        },
        "id": "oJ3EB0Z6c0PF",
        "outputId": "ec64615e-4929-48e1-830f-019cc10adcf7"
      },
      "execution_count": null,
      "outputs": [
        {
          "output_type": "execute_result",
          "data": {
            "text/plain": [
              "      outfits_images_id                                outfits_images_path\n",
              "0           222049137_1  /content/content/polyvore_outfits/images/15940...\n",
              "1           222049137_2  /content/content/polyvore_outfits/images/20081...\n",
              "2           222049137_3  /content/content/polyvore_outfits/images/20888...\n",
              "3           222049137_4  /content/content/polyvore_outfits/images/20889...\n",
              "4           222049137_5  /content/content/polyvore_outfits/images/17683...\n",
              "...                 ...                                                ...\n",
              "74257        42911078_7  /content/content/polyvore_outfits/images/39806...\n",
              "74258       210601169_1  /content/content/polyvore_outfits/images/18912...\n",
              "74259       210601169_2  /content/content/polyvore_outfits/images/18912...\n",
              "74260       210601169_3  /content/content/polyvore_outfits/images/18912...\n",
              "74261       210601169_4  /content/content/polyvore_outfits/images/18912...\n",
              "\n",
              "[74262 rows x 2 columns]"
            ],
            "text/html": [
              "\n",
              "  <div id=\"df-19d7183b-27d3-41af-8d2a-fe6e0663edc0\">\n",
              "    <div class=\"colab-df-container\">\n",
              "      <div>\n",
              "<style scoped>\n",
              "    .dataframe tbody tr th:only-of-type {\n",
              "        vertical-align: middle;\n",
              "    }\n",
              "\n",
              "    .dataframe tbody tr th {\n",
              "        vertical-align: top;\n",
              "    }\n",
              "\n",
              "    .dataframe thead th {\n",
              "        text-align: right;\n",
              "    }\n",
              "</style>\n",
              "<table border=\"1\" class=\"dataframe\">\n",
              "  <thead>\n",
              "    <tr style=\"text-align: right;\">\n",
              "      <th></th>\n",
              "      <th>outfits_images_id</th>\n",
              "      <th>outfits_images_path</th>\n",
              "    </tr>\n",
              "  </thead>\n",
              "  <tbody>\n",
              "    <tr>\n",
              "      <th>0</th>\n",
              "      <td>222049137_1</td>\n",
              "      <td>/content/content/polyvore_outfits/images/15940...</td>\n",
              "    </tr>\n",
              "    <tr>\n",
              "      <th>1</th>\n",
              "      <td>222049137_2</td>\n",
              "      <td>/content/content/polyvore_outfits/images/20081...</td>\n",
              "    </tr>\n",
              "    <tr>\n",
              "      <th>2</th>\n",
              "      <td>222049137_3</td>\n",
              "      <td>/content/content/polyvore_outfits/images/20888...</td>\n",
              "    </tr>\n",
              "    <tr>\n",
              "      <th>3</th>\n",
              "      <td>222049137_4</td>\n",
              "      <td>/content/content/polyvore_outfits/images/20889...</td>\n",
              "    </tr>\n",
              "    <tr>\n",
              "      <th>4</th>\n",
              "      <td>222049137_5</td>\n",
              "      <td>/content/content/polyvore_outfits/images/17683...</td>\n",
              "    </tr>\n",
              "    <tr>\n",
              "      <th>...</th>\n",
              "      <td>...</td>\n",
              "      <td>...</td>\n",
              "    </tr>\n",
              "    <tr>\n",
              "      <th>74257</th>\n",
              "      <td>42911078_7</td>\n",
              "      <td>/content/content/polyvore_outfits/images/39806...</td>\n",
              "    </tr>\n",
              "    <tr>\n",
              "      <th>74258</th>\n",
              "      <td>210601169_1</td>\n",
              "      <td>/content/content/polyvore_outfits/images/18912...</td>\n",
              "    </tr>\n",
              "    <tr>\n",
              "      <th>74259</th>\n",
              "      <td>210601169_2</td>\n",
              "      <td>/content/content/polyvore_outfits/images/18912...</td>\n",
              "    </tr>\n",
              "    <tr>\n",
              "      <th>74260</th>\n",
              "      <td>210601169_3</td>\n",
              "      <td>/content/content/polyvore_outfits/images/18912...</td>\n",
              "    </tr>\n",
              "    <tr>\n",
              "      <th>74261</th>\n",
              "      <td>210601169_4</td>\n",
              "      <td>/content/content/polyvore_outfits/images/18912...</td>\n",
              "    </tr>\n",
              "  </tbody>\n",
              "</table>\n",
              "<p>74262 rows × 2 columns</p>\n",
              "</div>\n",
              "      <button class=\"colab-df-convert\" onclick=\"convertToInteractive('df-19d7183b-27d3-41af-8d2a-fe6e0663edc0')\"\n",
              "              title=\"Convert this dataframe to an interactive table.\"\n",
              "              style=\"display:none;\">\n",
              "        \n",
              "  <svg xmlns=\"http://www.w3.org/2000/svg\" height=\"24px\"viewBox=\"0 0 24 24\"\n",
              "       width=\"24px\">\n",
              "    <path d=\"M0 0h24v24H0V0z\" fill=\"none\"/>\n",
              "    <path d=\"M18.56 5.44l.94 2.06.94-2.06 2.06-.94-2.06-.94-.94-2.06-.94 2.06-2.06.94zm-11 1L8.5 8.5l.94-2.06 2.06-.94-2.06-.94L8.5 2.5l-.94 2.06-2.06.94zm10 10l.94 2.06.94-2.06 2.06-.94-2.06-.94-.94-2.06-.94 2.06-2.06.94z\"/><path d=\"M17.41 7.96l-1.37-1.37c-.4-.4-.92-.59-1.43-.59-.52 0-1.04.2-1.43.59L10.3 9.45l-7.72 7.72c-.78.78-.78 2.05 0 2.83L4 21.41c.39.39.9.59 1.41.59.51 0 1.02-.2 1.41-.59l7.78-7.78 2.81-2.81c.8-.78.8-2.07 0-2.86zM5.41 20L4 18.59l7.72-7.72 1.47 1.35L5.41 20z\"/>\n",
              "  </svg>\n",
              "      </button>\n",
              "      \n",
              "  <style>\n",
              "    .colab-df-container {\n",
              "      display:flex;\n",
              "      flex-wrap:wrap;\n",
              "      gap: 12px;\n",
              "    }\n",
              "\n",
              "    .colab-df-convert {\n",
              "      background-color: #E8F0FE;\n",
              "      border: none;\n",
              "      border-radius: 50%;\n",
              "      cursor: pointer;\n",
              "      display: none;\n",
              "      fill: #1967D2;\n",
              "      height: 32px;\n",
              "      padding: 0 0 0 0;\n",
              "      width: 32px;\n",
              "    }\n",
              "\n",
              "    .colab-df-convert:hover {\n",
              "      background-color: #E2EBFA;\n",
              "      box-shadow: 0px 1px 2px rgba(60, 64, 67, 0.3), 0px 1px 3px 1px rgba(60, 64, 67, 0.15);\n",
              "      fill: #174EA6;\n",
              "    }\n",
              "\n",
              "    [theme=dark] .colab-df-convert {\n",
              "      background-color: #3B4455;\n",
              "      fill: #D2E3FC;\n",
              "    }\n",
              "\n",
              "    [theme=dark] .colab-df-convert:hover {\n",
              "      background-color: #434B5C;\n",
              "      box-shadow: 0px 1px 3px 1px rgba(0, 0, 0, 0.15);\n",
              "      filter: drop-shadow(0px 1px 2px rgba(0, 0, 0, 0.3));\n",
              "      fill: #FFFFFF;\n",
              "    }\n",
              "  </style>\n",
              "\n",
              "      <script>\n",
              "        const buttonEl =\n",
              "          document.querySelector('#df-19d7183b-27d3-41af-8d2a-fe6e0663edc0 button.colab-df-convert');\n",
              "        buttonEl.style.display =\n",
              "          google.colab.kernel.accessAllowed ? 'block' : 'none';\n",
              "\n",
              "        async function convertToInteractive(key) {\n",
              "          const element = document.querySelector('#df-19d7183b-27d3-41af-8d2a-fe6e0663edc0');\n",
              "          const dataTable =\n",
              "            await google.colab.kernel.invokeFunction('convertToInteractive',\n",
              "                                                     [key], {});\n",
              "          if (!dataTable) return;\n",
              "\n",
              "          const docLinkHtml = 'Like what you see? Visit the ' +\n",
              "            '<a target=\"_blank\" href=https://colab.research.google.com/notebooks/data_table.ipynb>data table notebook</a>'\n",
              "            + ' to learn more about interactive tables.';\n",
              "          element.innerHTML = '';\n",
              "          dataTable['output_type'] = 'display_data';\n",
              "          await google.colab.output.renderOutput(dataTable, element);\n",
              "          const docLink = document.createElement('div');\n",
              "          docLink.innerHTML = docLinkHtml;\n",
              "          element.appendChild(docLink);\n",
              "        }\n",
              "      </script>\n",
              "    </div>\n",
              "  </div>\n",
              "  "
            ]
          },
          "metadata": {},
          "execution_count": 39
        }
      ]
    },
    {
      "cell_type": "markdown",
      "source": [
        "##### Make CSV"
      ],
      "metadata": {
        "id": "xhuF6-Uxqxcf"
      }
    },
    {
      "cell_type": "code",
      "source": [
        "disjiont_test_outfits_df.to_csv('/content/drive/MyDrive/Outfit_Recommendation_Project/Data_CSV_Files/disjiont_test_outfits.csv',index=False)"
      ],
      "metadata": {
        "id": "3wBNkDyKqxcf"
      },
      "execution_count": null,
      "outputs": []
    },
    {
      "cell_type": "code",
      "source": [
        "disjiont_test_outfits_images.to_csv('/content/drive/MyDrive/Outfit_Recommendation_Project/Data_CSV_Files/disjiont_test_outfits_images.csv', index=False)"
      ],
      "metadata": {
        "id": "ZCxiXNmIbSco"
      },
      "execution_count": null,
      "outputs": []
    },
    {
      "cell_type": "markdown",
      "source": [
        "#### valid.json"
      ],
      "metadata": {
        "id": "d9SGPMTxq3qZ"
      }
    },
    {
      "cell_type": "markdown",
      "source": [
        "* <font color='pink'><font size=4> create a dataframe of disjoint validation outfits </font>"
      ],
      "metadata": {
        "id": "_nqZnLMckpCw"
      }
    },
    {
      "cell_type": "code",
      "source": [
        "disjiont_valid_df= pd.read_json(\"/content/polyvore_outfits/disjoint/valid.json\")\n",
        "disjiont_valid_df\n"
      ],
      "metadata": {
        "id": "drbgjmz6q3qZ",
        "colab": {
          "base_uri": "https://localhost:8080/",
          "height": 423
        },
        "outputId": "168f8353-6dc5-48bf-f606-0843bb0f552f"
      },
      "execution_count": null,
      "outputs": [
        {
          "output_type": "execute_result",
          "data": {
            "text/plain": [
              "                                                  items     set_id\n",
              "0     [{'item_id': '211863963', 'index': 1}, {'item_...  223648758\n",
              "1     [{'item_id': '194622168', 'index': 1}, {'item_...  219849644\n",
              "2     [{'item_id': '184947151', 'index': 1}, {'item_...  208264087\n",
              "3     [{'item_id': '117828723', 'index': 1}, {'item_...  135005113\n",
              "4     [{'item_id': '196507149', 'index': 1}, {'item_...  216934649\n",
              "...                                                 ...        ...\n",
              "2995  [{'item_id': '191365709', 'index': 1}, {'item_...  221001144\n",
              "2996  [{'item_id': '157133142', 'index': 1}, {'item_...  179889650\n",
              "2997  [{'item_id': '48410374', 'index': 1}, {'item_i...  224578373\n",
              "2998  [{'item_id': '164514051', 'index': 1}, {'item_...  198313686\n",
              "2999  [{'item_id': '189281917', 'index': 1}, {'item_...  223051514\n",
              "\n",
              "[3000 rows x 2 columns]"
            ],
            "text/html": [
              "\n",
              "  <div id=\"df-8f9cc25f-d6c2-4676-aeee-0066e3cdb44b\">\n",
              "    <div class=\"colab-df-container\">\n",
              "      <div>\n",
              "<style scoped>\n",
              "    .dataframe tbody tr th:only-of-type {\n",
              "        vertical-align: middle;\n",
              "    }\n",
              "\n",
              "    .dataframe tbody tr th {\n",
              "        vertical-align: top;\n",
              "    }\n",
              "\n",
              "    .dataframe thead th {\n",
              "        text-align: right;\n",
              "    }\n",
              "</style>\n",
              "<table border=\"1\" class=\"dataframe\">\n",
              "  <thead>\n",
              "    <tr style=\"text-align: right;\">\n",
              "      <th></th>\n",
              "      <th>items</th>\n",
              "      <th>set_id</th>\n",
              "    </tr>\n",
              "  </thead>\n",
              "  <tbody>\n",
              "    <tr>\n",
              "      <th>0</th>\n",
              "      <td>[{'item_id': '211863963', 'index': 1}, {'item_...</td>\n",
              "      <td>223648758</td>\n",
              "    </tr>\n",
              "    <tr>\n",
              "      <th>1</th>\n",
              "      <td>[{'item_id': '194622168', 'index': 1}, {'item_...</td>\n",
              "      <td>219849644</td>\n",
              "    </tr>\n",
              "    <tr>\n",
              "      <th>2</th>\n",
              "      <td>[{'item_id': '184947151', 'index': 1}, {'item_...</td>\n",
              "      <td>208264087</td>\n",
              "    </tr>\n",
              "    <tr>\n",
              "      <th>3</th>\n",
              "      <td>[{'item_id': '117828723', 'index': 1}, {'item_...</td>\n",
              "      <td>135005113</td>\n",
              "    </tr>\n",
              "    <tr>\n",
              "      <th>4</th>\n",
              "      <td>[{'item_id': '196507149', 'index': 1}, {'item_...</td>\n",
              "      <td>216934649</td>\n",
              "    </tr>\n",
              "    <tr>\n",
              "      <th>...</th>\n",
              "      <td>...</td>\n",
              "      <td>...</td>\n",
              "    </tr>\n",
              "    <tr>\n",
              "      <th>2995</th>\n",
              "      <td>[{'item_id': '191365709', 'index': 1}, {'item_...</td>\n",
              "      <td>221001144</td>\n",
              "    </tr>\n",
              "    <tr>\n",
              "      <th>2996</th>\n",
              "      <td>[{'item_id': '157133142', 'index': 1}, {'item_...</td>\n",
              "      <td>179889650</td>\n",
              "    </tr>\n",
              "    <tr>\n",
              "      <th>2997</th>\n",
              "      <td>[{'item_id': '48410374', 'index': 1}, {'item_i...</td>\n",
              "      <td>224578373</td>\n",
              "    </tr>\n",
              "    <tr>\n",
              "      <th>2998</th>\n",
              "      <td>[{'item_id': '164514051', 'index': 1}, {'item_...</td>\n",
              "      <td>198313686</td>\n",
              "    </tr>\n",
              "    <tr>\n",
              "      <th>2999</th>\n",
              "      <td>[{'item_id': '189281917', 'index': 1}, {'item_...</td>\n",
              "      <td>223051514</td>\n",
              "    </tr>\n",
              "  </tbody>\n",
              "</table>\n",
              "<p>3000 rows × 2 columns</p>\n",
              "</div>\n",
              "      <button class=\"colab-df-convert\" onclick=\"convertToInteractive('df-8f9cc25f-d6c2-4676-aeee-0066e3cdb44b')\"\n",
              "              title=\"Convert this dataframe to an interactive table.\"\n",
              "              style=\"display:none;\">\n",
              "        \n",
              "  <svg xmlns=\"http://www.w3.org/2000/svg\" height=\"24px\"viewBox=\"0 0 24 24\"\n",
              "       width=\"24px\">\n",
              "    <path d=\"M0 0h24v24H0V0z\" fill=\"none\"/>\n",
              "    <path d=\"M18.56 5.44l.94 2.06.94-2.06 2.06-.94-2.06-.94-.94-2.06-.94 2.06-2.06.94zm-11 1L8.5 8.5l.94-2.06 2.06-.94-2.06-.94L8.5 2.5l-.94 2.06-2.06.94zm10 10l.94 2.06.94-2.06 2.06-.94-2.06-.94-.94-2.06-.94 2.06-2.06.94z\"/><path d=\"M17.41 7.96l-1.37-1.37c-.4-.4-.92-.59-1.43-.59-.52 0-1.04.2-1.43.59L10.3 9.45l-7.72 7.72c-.78.78-.78 2.05 0 2.83L4 21.41c.39.39.9.59 1.41.59.51 0 1.02-.2 1.41-.59l7.78-7.78 2.81-2.81c.8-.78.8-2.07 0-2.86zM5.41 20L4 18.59l7.72-7.72 1.47 1.35L5.41 20z\"/>\n",
              "  </svg>\n",
              "      </button>\n",
              "      \n",
              "  <style>\n",
              "    .colab-df-container {\n",
              "      display:flex;\n",
              "      flex-wrap:wrap;\n",
              "      gap: 12px;\n",
              "    }\n",
              "\n",
              "    .colab-df-convert {\n",
              "      background-color: #E8F0FE;\n",
              "      border: none;\n",
              "      border-radius: 50%;\n",
              "      cursor: pointer;\n",
              "      display: none;\n",
              "      fill: #1967D2;\n",
              "      height: 32px;\n",
              "      padding: 0 0 0 0;\n",
              "      width: 32px;\n",
              "    }\n",
              "\n",
              "    .colab-df-convert:hover {\n",
              "      background-color: #E2EBFA;\n",
              "      box-shadow: 0px 1px 2px rgba(60, 64, 67, 0.3), 0px 1px 3px 1px rgba(60, 64, 67, 0.15);\n",
              "      fill: #174EA6;\n",
              "    }\n",
              "\n",
              "    [theme=dark] .colab-df-convert {\n",
              "      background-color: #3B4455;\n",
              "      fill: #D2E3FC;\n",
              "    }\n",
              "\n",
              "    [theme=dark] .colab-df-convert:hover {\n",
              "      background-color: #434B5C;\n",
              "      box-shadow: 0px 1px 3px 1px rgba(0, 0, 0, 0.15);\n",
              "      filter: drop-shadow(0px 1px 2px rgba(0, 0, 0, 0.3));\n",
              "      fill: #FFFFFF;\n",
              "    }\n",
              "  </style>\n",
              "\n",
              "      <script>\n",
              "        const buttonEl =\n",
              "          document.querySelector('#df-8f9cc25f-d6c2-4676-aeee-0066e3cdb44b button.colab-df-convert');\n",
              "        buttonEl.style.display =\n",
              "          google.colab.kernel.accessAllowed ? 'block' : 'none';\n",
              "\n",
              "        async function convertToInteractive(key) {\n",
              "          const element = document.querySelector('#df-8f9cc25f-d6c2-4676-aeee-0066e3cdb44b');\n",
              "          const dataTable =\n",
              "            await google.colab.kernel.invokeFunction('convertToInteractive',\n",
              "                                                     [key], {});\n",
              "          if (!dataTable) return;\n",
              "\n",
              "          const docLinkHtml = 'Like what you see? Visit the ' +\n",
              "            '<a target=\"_blank\" href=https://colab.research.google.com/notebooks/data_table.ipynb>data table notebook</a>'\n",
              "            + ' to learn more about interactive tables.';\n",
              "          element.innerHTML = '';\n",
              "          dataTable['output_type'] = 'display_data';\n",
              "          await google.colab.output.renderOutput(dataTable, element);\n",
              "          const docLink = document.createElement('div');\n",
              "          docLink.innerHTML = docLinkHtml;\n",
              "          element.appendChild(docLink);\n",
              "        }\n",
              "      </script>\n",
              "    </div>\n",
              "  </div>\n",
              "  "
            ]
          },
          "metadata": {},
          "execution_count": 45
        }
      ]
    },
    {
      "cell_type": "code",
      "source": [
        "disjiont_valid_df.rename(columns = {'items' : 'outfit_items', 'set_id' : 'outfit_id'}, inplace = True)\n",
        "print(disjiont_valid_df.iloc[1000,1])\n",
        "disjiont_valid_df.iloc[1000,0]"
      ],
      "metadata": {
        "id": "QlR2d5SisuXR",
        "colab": {
          "base_uri": "https://localhost:8080/"
        },
        "outputId": "f9770463-c05a-4065-b22a-c8220cd4d4ee"
      },
      "execution_count": null,
      "outputs": [
        {
          "output_type": "stream",
          "name": "stdout",
          "text": [
            "212515017\n"
          ]
        },
        {
          "output_type": "execute_result",
          "data": {
            "text/plain": [
              "[{'index': 1, 'item_id': '191695202'},\n",
              " {'index': 2, 'item_id': '194658747'},\n",
              " {'index': 3, 'item_id': '128427174'},\n",
              " {'index': 4, 'item_id': '146391713'},\n",
              " {'index': 5, 'item_id': '164208844'}]"
            ]
          },
          "metadata": {},
          "execution_count": 46
        }
      ]
    },
    {
      "cell_type": "code",
      "source": [
        "disjiont_valid_outfits_df=disjiont_valid_df.copy()\n",
        "\n",
        "for i in tqdm.tqdm(range(disjiont_valid_outfits_df.shape[0])):\n",
        "    disjiont_valid_outfits_df.at[i,'outfit_items'] = build_outfit(disjiont_valid_outfits_df.iloc[i])"
      ],
      "metadata": {
        "id": "Az9eNR_VswsP",
        "colab": {
          "base_uri": "https://localhost:8080/"
        },
        "outputId": "0d8f1f03-a2e7-437e-a7eb-ca27961a620a"
      },
      "execution_count": null,
      "outputs": [
        {
          "output_type": "stream",
          "name": "stderr",
          "text": [
            "100%|██████████| 3000/3000 [01:47<00:00, 28.02it/s]\n"
          ]
        }
      ]
    },
    {
      "cell_type": "code",
      "source": [
        "print(disjiont_valid_outfits_df.iloc[1000,1])\n",
        "disjiont_valid_outfits_df.iloc[1000,0]"
      ],
      "metadata": {
        "id": "ZjfUUWZ4s1Q1",
        "colab": {
          "base_uri": "https://localhost:8080/"
        },
        "outputId": "ef9d5577-b216-4544-b3d3-3025bdf2d7ce"
      },
      "execution_count": null,
      "outputs": [
        {
          "output_type": "stream",
          "name": "stdout",
          "text": [
            "212515017\n"
          ]
        },
        {
          "output_type": "execute_result",
          "data": {
            "text/plain": [
              "{'212515017_1': '/content/content/polyvore_outfits/images/191695202.jpg',\n",
              " '212515017_2': '/content/content/polyvore_outfits/images/194658747.jpg',\n",
              " '212515017_3': '/content/content/polyvore_outfits/images/128427174.jpg',\n",
              " '212515017_4': '/content/content/polyvore_outfits/images/146391713.jpg',\n",
              " '212515017_5': '/content/content/polyvore_outfits/images/164208844.jpg'}"
            ]
          },
          "metadata": {},
          "execution_count": 48
        }
      ]
    },
    {
      "cell_type": "code",
      "source": [
        "disjiont_valid_outfits_images = pd.DataFrame(columns=['outfits_images_id', 'outfits_images_path'])\n",
        "for i in tqdm.tqdm(range(disjiont_valid_outfits_df.shape[0])):\n",
        "    disjiont_valid_outfits_images = disjiont_valid_outfits_images.append(arrange_images(disjiont_valid_outfits_df.iloc[i,0]), ignore_index=True)\n"
      ],
      "metadata": {
        "colab": {
          "base_uri": "https://localhost:8080/"
        },
        "id": "JX9RcfmyfLum",
        "outputId": "f67bcc56-4224-41b3-ccc7-eb8fa4c0dd33"
      },
      "execution_count": null,
      "outputs": [
        {
          "output_type": "stream",
          "name": "stderr",
          "text": [
            "100%|██████████| 3000/3000 [00:04<00:00, 735.64it/s]\n"
          ]
        }
      ]
    },
    {
      "cell_type": "markdown",
      "source": [
        "##### Make CSV"
      ],
      "metadata": {
        "id": "Bhf6CENOq3qZ"
      }
    },
    {
      "cell_type": "code",
      "source": [
        "disjiont_valid_outfits_df.to_csv('/content/drive/MyDrive/Outfit_Recommendation_Project/Data_CSV_Files/disjiont_valid_outfits.csv')"
      ],
      "metadata": {
        "id": "BbLb4Qneq3qZ"
      },
      "execution_count": null,
      "outputs": []
    },
    {
      "cell_type": "code",
      "source": [
        "disjiont_valid_outfits_images.to_csv('/content/drive/MyDrive/Outfit_Recommendation_Project/Data_CSV_Files/disjiont_valid_outfits_images.csv', index=False)"
      ],
      "metadata": {
        "id": "XrJjNpFpfi01"
      },
      "execution_count": null,
      "outputs": []
    },
    {
      "cell_type": "markdown",
      "source": [
        "#### compatibility_test.txt"
      ],
      "metadata": {
        "id": "xw0lSexk2MqS"
      }
    },
    {
      "cell_type": "markdown",
      "source": [
        "* <font color='pink'><font size=4> create a dataframe of disjoint compatibility test outfits </font>"
      ],
      "metadata": {
        "id": "Cl7bD19ClKry"
      }
    },
    {
      "cell_type": "code",
      "source": [
        "with open('/content/polyvore_outfits/disjoint/compatibility_test.txt', 'r') as f:\n",
        "    data = [line.split() for line in f]\n",
        "    data = [(line[0] , [item for item in line[1:]]) for line in data]\n",
        "\n",
        "compatibility_test_df = pd.DataFrame.from_records(data, columns=['compatibility', 'outfit_sample'])\n",
        "\n",
        "compatibility_test_df"
      ],
      "metadata": {
        "colab": {
          "base_uri": "https://localhost:8080/",
          "height": 423
        },
        "id": "sJFbq11n2ShY",
        "outputId": "b1feb2ef-d93b-4771-c8a7-be9dc605f67d"
      },
      "execution_count": null,
      "outputs": [
        {
          "output_type": "execute_result",
          "data": {
            "text/plain": [
              "      compatibility                                      outfit_sample\n",
              "0                 1  [222049137_1, 222049137_2, 222049137_3, 222049...\n",
              "1                 1  [171638917_1, 171638917_2, 171638917_3, 171638...\n",
              "2                 1  [209614451_1, 209614451_2, 209614451_3, 209614...\n",
              "3                 1  [208805759_1, 208805759_2, 208805759_3, 208805...\n",
              "4                 1  [181727193_1, 181727193_2, 181727193_3, 181727...\n",
              "...             ...                                                ...\n",
              "30285             0  [208697202_1, 222058995_1, 60152115_3, 9792134...\n",
              "30286             0  [163646445_2, 154832568_2, 190013480_4, 214779...\n",
              "30287             0  [145970783_1, 190480945_1, 212286826_4, 707638...\n",
              "30288             0  [177747016_1, 178806147_2, 164069948_5, 209157...\n",
              "30289             0  [217323982_1, 174060325_3, 206566023_3, 221349...\n",
              "\n",
              "[30290 rows x 2 columns]"
            ],
            "text/html": [
              "\n",
              "  <div id=\"df-e029d7e2-6d43-4449-8834-1f437a951d35\">\n",
              "    <div class=\"colab-df-container\">\n",
              "      <div>\n",
              "<style scoped>\n",
              "    .dataframe tbody tr th:only-of-type {\n",
              "        vertical-align: middle;\n",
              "    }\n",
              "\n",
              "    .dataframe tbody tr th {\n",
              "        vertical-align: top;\n",
              "    }\n",
              "\n",
              "    .dataframe thead th {\n",
              "        text-align: right;\n",
              "    }\n",
              "</style>\n",
              "<table border=\"1\" class=\"dataframe\">\n",
              "  <thead>\n",
              "    <tr style=\"text-align: right;\">\n",
              "      <th></th>\n",
              "      <th>compatibility</th>\n",
              "      <th>outfit_sample</th>\n",
              "    </tr>\n",
              "  </thead>\n",
              "  <tbody>\n",
              "    <tr>\n",
              "      <th>0</th>\n",
              "      <td>1</td>\n",
              "      <td>[222049137_1, 222049137_2, 222049137_3, 222049...</td>\n",
              "    </tr>\n",
              "    <tr>\n",
              "      <th>1</th>\n",
              "      <td>1</td>\n",
              "      <td>[171638917_1, 171638917_2, 171638917_3, 171638...</td>\n",
              "    </tr>\n",
              "    <tr>\n",
              "      <th>2</th>\n",
              "      <td>1</td>\n",
              "      <td>[209614451_1, 209614451_2, 209614451_3, 209614...</td>\n",
              "    </tr>\n",
              "    <tr>\n",
              "      <th>3</th>\n",
              "      <td>1</td>\n",
              "      <td>[208805759_1, 208805759_2, 208805759_3, 208805...</td>\n",
              "    </tr>\n",
              "    <tr>\n",
              "      <th>4</th>\n",
              "      <td>1</td>\n",
              "      <td>[181727193_1, 181727193_2, 181727193_3, 181727...</td>\n",
              "    </tr>\n",
              "    <tr>\n",
              "      <th>...</th>\n",
              "      <td>...</td>\n",
              "      <td>...</td>\n",
              "    </tr>\n",
              "    <tr>\n",
              "      <th>30285</th>\n",
              "      <td>0</td>\n",
              "      <td>[208697202_1, 222058995_1, 60152115_3, 9792134...</td>\n",
              "    </tr>\n",
              "    <tr>\n",
              "      <th>30286</th>\n",
              "      <td>0</td>\n",
              "      <td>[163646445_2, 154832568_2, 190013480_4, 214779...</td>\n",
              "    </tr>\n",
              "    <tr>\n",
              "      <th>30287</th>\n",
              "      <td>0</td>\n",
              "      <td>[145970783_1, 190480945_1, 212286826_4, 707638...</td>\n",
              "    </tr>\n",
              "    <tr>\n",
              "      <th>30288</th>\n",
              "      <td>0</td>\n",
              "      <td>[177747016_1, 178806147_2, 164069948_5, 209157...</td>\n",
              "    </tr>\n",
              "    <tr>\n",
              "      <th>30289</th>\n",
              "      <td>0</td>\n",
              "      <td>[217323982_1, 174060325_3, 206566023_3, 221349...</td>\n",
              "    </tr>\n",
              "  </tbody>\n",
              "</table>\n",
              "<p>30290 rows × 2 columns</p>\n",
              "</div>\n",
              "      <button class=\"colab-df-convert\" onclick=\"convertToInteractive('df-e029d7e2-6d43-4449-8834-1f437a951d35')\"\n",
              "              title=\"Convert this dataframe to an interactive table.\"\n",
              "              style=\"display:none;\">\n",
              "        \n",
              "  <svg xmlns=\"http://www.w3.org/2000/svg\" height=\"24px\"viewBox=\"0 0 24 24\"\n",
              "       width=\"24px\">\n",
              "    <path d=\"M0 0h24v24H0V0z\" fill=\"none\"/>\n",
              "    <path d=\"M18.56 5.44l.94 2.06.94-2.06 2.06-.94-2.06-.94-.94-2.06-.94 2.06-2.06.94zm-11 1L8.5 8.5l.94-2.06 2.06-.94-2.06-.94L8.5 2.5l-.94 2.06-2.06.94zm10 10l.94 2.06.94-2.06 2.06-.94-2.06-.94-.94-2.06-.94 2.06-2.06.94z\"/><path d=\"M17.41 7.96l-1.37-1.37c-.4-.4-.92-.59-1.43-.59-.52 0-1.04.2-1.43.59L10.3 9.45l-7.72 7.72c-.78.78-.78 2.05 0 2.83L4 21.41c.39.39.9.59 1.41.59.51 0 1.02-.2 1.41-.59l7.78-7.78 2.81-2.81c.8-.78.8-2.07 0-2.86zM5.41 20L4 18.59l7.72-7.72 1.47 1.35L5.41 20z\"/>\n",
              "  </svg>\n",
              "      </button>\n",
              "      \n",
              "  <style>\n",
              "    .colab-df-container {\n",
              "      display:flex;\n",
              "      flex-wrap:wrap;\n",
              "      gap: 12px;\n",
              "    }\n",
              "\n",
              "    .colab-df-convert {\n",
              "      background-color: #E8F0FE;\n",
              "      border: none;\n",
              "      border-radius: 50%;\n",
              "      cursor: pointer;\n",
              "      display: none;\n",
              "      fill: #1967D2;\n",
              "      height: 32px;\n",
              "      padding: 0 0 0 0;\n",
              "      width: 32px;\n",
              "    }\n",
              "\n",
              "    .colab-df-convert:hover {\n",
              "      background-color: #E2EBFA;\n",
              "      box-shadow: 0px 1px 2px rgba(60, 64, 67, 0.3), 0px 1px 3px 1px rgba(60, 64, 67, 0.15);\n",
              "      fill: #174EA6;\n",
              "    }\n",
              "\n",
              "    [theme=dark] .colab-df-convert {\n",
              "      background-color: #3B4455;\n",
              "      fill: #D2E3FC;\n",
              "    }\n",
              "\n",
              "    [theme=dark] .colab-df-convert:hover {\n",
              "      background-color: #434B5C;\n",
              "      box-shadow: 0px 1px 3px 1px rgba(0, 0, 0, 0.15);\n",
              "      filter: drop-shadow(0px 1px 2px rgba(0, 0, 0, 0.3));\n",
              "      fill: #FFFFFF;\n",
              "    }\n",
              "  </style>\n",
              "\n",
              "      <script>\n",
              "        const buttonEl =\n",
              "          document.querySelector('#df-e029d7e2-6d43-4449-8834-1f437a951d35 button.colab-df-convert');\n",
              "        buttonEl.style.display =\n",
              "          google.colab.kernel.accessAllowed ? 'block' : 'none';\n",
              "\n",
              "        async function convertToInteractive(key) {\n",
              "          const element = document.querySelector('#df-e029d7e2-6d43-4449-8834-1f437a951d35');\n",
              "          const dataTable =\n",
              "            await google.colab.kernel.invokeFunction('convertToInteractive',\n",
              "                                                     [key], {});\n",
              "          if (!dataTable) return;\n",
              "\n",
              "          const docLinkHtml = 'Like what you see? Visit the ' +\n",
              "            '<a target=\"_blank\" href=https://colab.research.google.com/notebooks/data_table.ipynb>data table notebook</a>'\n",
              "            + ' to learn more about interactive tables.';\n",
              "          element.innerHTML = '';\n",
              "          dataTable['output_type'] = 'display_data';\n",
              "          await google.colab.output.renderOutput(dataTable, element);\n",
              "          const docLink = document.createElement('div');\n",
              "          docLink.innerHTML = docLinkHtml;\n",
              "          element.appendChild(docLink);\n",
              "        }\n",
              "      </script>\n",
              "    </div>\n",
              "  </div>\n",
              "  "
            ]
          },
          "metadata": {},
          "execution_count": 52
        }
      ]
    },
    {
      "cell_type": "markdown",
      "source": [
        "##### Make CSV"
      ],
      "metadata": {
        "id": "DEi81eVX2UdL"
      }
    },
    {
      "cell_type": "code",
      "source": [
        "compatibility_test_df.to_csv('/content/drive/MyDrive/Outfit_Recommendation_Project/Data_CSV_Files/disjoint_compatibility_test_outfits.csv',index=False)"
      ],
      "metadata": {
        "id": "NWGdzfib2Yd4"
      },
      "execution_count": null,
      "outputs": []
    },
    {
      "cell_type": "markdown",
      "source": [
        "#### compatibility_train.txt"
      ],
      "metadata": {
        "id": "-GsqesZs2dw3"
      }
    },
    {
      "cell_type": "markdown",
      "source": [
        "* <font color='pink'><font size=4> create a dataframe of disjoint compatibility train outfits </font>"
      ],
      "metadata": {
        "id": "Rk2Yq4XEnkJS"
      }
    },
    {
      "cell_type": "code",
      "source": [
        "with open('/content/polyvore_outfits/disjoint/compatibility_train.txt', 'r') as f:\n",
        "    data = [line.split() for line in f]\n",
        "    data = [(line[0] , [item for item in line[1:]]) for line in data]\n",
        "\n",
        "compatibility_train_df = pd.DataFrame.from_records(data, columns=['compatibility', 'outfit_sample'])\n",
        "\n",
        "compatibility_train_df"
      ],
      "metadata": {
        "colab": {
          "base_uri": "https://localhost:8080/",
          "height": 423
        },
        "id": "2P2wTHtR2dw3",
        "outputId": "c652e700-f9f4-4550-adbe-440fd2e37cce"
      },
      "execution_count": null,
      "outputs": [
        {
          "output_type": "execute_result",
          "data": {
            "text/plain": [
              "      compatibility                                      outfit_sample\n",
              "0                 1  [199244701_1, 199244701_2, 199244701_3, 199244...\n",
              "1                 1  [200742384_1, 200742384_2, 200742384_3, 200742...\n",
              "2                 1  [206955877_1, 206955877_2, 206955877_3, 206955...\n",
              "3                 1  [220340816_1, 220340816_2, 220340816_3, 220340...\n",
              "4                 1  [219393187_1, 219393187_2, 219393187_3, 219393...\n",
              "...             ...                                                ...\n",
              "33985             0  [218506324_1, 221405016_1, 206461374_3, 218864...\n",
              "33986             0  [105184990_1, 211494606_3, 204086912_4, 220595...\n",
              "33987             0  [66630383_1, 132553628_1, 224927539_2, 2234803...\n",
              "33988             0  [149252664_1, 224932578_2, 205854787_3, 206523...\n",
              "33989             0                         [119274863_2, 211094404_4]\n",
              "\n",
              "[33990 rows x 2 columns]"
            ],
            "text/html": [
              "\n",
              "  <div id=\"df-5ef9036b-a218-4161-9763-48a2b73f8d8c\">\n",
              "    <div class=\"colab-df-container\">\n",
              "      <div>\n",
              "<style scoped>\n",
              "    .dataframe tbody tr th:only-of-type {\n",
              "        vertical-align: middle;\n",
              "    }\n",
              "\n",
              "    .dataframe tbody tr th {\n",
              "        vertical-align: top;\n",
              "    }\n",
              "\n",
              "    .dataframe thead th {\n",
              "        text-align: right;\n",
              "    }\n",
              "</style>\n",
              "<table border=\"1\" class=\"dataframe\">\n",
              "  <thead>\n",
              "    <tr style=\"text-align: right;\">\n",
              "      <th></th>\n",
              "      <th>compatibility</th>\n",
              "      <th>outfit_sample</th>\n",
              "    </tr>\n",
              "  </thead>\n",
              "  <tbody>\n",
              "    <tr>\n",
              "      <th>0</th>\n",
              "      <td>1</td>\n",
              "      <td>[199244701_1, 199244701_2, 199244701_3, 199244...</td>\n",
              "    </tr>\n",
              "    <tr>\n",
              "      <th>1</th>\n",
              "      <td>1</td>\n",
              "      <td>[200742384_1, 200742384_2, 200742384_3, 200742...</td>\n",
              "    </tr>\n",
              "    <tr>\n",
              "      <th>2</th>\n",
              "      <td>1</td>\n",
              "      <td>[206955877_1, 206955877_2, 206955877_3, 206955...</td>\n",
              "    </tr>\n",
              "    <tr>\n",
              "      <th>3</th>\n",
              "      <td>1</td>\n",
              "      <td>[220340816_1, 220340816_2, 220340816_3, 220340...</td>\n",
              "    </tr>\n",
              "    <tr>\n",
              "      <th>4</th>\n",
              "      <td>1</td>\n",
              "      <td>[219393187_1, 219393187_2, 219393187_3, 219393...</td>\n",
              "    </tr>\n",
              "    <tr>\n",
              "      <th>...</th>\n",
              "      <td>...</td>\n",
              "      <td>...</td>\n",
              "    </tr>\n",
              "    <tr>\n",
              "      <th>33985</th>\n",
              "      <td>0</td>\n",
              "      <td>[218506324_1, 221405016_1, 206461374_3, 218864...</td>\n",
              "    </tr>\n",
              "    <tr>\n",
              "      <th>33986</th>\n",
              "      <td>0</td>\n",
              "      <td>[105184990_1, 211494606_3, 204086912_4, 220595...</td>\n",
              "    </tr>\n",
              "    <tr>\n",
              "      <th>33987</th>\n",
              "      <td>0</td>\n",
              "      <td>[66630383_1, 132553628_1, 224927539_2, 2234803...</td>\n",
              "    </tr>\n",
              "    <tr>\n",
              "      <th>33988</th>\n",
              "      <td>0</td>\n",
              "      <td>[149252664_1, 224932578_2, 205854787_3, 206523...</td>\n",
              "    </tr>\n",
              "    <tr>\n",
              "      <th>33989</th>\n",
              "      <td>0</td>\n",
              "      <td>[119274863_2, 211094404_4]</td>\n",
              "    </tr>\n",
              "  </tbody>\n",
              "</table>\n",
              "<p>33990 rows × 2 columns</p>\n",
              "</div>\n",
              "      <button class=\"colab-df-convert\" onclick=\"convertToInteractive('df-5ef9036b-a218-4161-9763-48a2b73f8d8c')\"\n",
              "              title=\"Convert this dataframe to an interactive table.\"\n",
              "              style=\"display:none;\">\n",
              "        \n",
              "  <svg xmlns=\"http://www.w3.org/2000/svg\" height=\"24px\"viewBox=\"0 0 24 24\"\n",
              "       width=\"24px\">\n",
              "    <path d=\"M0 0h24v24H0V0z\" fill=\"none\"/>\n",
              "    <path d=\"M18.56 5.44l.94 2.06.94-2.06 2.06-.94-2.06-.94-.94-2.06-.94 2.06-2.06.94zm-11 1L8.5 8.5l.94-2.06 2.06-.94-2.06-.94L8.5 2.5l-.94 2.06-2.06.94zm10 10l.94 2.06.94-2.06 2.06-.94-2.06-.94-.94-2.06-.94 2.06-2.06.94z\"/><path d=\"M17.41 7.96l-1.37-1.37c-.4-.4-.92-.59-1.43-.59-.52 0-1.04.2-1.43.59L10.3 9.45l-7.72 7.72c-.78.78-.78 2.05 0 2.83L4 21.41c.39.39.9.59 1.41.59.51 0 1.02-.2 1.41-.59l7.78-7.78 2.81-2.81c.8-.78.8-2.07 0-2.86zM5.41 20L4 18.59l7.72-7.72 1.47 1.35L5.41 20z\"/>\n",
              "  </svg>\n",
              "      </button>\n",
              "      \n",
              "  <style>\n",
              "    .colab-df-container {\n",
              "      display:flex;\n",
              "      flex-wrap:wrap;\n",
              "      gap: 12px;\n",
              "    }\n",
              "\n",
              "    .colab-df-convert {\n",
              "      background-color: #E8F0FE;\n",
              "      border: none;\n",
              "      border-radius: 50%;\n",
              "      cursor: pointer;\n",
              "      display: none;\n",
              "      fill: #1967D2;\n",
              "      height: 32px;\n",
              "      padding: 0 0 0 0;\n",
              "      width: 32px;\n",
              "    }\n",
              "\n",
              "    .colab-df-convert:hover {\n",
              "      background-color: #E2EBFA;\n",
              "      box-shadow: 0px 1px 2px rgba(60, 64, 67, 0.3), 0px 1px 3px 1px rgba(60, 64, 67, 0.15);\n",
              "      fill: #174EA6;\n",
              "    }\n",
              "\n",
              "    [theme=dark] .colab-df-convert {\n",
              "      background-color: #3B4455;\n",
              "      fill: #D2E3FC;\n",
              "    }\n",
              "\n",
              "    [theme=dark] .colab-df-convert:hover {\n",
              "      background-color: #434B5C;\n",
              "      box-shadow: 0px 1px 3px 1px rgba(0, 0, 0, 0.15);\n",
              "      filter: drop-shadow(0px 1px 2px rgba(0, 0, 0, 0.3));\n",
              "      fill: #FFFFFF;\n",
              "    }\n",
              "  </style>\n",
              "\n",
              "      <script>\n",
              "        const buttonEl =\n",
              "          document.querySelector('#df-5ef9036b-a218-4161-9763-48a2b73f8d8c button.colab-df-convert');\n",
              "        buttonEl.style.display =\n",
              "          google.colab.kernel.accessAllowed ? 'block' : 'none';\n",
              "\n",
              "        async function convertToInteractive(key) {\n",
              "          const element = document.querySelector('#df-5ef9036b-a218-4161-9763-48a2b73f8d8c');\n",
              "          const dataTable =\n",
              "            await google.colab.kernel.invokeFunction('convertToInteractive',\n",
              "                                                     [key], {});\n",
              "          if (!dataTable) return;\n",
              "\n",
              "          const docLinkHtml = 'Like what you see? Visit the ' +\n",
              "            '<a target=\"_blank\" href=https://colab.research.google.com/notebooks/data_table.ipynb>data table notebook</a>'\n",
              "            + ' to learn more about interactive tables.';\n",
              "          element.innerHTML = '';\n",
              "          dataTable['output_type'] = 'display_data';\n",
              "          await google.colab.output.renderOutput(dataTable, element);\n",
              "          const docLink = document.createElement('div');\n",
              "          docLink.innerHTML = docLinkHtml;\n",
              "          element.appendChild(docLink);\n",
              "        }\n",
              "      </script>\n",
              "    </div>\n",
              "  </div>\n",
              "  "
            ]
          },
          "metadata": {},
          "execution_count": 89
        }
      ]
    },
    {
      "cell_type": "markdown",
      "source": [
        "##### Make CSV"
      ],
      "metadata": {
        "id": "7v6eDBIE2dw3"
      }
    },
    {
      "cell_type": "code",
      "source": [
        "compatibility_train_df.to_csv('/content/drive/MyDrive/Outfit_Recommendation_Project/Data_CSV_Files/disjoint_compatibility_train_outfits.csv',index=False)"
      ],
      "metadata": {
        "id": "4m_I_ohi2dw3"
      },
      "execution_count": null,
      "outputs": []
    },
    {
      "cell_type": "markdown",
      "source": [
        "#### compatibility_valid.txt"
      ],
      "metadata": {
        "id": "4kS7XVrk2rHz"
      }
    },
    {
      "cell_type": "markdown",
      "source": [
        "* <font color='pink'><font size=4> create a dataframe of disjoint compatibility valid outfits </font>"
      ],
      "metadata": {
        "id": "Wfkmq79Wnsvh"
      }
    },
    {
      "cell_type": "code",
      "source": [
        "with open('/content/polyvore_outfits/disjoint/compatibility_valid.txt', 'r') as f:\n",
        "    data = [line.split() for line in f]\n",
        "    data = [(line[0] , [item for item in line[1:]]) for line in data]\n",
        "\n",
        "compatibility_valid_df = pd.DataFrame.from_records(data, columns=['compatibility', 'outfit_sample'])\n",
        "\n",
        "compatibility_valid_df"
      ],
      "metadata": {
        "colab": {
          "base_uri": "https://localhost:8080/",
          "height": 423
        },
        "id": "swWg3owD2rH0",
        "outputId": "ce38c256-bcc6-4a8e-e160-643fe0d8adb6"
      },
      "execution_count": null,
      "outputs": [
        {
          "output_type": "execute_result",
          "data": {
            "text/plain": [
              "     compatibility                                      outfit_sample\n",
              "0                1  [223648758_1, 223648758_2, 223648758_3, 223648...\n",
              "1                1  [219849644_1, 219849644_2, 219849644_3, 219849...\n",
              "2                1  [208264087_1, 208264087_2, 208264087_3, 208264...\n",
              "3                1  [135005113_1, 135005113_2, 135005113_3, 135005...\n",
              "4                1  [216934649_1, 216934649_2, 216934649_3, 216934...\n",
              "...            ...                                                ...\n",
              "5995             0  [215216859_1, 206870729_2, 209124426_3, 222275...\n",
              "5996             0  [77811896_1, 207209295_2, 185443035_4, 1622178...\n",
              "5997             0  [214362907_1, 225321688_3, 158405253_9, 209425...\n",
              "5998             0  [209869925_1, 204014202_3, 200907615_2, 223147...\n",
              "5999             0  [166260715_1, 149847684_2, 197296523_2, 215779...\n",
              "\n",
              "[6000 rows x 2 columns]"
            ],
            "text/html": [
              "\n",
              "  <div id=\"df-2fe0965e-f3d1-4d04-9e8d-183774ea1eac\">\n",
              "    <div class=\"colab-df-container\">\n",
              "      <div>\n",
              "<style scoped>\n",
              "    .dataframe tbody tr th:only-of-type {\n",
              "        vertical-align: middle;\n",
              "    }\n",
              "\n",
              "    .dataframe tbody tr th {\n",
              "        vertical-align: top;\n",
              "    }\n",
              "\n",
              "    .dataframe thead th {\n",
              "        text-align: right;\n",
              "    }\n",
              "</style>\n",
              "<table border=\"1\" class=\"dataframe\">\n",
              "  <thead>\n",
              "    <tr style=\"text-align: right;\">\n",
              "      <th></th>\n",
              "      <th>compatibility</th>\n",
              "      <th>outfit_sample</th>\n",
              "    </tr>\n",
              "  </thead>\n",
              "  <tbody>\n",
              "    <tr>\n",
              "      <th>0</th>\n",
              "      <td>1</td>\n",
              "      <td>[223648758_1, 223648758_2, 223648758_3, 223648...</td>\n",
              "    </tr>\n",
              "    <tr>\n",
              "      <th>1</th>\n",
              "      <td>1</td>\n",
              "      <td>[219849644_1, 219849644_2, 219849644_3, 219849...</td>\n",
              "    </tr>\n",
              "    <tr>\n",
              "      <th>2</th>\n",
              "      <td>1</td>\n",
              "      <td>[208264087_1, 208264087_2, 208264087_3, 208264...</td>\n",
              "    </tr>\n",
              "    <tr>\n",
              "      <th>3</th>\n",
              "      <td>1</td>\n",
              "      <td>[135005113_1, 135005113_2, 135005113_3, 135005...</td>\n",
              "    </tr>\n",
              "    <tr>\n",
              "      <th>4</th>\n",
              "      <td>1</td>\n",
              "      <td>[216934649_1, 216934649_2, 216934649_3, 216934...</td>\n",
              "    </tr>\n",
              "    <tr>\n",
              "      <th>...</th>\n",
              "      <td>...</td>\n",
              "      <td>...</td>\n",
              "    </tr>\n",
              "    <tr>\n",
              "      <th>5995</th>\n",
              "      <td>0</td>\n",
              "      <td>[215216859_1, 206870729_2, 209124426_3, 222275...</td>\n",
              "    </tr>\n",
              "    <tr>\n",
              "      <th>5996</th>\n",
              "      <td>0</td>\n",
              "      <td>[77811896_1, 207209295_2, 185443035_4, 1622178...</td>\n",
              "    </tr>\n",
              "    <tr>\n",
              "      <th>5997</th>\n",
              "      <td>0</td>\n",
              "      <td>[214362907_1, 225321688_3, 158405253_9, 209425...</td>\n",
              "    </tr>\n",
              "    <tr>\n",
              "      <th>5998</th>\n",
              "      <td>0</td>\n",
              "      <td>[209869925_1, 204014202_3, 200907615_2, 223147...</td>\n",
              "    </tr>\n",
              "    <tr>\n",
              "      <th>5999</th>\n",
              "      <td>0</td>\n",
              "      <td>[166260715_1, 149847684_2, 197296523_2, 215779...</td>\n",
              "    </tr>\n",
              "  </tbody>\n",
              "</table>\n",
              "<p>6000 rows × 2 columns</p>\n",
              "</div>\n",
              "      <button class=\"colab-df-convert\" onclick=\"convertToInteractive('df-2fe0965e-f3d1-4d04-9e8d-183774ea1eac')\"\n",
              "              title=\"Convert this dataframe to an interactive table.\"\n",
              "              style=\"display:none;\">\n",
              "        \n",
              "  <svg xmlns=\"http://www.w3.org/2000/svg\" height=\"24px\"viewBox=\"0 0 24 24\"\n",
              "       width=\"24px\">\n",
              "    <path d=\"M0 0h24v24H0V0z\" fill=\"none\"/>\n",
              "    <path d=\"M18.56 5.44l.94 2.06.94-2.06 2.06-.94-2.06-.94-.94-2.06-.94 2.06-2.06.94zm-11 1L8.5 8.5l.94-2.06 2.06-.94-2.06-.94L8.5 2.5l-.94 2.06-2.06.94zm10 10l.94 2.06.94-2.06 2.06-.94-2.06-.94-.94-2.06-.94 2.06-2.06.94z\"/><path d=\"M17.41 7.96l-1.37-1.37c-.4-.4-.92-.59-1.43-.59-.52 0-1.04.2-1.43.59L10.3 9.45l-7.72 7.72c-.78.78-.78 2.05 0 2.83L4 21.41c.39.39.9.59 1.41.59.51 0 1.02-.2 1.41-.59l7.78-7.78 2.81-2.81c.8-.78.8-2.07 0-2.86zM5.41 20L4 18.59l7.72-7.72 1.47 1.35L5.41 20z\"/>\n",
              "  </svg>\n",
              "      </button>\n",
              "      \n",
              "  <style>\n",
              "    .colab-df-container {\n",
              "      display:flex;\n",
              "      flex-wrap:wrap;\n",
              "      gap: 12px;\n",
              "    }\n",
              "\n",
              "    .colab-df-convert {\n",
              "      background-color: #E8F0FE;\n",
              "      border: none;\n",
              "      border-radius: 50%;\n",
              "      cursor: pointer;\n",
              "      display: none;\n",
              "      fill: #1967D2;\n",
              "      height: 32px;\n",
              "      padding: 0 0 0 0;\n",
              "      width: 32px;\n",
              "    }\n",
              "\n",
              "    .colab-df-convert:hover {\n",
              "      background-color: #E2EBFA;\n",
              "      box-shadow: 0px 1px 2px rgba(60, 64, 67, 0.3), 0px 1px 3px 1px rgba(60, 64, 67, 0.15);\n",
              "      fill: #174EA6;\n",
              "    }\n",
              "\n",
              "    [theme=dark] .colab-df-convert {\n",
              "      background-color: #3B4455;\n",
              "      fill: #D2E3FC;\n",
              "    }\n",
              "\n",
              "    [theme=dark] .colab-df-convert:hover {\n",
              "      background-color: #434B5C;\n",
              "      box-shadow: 0px 1px 3px 1px rgba(0, 0, 0, 0.15);\n",
              "      filter: drop-shadow(0px 1px 2px rgba(0, 0, 0, 0.3));\n",
              "      fill: #FFFFFF;\n",
              "    }\n",
              "  </style>\n",
              "\n",
              "      <script>\n",
              "        const buttonEl =\n",
              "          document.querySelector('#df-2fe0965e-f3d1-4d04-9e8d-183774ea1eac button.colab-df-convert');\n",
              "        buttonEl.style.display =\n",
              "          google.colab.kernel.accessAllowed ? 'block' : 'none';\n",
              "\n",
              "        async function convertToInteractive(key) {\n",
              "          const element = document.querySelector('#df-2fe0965e-f3d1-4d04-9e8d-183774ea1eac');\n",
              "          const dataTable =\n",
              "            await google.colab.kernel.invokeFunction('convertToInteractive',\n",
              "                                                     [key], {});\n",
              "          if (!dataTable) return;\n",
              "\n",
              "          const docLinkHtml = 'Like what you see? Visit the ' +\n",
              "            '<a target=\"_blank\" href=https://colab.research.google.com/notebooks/data_table.ipynb>data table notebook</a>'\n",
              "            + ' to learn more about interactive tables.';\n",
              "          element.innerHTML = '';\n",
              "          dataTable['output_type'] = 'display_data';\n",
              "          await google.colab.output.renderOutput(dataTable, element);\n",
              "          const docLink = document.createElement('div');\n",
              "          docLink.innerHTML = docLinkHtml;\n",
              "          element.appendChild(docLink);\n",
              "        }\n",
              "      </script>\n",
              "    </div>\n",
              "  </div>\n",
              "  "
            ]
          },
          "metadata": {},
          "execution_count": 91
        }
      ]
    },
    {
      "cell_type": "markdown",
      "source": [
        "##### Make CSV"
      ],
      "metadata": {
        "id": "-fMqu_Bs2rH0"
      }
    },
    {
      "cell_type": "code",
      "source": [
        "compatibility_valid_df.to_csv('/content/drive/MyDrive/Outfit_Recommendation_Project/Data_CSV_Files/disjoint_compatibility_valid_outfits.csv',index=False)"
      ],
      "metadata": {
        "id": "DlfXMMD-2rH0"
      },
      "execution_count": null,
      "outputs": []
    },
    {
      "cell_type": "markdown",
      "source": [
        "#### fill_in_blank_test.json"
      ],
      "metadata": {
        "id": "lpuiLUCP2tGX"
      }
    },
    {
      "cell_type": "markdown",
      "source": [
        "* <font color='pink'><font size=4> create a dataframe of disjoint fill blank test outfits </font>"
      ],
      "metadata": {
        "id": "0lMlMbvPqkJB"
      }
    },
    {
      "cell_type": "code",
      "source": [
        "fill_blank_test_df = pd.read_json('/content/polyvore_outfits/disjoint/fill_in_blank_test.json')\n",
        "fill_blank_test_df"
      ],
      "metadata": {
        "id": "zeAUapXP2tGX",
        "colab": {
          "base_uri": "https://localhost:8080/",
          "height": 423
        },
        "outputId": "ee51cc2c-88ab-43d4-ae7f-eff841782cbe"
      },
      "execution_count": null,
      "outputs": [
        {
          "output_type": "execute_result",
          "data": {
            "text/plain": [
              "                                                question  blank_position  \\\n",
              "0      [222049137_1, 222049137_2, 222049137_3, 222049...               6   \n",
              "1      [171638917_1, 171638917_3, 171638917_4, 171638...               2   \n",
              "2      [209614451_1, 209614451_2, 209614451_4, 209614...               3   \n",
              "3                [208805759_2, 208805759_3, 208805759_4]               1   \n",
              "4                [181727193_1, 181727193_2, 181727193_4]               3   \n",
              "...                                                  ...             ...   \n",
              "15140  [130442086_1, 130442086_2, 130442086_3, 130442...               5   \n",
              "15141            [191016735_2, 191016735_3, 191016735_4]               1   \n",
              "15142  [179451388_1, 179451388_2, 179451388_3, 179451...               4   \n",
              "15143  [42911078_1, 42911078_2, 42911078_3, 42911078_...               7   \n",
              "15144            [210601169_1, 210601169_2, 210601169_4]               3   \n",
              "\n",
              "                                                 answers  \n",
              "0      [136139735_5, 171518178_4, 191247707_5, 222049...  \n",
              "1      [172403730_2, 171638917_2, 163946858_2, 223367...  \n",
              "2      [209614451_3, 211148911_6, 108620400_2, 208986...  \n",
              "3      [208805759_1, 225327396_1, 183851779_1, 223964...  \n",
              "4      [209117581_5, 23850331_4, 181727193_3, 1458574...  \n",
              "...                                                  ...  \n",
              "15140  [219332667_4, 130442086_5, 210376873_4, 148060...  \n",
              "15141  [191016735_1, 165124847_2, 191448581_2, 214259...  \n",
              "15142  [101365525_6, 208946500_6, 179965957_6, 179451...  \n",
              "15143  [42274774_5, 212818834_6, 119134586_7, 4291107...  \n",
              "15144  [188182203_2, 223343525_3, 212308181_2, 210601...  \n",
              "\n",
              "[15145 rows x 3 columns]"
            ],
            "text/html": [
              "\n",
              "  <div id=\"df-693b9fe9-2e34-4af7-a5e0-56ac94631aaa\">\n",
              "    <div class=\"colab-df-container\">\n",
              "      <div>\n",
              "<style scoped>\n",
              "    .dataframe tbody tr th:only-of-type {\n",
              "        vertical-align: middle;\n",
              "    }\n",
              "\n",
              "    .dataframe tbody tr th {\n",
              "        vertical-align: top;\n",
              "    }\n",
              "\n",
              "    .dataframe thead th {\n",
              "        text-align: right;\n",
              "    }\n",
              "</style>\n",
              "<table border=\"1\" class=\"dataframe\">\n",
              "  <thead>\n",
              "    <tr style=\"text-align: right;\">\n",
              "      <th></th>\n",
              "      <th>question</th>\n",
              "      <th>blank_position</th>\n",
              "      <th>answers</th>\n",
              "    </tr>\n",
              "  </thead>\n",
              "  <tbody>\n",
              "    <tr>\n",
              "      <th>0</th>\n",
              "      <td>[222049137_1, 222049137_2, 222049137_3, 222049...</td>\n",
              "      <td>6</td>\n",
              "      <td>[136139735_5, 171518178_4, 191247707_5, 222049...</td>\n",
              "    </tr>\n",
              "    <tr>\n",
              "      <th>1</th>\n",
              "      <td>[171638917_1, 171638917_3, 171638917_4, 171638...</td>\n",
              "      <td>2</td>\n",
              "      <td>[172403730_2, 171638917_2, 163946858_2, 223367...</td>\n",
              "    </tr>\n",
              "    <tr>\n",
              "      <th>2</th>\n",
              "      <td>[209614451_1, 209614451_2, 209614451_4, 209614...</td>\n",
              "      <td>3</td>\n",
              "      <td>[209614451_3, 211148911_6, 108620400_2, 208986...</td>\n",
              "    </tr>\n",
              "    <tr>\n",
              "      <th>3</th>\n",
              "      <td>[208805759_2, 208805759_3, 208805759_4]</td>\n",
              "      <td>1</td>\n",
              "      <td>[208805759_1, 225327396_1, 183851779_1, 223964...</td>\n",
              "    </tr>\n",
              "    <tr>\n",
              "      <th>4</th>\n",
              "      <td>[181727193_1, 181727193_2, 181727193_4]</td>\n",
              "      <td>3</td>\n",
              "      <td>[209117581_5, 23850331_4, 181727193_3, 1458574...</td>\n",
              "    </tr>\n",
              "    <tr>\n",
              "      <th>...</th>\n",
              "      <td>...</td>\n",
              "      <td>...</td>\n",
              "      <td>...</td>\n",
              "    </tr>\n",
              "    <tr>\n",
              "      <th>15140</th>\n",
              "      <td>[130442086_1, 130442086_2, 130442086_3, 130442...</td>\n",
              "      <td>5</td>\n",
              "      <td>[219332667_4, 130442086_5, 210376873_4, 148060...</td>\n",
              "    </tr>\n",
              "    <tr>\n",
              "      <th>15141</th>\n",
              "      <td>[191016735_2, 191016735_3, 191016735_4]</td>\n",
              "      <td>1</td>\n",
              "      <td>[191016735_1, 165124847_2, 191448581_2, 214259...</td>\n",
              "    </tr>\n",
              "    <tr>\n",
              "      <th>15142</th>\n",
              "      <td>[179451388_1, 179451388_2, 179451388_3, 179451...</td>\n",
              "      <td>4</td>\n",
              "      <td>[101365525_6, 208946500_6, 179965957_6, 179451...</td>\n",
              "    </tr>\n",
              "    <tr>\n",
              "      <th>15143</th>\n",
              "      <td>[42911078_1, 42911078_2, 42911078_3, 42911078_...</td>\n",
              "      <td>7</td>\n",
              "      <td>[42274774_5, 212818834_6, 119134586_7, 4291107...</td>\n",
              "    </tr>\n",
              "    <tr>\n",
              "      <th>15144</th>\n",
              "      <td>[210601169_1, 210601169_2, 210601169_4]</td>\n",
              "      <td>3</td>\n",
              "      <td>[188182203_2, 223343525_3, 212308181_2, 210601...</td>\n",
              "    </tr>\n",
              "  </tbody>\n",
              "</table>\n",
              "<p>15145 rows × 3 columns</p>\n",
              "</div>\n",
              "      <button class=\"colab-df-convert\" onclick=\"convertToInteractive('df-693b9fe9-2e34-4af7-a5e0-56ac94631aaa')\"\n",
              "              title=\"Convert this dataframe to an interactive table.\"\n",
              "              style=\"display:none;\">\n",
              "        \n",
              "  <svg xmlns=\"http://www.w3.org/2000/svg\" height=\"24px\"viewBox=\"0 0 24 24\"\n",
              "       width=\"24px\">\n",
              "    <path d=\"M0 0h24v24H0V0z\" fill=\"none\"/>\n",
              "    <path d=\"M18.56 5.44l.94 2.06.94-2.06 2.06-.94-2.06-.94-.94-2.06-.94 2.06-2.06.94zm-11 1L8.5 8.5l.94-2.06 2.06-.94-2.06-.94L8.5 2.5l-.94 2.06-2.06.94zm10 10l.94 2.06.94-2.06 2.06-.94-2.06-.94-.94-2.06-.94 2.06-2.06.94z\"/><path d=\"M17.41 7.96l-1.37-1.37c-.4-.4-.92-.59-1.43-.59-.52 0-1.04.2-1.43.59L10.3 9.45l-7.72 7.72c-.78.78-.78 2.05 0 2.83L4 21.41c.39.39.9.59 1.41.59.51 0 1.02-.2 1.41-.59l7.78-7.78 2.81-2.81c.8-.78.8-2.07 0-2.86zM5.41 20L4 18.59l7.72-7.72 1.47 1.35L5.41 20z\"/>\n",
              "  </svg>\n",
              "      </button>\n",
              "      \n",
              "  <style>\n",
              "    .colab-df-container {\n",
              "      display:flex;\n",
              "      flex-wrap:wrap;\n",
              "      gap: 12px;\n",
              "    }\n",
              "\n",
              "    .colab-df-convert {\n",
              "      background-color: #E8F0FE;\n",
              "      border: none;\n",
              "      border-radius: 50%;\n",
              "      cursor: pointer;\n",
              "      display: none;\n",
              "      fill: #1967D2;\n",
              "      height: 32px;\n",
              "      padding: 0 0 0 0;\n",
              "      width: 32px;\n",
              "    }\n",
              "\n",
              "    .colab-df-convert:hover {\n",
              "      background-color: #E2EBFA;\n",
              "      box-shadow: 0px 1px 2px rgba(60, 64, 67, 0.3), 0px 1px 3px 1px rgba(60, 64, 67, 0.15);\n",
              "      fill: #174EA6;\n",
              "    }\n",
              "\n",
              "    [theme=dark] .colab-df-convert {\n",
              "      background-color: #3B4455;\n",
              "      fill: #D2E3FC;\n",
              "    }\n",
              "\n",
              "    [theme=dark] .colab-df-convert:hover {\n",
              "      background-color: #434B5C;\n",
              "      box-shadow: 0px 1px 3px 1px rgba(0, 0, 0, 0.15);\n",
              "      filter: drop-shadow(0px 1px 2px rgba(0, 0, 0, 0.3));\n",
              "      fill: #FFFFFF;\n",
              "    }\n",
              "  </style>\n",
              "\n",
              "      <script>\n",
              "        const buttonEl =\n",
              "          document.querySelector('#df-693b9fe9-2e34-4af7-a5e0-56ac94631aaa button.colab-df-convert');\n",
              "        buttonEl.style.display =\n",
              "          google.colab.kernel.accessAllowed ? 'block' : 'none';\n",
              "\n",
              "        async function convertToInteractive(key) {\n",
              "          const element = document.querySelector('#df-693b9fe9-2e34-4af7-a5e0-56ac94631aaa');\n",
              "          const dataTable =\n",
              "            await google.colab.kernel.invokeFunction('convertToInteractive',\n",
              "                                                     [key], {});\n",
              "          if (!dataTable) return;\n",
              "\n",
              "          const docLinkHtml = 'Like what you see? Visit the ' +\n",
              "            '<a target=\"_blank\" href=https://colab.research.google.com/notebooks/data_table.ipynb>data table notebook</a>'\n",
              "            + ' to learn more about interactive tables.';\n",
              "          element.innerHTML = '';\n",
              "          dataTable['output_type'] = 'display_data';\n",
              "          await google.colab.output.renderOutput(dataTable, element);\n",
              "          const docLink = document.createElement('div');\n",
              "          docLink.innerHTML = docLinkHtml;\n",
              "          element.appendChild(docLink);\n",
              "        }\n",
              "      </script>\n",
              "    </div>\n",
              "  </div>\n",
              "  "
            ]
          },
          "metadata": {},
          "execution_count": 94
        }
      ]
    },
    {
      "cell_type": "markdown",
      "source": [
        "##### Make CSV"
      ],
      "metadata": {
        "id": "iPTr8s8r2tGX"
      }
    },
    {
      "cell_type": "code",
      "source": [
        "fill_blank_test_df.to_csv('/content/drive/MyDrive/Outfit_Recommendation_Project/Data_CSV_Files/disjoint_fill_blank_test_outfits.csv',index=False)"
      ],
      "metadata": {
        "id": "yjFo8d342tGX"
      },
      "execution_count": null,
      "outputs": []
    },
    {
      "cell_type": "markdown",
      "source": [
        "#### fill_in_blank_train.json"
      ],
      "metadata": {
        "id": "pMNrLzfJ2tfV"
      }
    },
    {
      "cell_type": "markdown",
      "source": [
        "* <font color='pink'><font size=4> create a dataframe of disjoint fill blank train outfits </font>"
      ],
      "metadata": {
        "id": "3IfxwzsaqvN7"
      }
    },
    {
      "cell_type": "code",
      "source": [
        "fill_blank_train_df = pd.read_json('/content/polyvore_outfits/disjoint/fill_in_blank_train.json')\n",
        "fill_blank_train_df"
      ],
      "metadata": {
        "id": "GbedsJpF2tfW",
        "colab": {
          "base_uri": "https://localhost:8080/",
          "height": 423
        },
        "outputId": "9f1b39f5-a064-41cc-eaff-3a449298a77d"
      },
      "execution_count": null,
      "outputs": [
        {
          "output_type": "execute_result",
          "data": {
            "text/plain": [
              "                                                question  blank_position  \\\n",
              "0      [199244701_2, 199244701_3, 199244701_4, 199244...               1   \n",
              "1      [200742384_1, 200742384_2, 200742384_3, 200742...               4   \n",
              "2      [206955877_1, 206955877_2, 206955877_3, 206955...               4   \n",
              "3      [220340816_2, 220340816_3, 220340816_4, 220340...               1   \n",
              "4      [219393187_1, 219393187_2, 219393187_3, 219393...               4   \n",
              "...                                                  ...             ...   \n",
              "16990            [205231354_2, 205231354_3, 205231354_4]               1   \n",
              "16991            [211884833_1, 211884833_2, 211884833_4]               3   \n",
              "16992  [217542558_1, 217542558_2, 217542558_3, 217542...               5   \n",
              "16993  [205613256_1, 205613256_2, 205613256_3, 205613...               6   \n",
              "16994                                      [225327855_2]               1   \n",
              "\n",
              "                                                 answers  \n",
              "0      [199244701_1, 207312192_1, 195380234_1, 224593...  \n",
              "1      [221098581_5, 216508404_4, 200742384_4, 217748...  \n",
              "2      [180172582_5, 156618237_4, 222413054_6, 206955...  \n",
              "3      [221114345_1, 224074697_1, 219413782_1, 220340...  \n",
              "4      [224991530_3, 214404251_2, 219393187_4, 987323...  \n",
              "...                                                  ...  \n",
              "16990  [224834496_1, 212041331_1, 205231354_1, 644468...  \n",
              "16991  [213133326_5, 201921251_4, 211884833_3, 174553...  \n",
              "16992  [222061210_4, 156104104_3, 205663407_4, 217542...  \n",
              "16993  [212997204_5, 205613256_6, 217802828_3, 221416...  \n",
              "16994  [153689223_2, 225327855_1, 220172019_1, 196898...  \n",
              "\n",
              "[16995 rows x 3 columns]"
            ],
            "text/html": [
              "\n",
              "  <div id=\"df-165a992d-1ecc-41a5-b908-a0c1943ba5e8\">\n",
              "    <div class=\"colab-df-container\">\n",
              "      <div>\n",
              "<style scoped>\n",
              "    .dataframe tbody tr th:only-of-type {\n",
              "        vertical-align: middle;\n",
              "    }\n",
              "\n",
              "    .dataframe tbody tr th {\n",
              "        vertical-align: top;\n",
              "    }\n",
              "\n",
              "    .dataframe thead th {\n",
              "        text-align: right;\n",
              "    }\n",
              "</style>\n",
              "<table border=\"1\" class=\"dataframe\">\n",
              "  <thead>\n",
              "    <tr style=\"text-align: right;\">\n",
              "      <th></th>\n",
              "      <th>question</th>\n",
              "      <th>blank_position</th>\n",
              "      <th>answers</th>\n",
              "    </tr>\n",
              "  </thead>\n",
              "  <tbody>\n",
              "    <tr>\n",
              "      <th>0</th>\n",
              "      <td>[199244701_2, 199244701_3, 199244701_4, 199244...</td>\n",
              "      <td>1</td>\n",
              "      <td>[199244701_1, 207312192_1, 195380234_1, 224593...</td>\n",
              "    </tr>\n",
              "    <tr>\n",
              "      <th>1</th>\n",
              "      <td>[200742384_1, 200742384_2, 200742384_3, 200742...</td>\n",
              "      <td>4</td>\n",
              "      <td>[221098581_5, 216508404_4, 200742384_4, 217748...</td>\n",
              "    </tr>\n",
              "    <tr>\n",
              "      <th>2</th>\n",
              "      <td>[206955877_1, 206955877_2, 206955877_3, 206955...</td>\n",
              "      <td>4</td>\n",
              "      <td>[180172582_5, 156618237_4, 222413054_6, 206955...</td>\n",
              "    </tr>\n",
              "    <tr>\n",
              "      <th>3</th>\n",
              "      <td>[220340816_2, 220340816_3, 220340816_4, 220340...</td>\n",
              "      <td>1</td>\n",
              "      <td>[221114345_1, 224074697_1, 219413782_1, 220340...</td>\n",
              "    </tr>\n",
              "    <tr>\n",
              "      <th>4</th>\n",
              "      <td>[219393187_1, 219393187_2, 219393187_3, 219393...</td>\n",
              "      <td>4</td>\n",
              "      <td>[224991530_3, 214404251_2, 219393187_4, 987323...</td>\n",
              "    </tr>\n",
              "    <tr>\n",
              "      <th>...</th>\n",
              "      <td>...</td>\n",
              "      <td>...</td>\n",
              "      <td>...</td>\n",
              "    </tr>\n",
              "    <tr>\n",
              "      <th>16990</th>\n",
              "      <td>[205231354_2, 205231354_3, 205231354_4]</td>\n",
              "      <td>1</td>\n",
              "      <td>[224834496_1, 212041331_1, 205231354_1, 644468...</td>\n",
              "    </tr>\n",
              "    <tr>\n",
              "      <th>16991</th>\n",
              "      <td>[211884833_1, 211884833_2, 211884833_4]</td>\n",
              "      <td>3</td>\n",
              "      <td>[213133326_5, 201921251_4, 211884833_3, 174553...</td>\n",
              "    </tr>\n",
              "    <tr>\n",
              "      <th>16992</th>\n",
              "      <td>[217542558_1, 217542558_2, 217542558_3, 217542...</td>\n",
              "      <td>5</td>\n",
              "      <td>[222061210_4, 156104104_3, 205663407_4, 217542...</td>\n",
              "    </tr>\n",
              "    <tr>\n",
              "      <th>16993</th>\n",
              "      <td>[205613256_1, 205613256_2, 205613256_3, 205613...</td>\n",
              "      <td>6</td>\n",
              "      <td>[212997204_5, 205613256_6, 217802828_3, 221416...</td>\n",
              "    </tr>\n",
              "    <tr>\n",
              "      <th>16994</th>\n",
              "      <td>[225327855_2]</td>\n",
              "      <td>1</td>\n",
              "      <td>[153689223_2, 225327855_1, 220172019_1, 196898...</td>\n",
              "    </tr>\n",
              "  </tbody>\n",
              "</table>\n",
              "<p>16995 rows × 3 columns</p>\n",
              "</div>\n",
              "      <button class=\"colab-df-convert\" onclick=\"convertToInteractive('df-165a992d-1ecc-41a5-b908-a0c1943ba5e8')\"\n",
              "              title=\"Convert this dataframe to an interactive table.\"\n",
              "              style=\"display:none;\">\n",
              "        \n",
              "  <svg xmlns=\"http://www.w3.org/2000/svg\" height=\"24px\"viewBox=\"0 0 24 24\"\n",
              "       width=\"24px\">\n",
              "    <path d=\"M0 0h24v24H0V0z\" fill=\"none\"/>\n",
              "    <path d=\"M18.56 5.44l.94 2.06.94-2.06 2.06-.94-2.06-.94-.94-2.06-.94 2.06-2.06.94zm-11 1L8.5 8.5l.94-2.06 2.06-.94-2.06-.94L8.5 2.5l-.94 2.06-2.06.94zm10 10l.94 2.06.94-2.06 2.06-.94-2.06-.94-.94-2.06-.94 2.06-2.06.94z\"/><path d=\"M17.41 7.96l-1.37-1.37c-.4-.4-.92-.59-1.43-.59-.52 0-1.04.2-1.43.59L10.3 9.45l-7.72 7.72c-.78.78-.78 2.05 0 2.83L4 21.41c.39.39.9.59 1.41.59.51 0 1.02-.2 1.41-.59l7.78-7.78 2.81-2.81c.8-.78.8-2.07 0-2.86zM5.41 20L4 18.59l7.72-7.72 1.47 1.35L5.41 20z\"/>\n",
              "  </svg>\n",
              "      </button>\n",
              "      \n",
              "  <style>\n",
              "    .colab-df-container {\n",
              "      display:flex;\n",
              "      flex-wrap:wrap;\n",
              "      gap: 12px;\n",
              "    }\n",
              "\n",
              "    .colab-df-convert {\n",
              "      background-color: #E8F0FE;\n",
              "      border: none;\n",
              "      border-radius: 50%;\n",
              "      cursor: pointer;\n",
              "      display: none;\n",
              "      fill: #1967D2;\n",
              "      height: 32px;\n",
              "      padding: 0 0 0 0;\n",
              "      width: 32px;\n",
              "    }\n",
              "\n",
              "    .colab-df-convert:hover {\n",
              "      background-color: #E2EBFA;\n",
              "      box-shadow: 0px 1px 2px rgba(60, 64, 67, 0.3), 0px 1px 3px 1px rgba(60, 64, 67, 0.15);\n",
              "      fill: #174EA6;\n",
              "    }\n",
              "\n",
              "    [theme=dark] .colab-df-convert {\n",
              "      background-color: #3B4455;\n",
              "      fill: #D2E3FC;\n",
              "    }\n",
              "\n",
              "    [theme=dark] .colab-df-convert:hover {\n",
              "      background-color: #434B5C;\n",
              "      box-shadow: 0px 1px 3px 1px rgba(0, 0, 0, 0.15);\n",
              "      filter: drop-shadow(0px 1px 2px rgba(0, 0, 0, 0.3));\n",
              "      fill: #FFFFFF;\n",
              "    }\n",
              "  </style>\n",
              "\n",
              "      <script>\n",
              "        const buttonEl =\n",
              "          document.querySelector('#df-165a992d-1ecc-41a5-b908-a0c1943ba5e8 button.colab-df-convert');\n",
              "        buttonEl.style.display =\n",
              "          google.colab.kernel.accessAllowed ? 'block' : 'none';\n",
              "\n",
              "        async function convertToInteractive(key) {\n",
              "          const element = document.querySelector('#df-165a992d-1ecc-41a5-b908-a0c1943ba5e8');\n",
              "          const dataTable =\n",
              "            await google.colab.kernel.invokeFunction('convertToInteractive',\n",
              "                                                     [key], {});\n",
              "          if (!dataTable) return;\n",
              "\n",
              "          const docLinkHtml = 'Like what you see? Visit the ' +\n",
              "            '<a target=\"_blank\" href=https://colab.research.google.com/notebooks/data_table.ipynb>data table notebook</a>'\n",
              "            + ' to learn more about interactive tables.';\n",
              "          element.innerHTML = '';\n",
              "          dataTable['output_type'] = 'display_data';\n",
              "          await google.colab.output.renderOutput(dataTable, element);\n",
              "          const docLink = document.createElement('div');\n",
              "          docLink.innerHTML = docLinkHtml;\n",
              "          element.appendChild(docLink);\n",
              "        }\n",
              "      </script>\n",
              "    </div>\n",
              "  </div>\n",
              "  "
            ]
          },
          "metadata": {},
          "execution_count": 96
        }
      ]
    },
    {
      "cell_type": "markdown",
      "source": [
        "##### Make CSV"
      ],
      "metadata": {
        "id": "3f9gd8FV2tfW"
      }
    },
    {
      "cell_type": "code",
      "source": [
        "fill_blank_train_df.to_csv('/content/drive/MyDrive/Outfit_Recommendation_Project/Data_CSV_Files/disjoint_fill_blank_train_outfits.csv',index=False)"
      ],
      "metadata": {
        "id": "-VPVp2h_2tfW"
      },
      "execution_count": null,
      "outputs": []
    },
    {
      "cell_type": "markdown",
      "source": [
        "#### fill_in_blank_valid.json"
      ],
      "metadata": {
        "id": "3-meXxnw2t2Q"
      }
    },
    {
      "cell_type": "markdown",
      "source": [
        "* <font color='pink'><font size=4> create a dataframe of disjoint fill blank valid outfits </font>"
      ],
      "metadata": {
        "id": "5pbU5q72qytX"
      }
    },
    {
      "cell_type": "code",
      "source": [
        "fill_blank_valid_df = pd.read_json('/content/polyvore_outfits/disjoint/fill_in_blank_valid.json')\n",
        "fill_blank_valid_df"
      ],
      "metadata": {
        "id": "ib6Ew1qg2t2R",
        "colab": {
          "base_uri": "https://localhost:8080/",
          "height": 423
        },
        "outputId": "d771f04d-8f18-4814-9983-daeacd40b6f2"
      },
      "execution_count": null,
      "outputs": [
        {
          "output_type": "execute_result",
          "data": {
            "text/plain": [
              "                                               question  blank_position  \\\n",
              "0     [223648758_1, 223648758_3, 223648758_4, 223648...               2   \n",
              "1     [219849644_1, 219849644_2, 219849644_4, 219849...               3   \n",
              "2     [208264087_1, 208264087_2, 208264087_3, 208264...               4   \n",
              "3     [135005113_1, 135005113_2, 135005113_4, 135005...               3   \n",
              "4               [216934649_1, 216934649_2, 216934649_4]               3   \n",
              "...                                                 ...             ...   \n",
              "2995  [221001144_1, 221001144_2, 221001144_3, 221001...               5   \n",
              "2996            [179889650_1, 179889650_2, 179889650_3]               4   \n",
              "2997            [224578373_1, 224578373_2, 224578373_3]               4   \n",
              "2998  [198313686_1, 198313686_2, 198313686_3, 198313...               6   \n",
              "2999            [223051514_2, 223051514_3, 223051514_4]               1   \n",
              "\n",
              "                                                answers  \n",
              "0     [224133845_2, 223648758_2, 194803777_1, 219814...  \n",
              "1     [224196384_3, 213882704_3, 219849644_3, 223629...  \n",
              "2     [224264726_3, 133233116_3, 208264087_4, 220083...  \n",
              "3     [217703896_5, 220687741_4, 77811896_4, 1350051...  \n",
              "4     [216934649_3, 158405253_5, 222811721_3, 219996...  \n",
              "...                                                 ...  \n",
              "2995  [200267001_3, 221001144_5, 222148844_5, 209240...  \n",
              "2996  [224133845_6, 179889650_4, 212342085_4, 137157...  \n",
              "2997  [221672207_5, 224928154_5, 224262008_4, 224578...  \n",
              "2998  [210703239_5, 210469441_3, 212647219_4, 198313...  \n",
              "2999  [221332497_1, 202526771_1, 223051514_1, 219251...  \n",
              "\n",
              "[3000 rows x 3 columns]"
            ],
            "text/html": [
              "\n",
              "  <div id=\"df-2c6ae005-3b89-4002-a8c2-6b2bddf0814b\">\n",
              "    <div class=\"colab-df-container\">\n",
              "      <div>\n",
              "<style scoped>\n",
              "    .dataframe tbody tr th:only-of-type {\n",
              "        vertical-align: middle;\n",
              "    }\n",
              "\n",
              "    .dataframe tbody tr th {\n",
              "        vertical-align: top;\n",
              "    }\n",
              "\n",
              "    .dataframe thead th {\n",
              "        text-align: right;\n",
              "    }\n",
              "</style>\n",
              "<table border=\"1\" class=\"dataframe\">\n",
              "  <thead>\n",
              "    <tr style=\"text-align: right;\">\n",
              "      <th></th>\n",
              "      <th>question</th>\n",
              "      <th>blank_position</th>\n",
              "      <th>answers</th>\n",
              "    </tr>\n",
              "  </thead>\n",
              "  <tbody>\n",
              "    <tr>\n",
              "      <th>0</th>\n",
              "      <td>[223648758_1, 223648758_3, 223648758_4, 223648...</td>\n",
              "      <td>2</td>\n",
              "      <td>[224133845_2, 223648758_2, 194803777_1, 219814...</td>\n",
              "    </tr>\n",
              "    <tr>\n",
              "      <th>1</th>\n",
              "      <td>[219849644_1, 219849644_2, 219849644_4, 219849...</td>\n",
              "      <td>3</td>\n",
              "      <td>[224196384_3, 213882704_3, 219849644_3, 223629...</td>\n",
              "    </tr>\n",
              "    <tr>\n",
              "      <th>2</th>\n",
              "      <td>[208264087_1, 208264087_2, 208264087_3, 208264...</td>\n",
              "      <td>4</td>\n",
              "      <td>[224264726_3, 133233116_3, 208264087_4, 220083...</td>\n",
              "    </tr>\n",
              "    <tr>\n",
              "      <th>3</th>\n",
              "      <td>[135005113_1, 135005113_2, 135005113_4, 135005...</td>\n",
              "      <td>3</td>\n",
              "      <td>[217703896_5, 220687741_4, 77811896_4, 1350051...</td>\n",
              "    </tr>\n",
              "    <tr>\n",
              "      <th>4</th>\n",
              "      <td>[216934649_1, 216934649_2, 216934649_4]</td>\n",
              "      <td>3</td>\n",
              "      <td>[216934649_3, 158405253_5, 222811721_3, 219996...</td>\n",
              "    </tr>\n",
              "    <tr>\n",
              "      <th>...</th>\n",
              "      <td>...</td>\n",
              "      <td>...</td>\n",
              "      <td>...</td>\n",
              "    </tr>\n",
              "    <tr>\n",
              "      <th>2995</th>\n",
              "      <td>[221001144_1, 221001144_2, 221001144_3, 221001...</td>\n",
              "      <td>5</td>\n",
              "      <td>[200267001_3, 221001144_5, 222148844_5, 209240...</td>\n",
              "    </tr>\n",
              "    <tr>\n",
              "      <th>2996</th>\n",
              "      <td>[179889650_1, 179889650_2, 179889650_3]</td>\n",
              "      <td>4</td>\n",
              "      <td>[224133845_6, 179889650_4, 212342085_4, 137157...</td>\n",
              "    </tr>\n",
              "    <tr>\n",
              "      <th>2997</th>\n",
              "      <td>[224578373_1, 224578373_2, 224578373_3]</td>\n",
              "      <td>4</td>\n",
              "      <td>[221672207_5, 224928154_5, 224262008_4, 224578...</td>\n",
              "    </tr>\n",
              "    <tr>\n",
              "      <th>2998</th>\n",
              "      <td>[198313686_1, 198313686_2, 198313686_3, 198313...</td>\n",
              "      <td>6</td>\n",
              "      <td>[210703239_5, 210469441_3, 212647219_4, 198313...</td>\n",
              "    </tr>\n",
              "    <tr>\n",
              "      <th>2999</th>\n",
              "      <td>[223051514_2, 223051514_3, 223051514_4]</td>\n",
              "      <td>1</td>\n",
              "      <td>[221332497_1, 202526771_1, 223051514_1, 219251...</td>\n",
              "    </tr>\n",
              "  </tbody>\n",
              "</table>\n",
              "<p>3000 rows × 3 columns</p>\n",
              "</div>\n",
              "      <button class=\"colab-df-convert\" onclick=\"convertToInteractive('df-2c6ae005-3b89-4002-a8c2-6b2bddf0814b')\"\n",
              "              title=\"Convert this dataframe to an interactive table.\"\n",
              "              style=\"display:none;\">\n",
              "        \n",
              "  <svg xmlns=\"http://www.w3.org/2000/svg\" height=\"24px\"viewBox=\"0 0 24 24\"\n",
              "       width=\"24px\">\n",
              "    <path d=\"M0 0h24v24H0V0z\" fill=\"none\"/>\n",
              "    <path d=\"M18.56 5.44l.94 2.06.94-2.06 2.06-.94-2.06-.94-.94-2.06-.94 2.06-2.06.94zm-11 1L8.5 8.5l.94-2.06 2.06-.94-2.06-.94L8.5 2.5l-.94 2.06-2.06.94zm10 10l.94 2.06.94-2.06 2.06-.94-2.06-.94-.94-2.06-.94 2.06-2.06.94z\"/><path d=\"M17.41 7.96l-1.37-1.37c-.4-.4-.92-.59-1.43-.59-.52 0-1.04.2-1.43.59L10.3 9.45l-7.72 7.72c-.78.78-.78 2.05 0 2.83L4 21.41c.39.39.9.59 1.41.59.51 0 1.02-.2 1.41-.59l7.78-7.78 2.81-2.81c.8-.78.8-2.07 0-2.86zM5.41 20L4 18.59l7.72-7.72 1.47 1.35L5.41 20z\"/>\n",
              "  </svg>\n",
              "      </button>\n",
              "      \n",
              "  <style>\n",
              "    .colab-df-container {\n",
              "      display:flex;\n",
              "      flex-wrap:wrap;\n",
              "      gap: 12px;\n",
              "    }\n",
              "\n",
              "    .colab-df-convert {\n",
              "      background-color: #E8F0FE;\n",
              "      border: none;\n",
              "      border-radius: 50%;\n",
              "      cursor: pointer;\n",
              "      display: none;\n",
              "      fill: #1967D2;\n",
              "      height: 32px;\n",
              "      padding: 0 0 0 0;\n",
              "      width: 32px;\n",
              "    }\n",
              "\n",
              "    .colab-df-convert:hover {\n",
              "      background-color: #E2EBFA;\n",
              "      box-shadow: 0px 1px 2px rgba(60, 64, 67, 0.3), 0px 1px 3px 1px rgba(60, 64, 67, 0.15);\n",
              "      fill: #174EA6;\n",
              "    }\n",
              "\n",
              "    [theme=dark] .colab-df-convert {\n",
              "      background-color: #3B4455;\n",
              "      fill: #D2E3FC;\n",
              "    }\n",
              "\n",
              "    [theme=dark] .colab-df-convert:hover {\n",
              "      background-color: #434B5C;\n",
              "      box-shadow: 0px 1px 3px 1px rgba(0, 0, 0, 0.15);\n",
              "      filter: drop-shadow(0px 1px 2px rgba(0, 0, 0, 0.3));\n",
              "      fill: #FFFFFF;\n",
              "    }\n",
              "  </style>\n",
              "\n",
              "      <script>\n",
              "        const buttonEl =\n",
              "          document.querySelector('#df-2c6ae005-3b89-4002-a8c2-6b2bddf0814b button.colab-df-convert');\n",
              "        buttonEl.style.display =\n",
              "          google.colab.kernel.accessAllowed ? 'block' : 'none';\n",
              "\n",
              "        async function convertToInteractive(key) {\n",
              "          const element = document.querySelector('#df-2c6ae005-3b89-4002-a8c2-6b2bddf0814b');\n",
              "          const dataTable =\n",
              "            await google.colab.kernel.invokeFunction('convertToInteractive',\n",
              "                                                     [key], {});\n",
              "          if (!dataTable) return;\n",
              "\n",
              "          const docLinkHtml = 'Like what you see? Visit the ' +\n",
              "            '<a target=\"_blank\" href=https://colab.research.google.com/notebooks/data_table.ipynb>data table notebook</a>'\n",
              "            + ' to learn more about interactive tables.';\n",
              "          element.innerHTML = '';\n",
              "          dataTable['output_type'] = 'display_data';\n",
              "          await google.colab.output.renderOutput(dataTable, element);\n",
              "          const docLink = document.createElement('div');\n",
              "          docLink.innerHTML = docLinkHtml;\n",
              "          element.appendChild(docLink);\n",
              "        }\n",
              "      </script>\n",
              "    </div>\n",
              "  </div>\n",
              "  "
            ]
          },
          "metadata": {},
          "execution_count": 98
        }
      ]
    },
    {
      "cell_type": "markdown",
      "source": [
        "##### Make CSV"
      ],
      "metadata": {
        "id": "lANw_fz22t2R"
      }
    },
    {
      "cell_type": "code",
      "source": [
        "fill_blank_valid_df.to_csv('/content/drive/MyDrive/Outfit_Recommendation_Project/Data_CSV_Files/disjoint_fill_blank_valid_outfits.csv',index=False)"
      ],
      "metadata": {
        "id": "V0CgBPGI2t2R"
      },
      "execution_count": null,
      "outputs": []
    },
    {
      "cell_type": "markdown",
      "source": [
        "### nondisjoint"
      ],
      "metadata": {
        "id": "MN7zLSMGTXmz"
      }
    },
    {
      "cell_type": "markdown",
      "source": [
        "<font color='lightblue'><font size=4>Polyvore Outfits (nondisjoint) - Outfits are split at random, which means some items (but not complete outfits) may be seen in both training and test splits.</font>"
      ],
      "metadata": {
        "id": "O4j670rHrDWc"
      }
    },
    {
      "cell_type": "markdown",
      "source": [
        "#### train.json"
      ],
      "metadata": {
        "id": "0Pa12mwQazJ4"
      }
    },
    {
      "cell_type": "code",
      "source": [
        "nondisjiont_train_df= pd.read_json(\"/content/polyvore_outfits/nondisjoint/train.json\")\n",
        "nondisjiont_train_df"
      ],
      "metadata": {
        "colab": {
          "base_uri": "https://localhost:8080/",
          "height": 423
        },
        "outputId": "118ef34c-17fa-47ef-992c-29e204c468b4",
        "id": "yrVtit_4azJ-"
      },
      "execution_count": null,
      "outputs": [
        {
          "output_type": "execute_result",
          "data": {
            "text/plain": [
              "                                                   items     set_id\n",
              "0      [{'item_id': '154249722', 'index': 1}, {'item_...  210750761\n",
              "1      [{'item_id': '201813350', 'index': 1}, {'item_...  217602530\n",
              "2      [{'item_id': '201799451', 'index': 1}, {'item_...  221884093\n",
              "3      [{'item_id': '165668728', 'index': 1}, {'item_...  202131990\n",
              "4      [{'item_id': '214359927', 'index': 1}, {'item_...  224733539\n",
              "...                                                  ...        ...\n",
              "53301  [{'item_id': '187299897', 'index': 1}, {'item_...  217056080\n",
              "53302  [{'item_id': '163670628', 'index': 1}, {'item_...  199928836\n",
              "53303  [{'item_id': '154665034', 'index': 1}, {'item_...  223309013\n",
              "53304  [{'item_id': '207597035', 'index': 1}, {'item_...  221204003\n",
              "53305  [{'item_id': '179484253', 'index': 1}, {'item_...  210011225\n",
              "\n",
              "[53306 rows x 2 columns]"
            ],
            "text/html": [
              "\n",
              "  <div id=\"df-8c71dd82-9775-41df-a62b-ef74afe62cba\">\n",
              "    <div class=\"colab-df-container\">\n",
              "      <div>\n",
              "<style scoped>\n",
              "    .dataframe tbody tr th:only-of-type {\n",
              "        vertical-align: middle;\n",
              "    }\n",
              "\n",
              "    .dataframe tbody tr th {\n",
              "        vertical-align: top;\n",
              "    }\n",
              "\n",
              "    .dataframe thead th {\n",
              "        text-align: right;\n",
              "    }\n",
              "</style>\n",
              "<table border=\"1\" class=\"dataframe\">\n",
              "  <thead>\n",
              "    <tr style=\"text-align: right;\">\n",
              "      <th></th>\n",
              "      <th>items</th>\n",
              "      <th>set_id</th>\n",
              "    </tr>\n",
              "  </thead>\n",
              "  <tbody>\n",
              "    <tr>\n",
              "      <th>0</th>\n",
              "      <td>[{'item_id': '154249722', 'index': 1}, {'item_...</td>\n",
              "      <td>210750761</td>\n",
              "    </tr>\n",
              "    <tr>\n",
              "      <th>1</th>\n",
              "      <td>[{'item_id': '201813350', 'index': 1}, {'item_...</td>\n",
              "      <td>217602530</td>\n",
              "    </tr>\n",
              "    <tr>\n",
              "      <th>2</th>\n",
              "      <td>[{'item_id': '201799451', 'index': 1}, {'item_...</td>\n",
              "      <td>221884093</td>\n",
              "    </tr>\n",
              "    <tr>\n",
              "      <th>3</th>\n",
              "      <td>[{'item_id': '165668728', 'index': 1}, {'item_...</td>\n",
              "      <td>202131990</td>\n",
              "    </tr>\n",
              "    <tr>\n",
              "      <th>4</th>\n",
              "      <td>[{'item_id': '214359927', 'index': 1}, {'item_...</td>\n",
              "      <td>224733539</td>\n",
              "    </tr>\n",
              "    <tr>\n",
              "      <th>...</th>\n",
              "      <td>...</td>\n",
              "      <td>...</td>\n",
              "    </tr>\n",
              "    <tr>\n",
              "      <th>53301</th>\n",
              "      <td>[{'item_id': '187299897', 'index': 1}, {'item_...</td>\n",
              "      <td>217056080</td>\n",
              "    </tr>\n",
              "    <tr>\n",
              "      <th>53302</th>\n",
              "      <td>[{'item_id': '163670628', 'index': 1}, {'item_...</td>\n",
              "      <td>199928836</td>\n",
              "    </tr>\n",
              "    <tr>\n",
              "      <th>53303</th>\n",
              "      <td>[{'item_id': '154665034', 'index': 1}, {'item_...</td>\n",
              "      <td>223309013</td>\n",
              "    </tr>\n",
              "    <tr>\n",
              "      <th>53304</th>\n",
              "      <td>[{'item_id': '207597035', 'index': 1}, {'item_...</td>\n",
              "      <td>221204003</td>\n",
              "    </tr>\n",
              "    <tr>\n",
              "      <th>53305</th>\n",
              "      <td>[{'item_id': '179484253', 'index': 1}, {'item_...</td>\n",
              "      <td>210011225</td>\n",
              "    </tr>\n",
              "  </tbody>\n",
              "</table>\n",
              "<p>53306 rows × 2 columns</p>\n",
              "</div>\n",
              "      <button class=\"colab-df-convert\" onclick=\"convertToInteractive('df-8c71dd82-9775-41df-a62b-ef74afe62cba')\"\n",
              "              title=\"Convert this dataframe to an interactive table.\"\n",
              "              style=\"display:none;\">\n",
              "        \n",
              "  <svg xmlns=\"http://www.w3.org/2000/svg\" height=\"24px\"viewBox=\"0 0 24 24\"\n",
              "       width=\"24px\">\n",
              "    <path d=\"M0 0h24v24H0V0z\" fill=\"none\"/>\n",
              "    <path d=\"M18.56 5.44l.94 2.06.94-2.06 2.06-.94-2.06-.94-.94-2.06-.94 2.06-2.06.94zm-11 1L8.5 8.5l.94-2.06 2.06-.94-2.06-.94L8.5 2.5l-.94 2.06-2.06.94zm10 10l.94 2.06.94-2.06 2.06-.94-2.06-.94-.94-2.06-.94 2.06-2.06.94z\"/><path d=\"M17.41 7.96l-1.37-1.37c-.4-.4-.92-.59-1.43-.59-.52 0-1.04.2-1.43.59L10.3 9.45l-7.72 7.72c-.78.78-.78 2.05 0 2.83L4 21.41c.39.39.9.59 1.41.59.51 0 1.02-.2 1.41-.59l7.78-7.78 2.81-2.81c.8-.78.8-2.07 0-2.86zM5.41 20L4 18.59l7.72-7.72 1.47 1.35L5.41 20z\"/>\n",
              "  </svg>\n",
              "      </button>\n",
              "      \n",
              "  <style>\n",
              "    .colab-df-container {\n",
              "      display:flex;\n",
              "      flex-wrap:wrap;\n",
              "      gap: 12px;\n",
              "    }\n",
              "\n",
              "    .colab-df-convert {\n",
              "      background-color: #E8F0FE;\n",
              "      border: none;\n",
              "      border-radius: 50%;\n",
              "      cursor: pointer;\n",
              "      display: none;\n",
              "      fill: #1967D2;\n",
              "      height: 32px;\n",
              "      padding: 0 0 0 0;\n",
              "      width: 32px;\n",
              "    }\n",
              "\n",
              "    .colab-df-convert:hover {\n",
              "      background-color: #E2EBFA;\n",
              "      box-shadow: 0px 1px 2px rgba(60, 64, 67, 0.3), 0px 1px 3px 1px rgba(60, 64, 67, 0.15);\n",
              "      fill: #174EA6;\n",
              "    }\n",
              "\n",
              "    [theme=dark] .colab-df-convert {\n",
              "      background-color: #3B4455;\n",
              "      fill: #D2E3FC;\n",
              "    }\n",
              "\n",
              "    [theme=dark] .colab-df-convert:hover {\n",
              "      background-color: #434B5C;\n",
              "      box-shadow: 0px 1px 3px 1px rgba(0, 0, 0, 0.15);\n",
              "      filter: drop-shadow(0px 1px 2px rgba(0, 0, 0, 0.3));\n",
              "      fill: #FFFFFF;\n",
              "    }\n",
              "  </style>\n",
              "\n",
              "      <script>\n",
              "        const buttonEl =\n",
              "          document.querySelector('#df-8c71dd82-9775-41df-a62b-ef74afe62cba button.colab-df-convert');\n",
              "        buttonEl.style.display =\n",
              "          google.colab.kernel.accessAllowed ? 'block' : 'none';\n",
              "\n",
              "        async function convertToInteractive(key) {\n",
              "          const element = document.querySelector('#df-8c71dd82-9775-41df-a62b-ef74afe62cba');\n",
              "          const dataTable =\n",
              "            await google.colab.kernel.invokeFunction('convertToInteractive',\n",
              "                                                     [key], {});\n",
              "          if (!dataTable) return;\n",
              "\n",
              "          const docLinkHtml = 'Like what you see? Visit the ' +\n",
              "            '<a target=\"_blank\" href=https://colab.research.google.com/notebooks/data_table.ipynb>data table notebook</a>'\n",
              "            + ' to learn more about interactive tables.';\n",
              "          element.innerHTML = '';\n",
              "          dataTable['output_type'] = 'display_data';\n",
              "          await google.colab.output.renderOutput(dataTable, element);\n",
              "          const docLink = document.createElement('div');\n",
              "          docLink.innerHTML = docLinkHtml;\n",
              "          element.appendChild(docLink);\n",
              "        }\n",
              "      </script>\n",
              "    </div>\n",
              "  </div>\n",
              "  "
            ]
          },
          "metadata": {},
          "execution_count": 53
        }
      ]
    },
    {
      "cell_type": "code",
      "source": [
        "nondisjiont_train_df.rename(columns = {'items' : 'outfit_items', 'set_id' : 'outfit_id'}, inplace = True)\n",
        "print(nondisjiont_train_df.iloc[10,1])\n",
        "nondisjiont_train_df.iloc[10,0]"
      ],
      "metadata": {
        "colab": {
          "base_uri": "https://localhost:8080/"
        },
        "outputId": "a5b97646-d4f8-4f38-b858-cb9966bd706f",
        "id": "vGS5Zww5azJ-"
      },
      "execution_count": null,
      "outputs": [
        {
          "output_type": "stream",
          "name": "stdout",
          "text": [
            "224076663\n"
          ]
        },
        {
          "output_type": "execute_result",
          "data": {
            "text/plain": [
              "[{'index': 1, 'item_id': '204552789'},\n",
              " {'index': 2, 'item_id': '207097776'},\n",
              " {'index': 3, 'item_id': '202062237'}]"
            ]
          },
          "metadata": {},
          "execution_count": 54
        }
      ]
    },
    {
      "cell_type": "code",
      "source": [
        "nondisjiont_train_outfits_df=nondisjiont_train_df.copy()\n",
        "\n",
        "for i in tqdm.tqdm(range(nondisjiont_train_outfits_df.shape[0])):\n",
        "    nondisjiont_train_outfits_df.at[i,'outfit_items'] = build_outfit(nondisjiont_train_outfits_df.iloc[i])\n"
      ],
      "metadata": {
        "colab": {
          "base_uri": "https://localhost:8080/"
        },
        "outputId": "660a79ab-96d1-458e-89b3-e6688423d651",
        "id": "UHBas2NfazJ_"
      },
      "execution_count": null,
      "outputs": [
        {
          "output_type": "stream",
          "name": "stderr",
          "text": [
            "100%|██████████| 53306/53306 [33:16<00:00, 26.70it/s]\n"
          ]
        }
      ]
    },
    {
      "cell_type": "code",
      "source": [
        "print(nondisjiont_train_outfits_df.iloc[10,1])\n",
        "nondisjiont_train_outfits_df.iloc[10,0]"
      ],
      "metadata": {
        "colab": {
          "base_uri": "https://localhost:8080/"
        },
        "outputId": "967a308d-421d-44da-cdcf-8e200d72f3ec",
        "id": "fzGVXXPYazJ_"
      },
      "execution_count": null,
      "outputs": [
        {
          "output_type": "stream",
          "name": "stdout",
          "text": [
            "224076663\n"
          ]
        },
        {
          "output_type": "execute_result",
          "data": {
            "text/plain": [
              "{'224076663_1': '/content/content/polyvore_outfits/images/204552789.jpg',\n",
              " '224076663_2': '/content/content/polyvore_outfits/images/207097776.jpg',\n",
              " '224076663_3': '/content/content/polyvore_outfits/images/202062237.jpg'}"
            ]
          },
          "metadata": {},
          "execution_count": 56
        }
      ]
    },
    {
      "cell_type": "code",
      "source": [
        "nondisjiont_train_outfits_df"
      ],
      "metadata": {
        "colab": {
          "base_uri": "https://localhost:8080/",
          "height": 423
        },
        "id": "DJF94fdJ-mFE",
        "outputId": "69619bde-06cf-42a6-bbf9-6a919ffb71d2"
      },
      "execution_count": null,
      "outputs": [
        {
          "output_type": "execute_result",
          "data": {
            "text/plain": [
              "                                            outfit_items  outfit_id\n",
              "0      {'210750761_1': '/content/content/polyvore_out...  210750761\n",
              "1      {'217602530_1': '/content/content/polyvore_out...  217602530\n",
              "2      {'221884093_1': '/content/content/polyvore_out...  221884093\n",
              "3      {'202131990_1': '/content/content/polyvore_out...  202131990\n",
              "4      {'224733539_1': '/content/content/polyvore_out...  224733539\n",
              "...                                                  ...        ...\n",
              "53301  {'217056080_1': '/content/content/polyvore_out...  217056080\n",
              "53302  {'199928836_1': '/content/content/polyvore_out...  199928836\n",
              "53303  {'223309013_1': '/content/content/polyvore_out...  223309013\n",
              "53304  {'221204003_1': '/content/content/polyvore_out...  221204003\n",
              "53305  {'210011225_1': '/content/content/polyvore_out...  210011225\n",
              "\n",
              "[53306 rows x 2 columns]"
            ],
            "text/html": [
              "\n",
              "  <div id=\"df-cc43e1e3-a080-4d22-ae64-ed55829e2ae8\">\n",
              "    <div class=\"colab-df-container\">\n",
              "      <div>\n",
              "<style scoped>\n",
              "    .dataframe tbody tr th:only-of-type {\n",
              "        vertical-align: middle;\n",
              "    }\n",
              "\n",
              "    .dataframe tbody tr th {\n",
              "        vertical-align: top;\n",
              "    }\n",
              "\n",
              "    .dataframe thead th {\n",
              "        text-align: right;\n",
              "    }\n",
              "</style>\n",
              "<table border=\"1\" class=\"dataframe\">\n",
              "  <thead>\n",
              "    <tr style=\"text-align: right;\">\n",
              "      <th></th>\n",
              "      <th>outfit_items</th>\n",
              "      <th>outfit_id</th>\n",
              "    </tr>\n",
              "  </thead>\n",
              "  <tbody>\n",
              "    <tr>\n",
              "      <th>0</th>\n",
              "      <td>{'210750761_1': '/content/content/polyvore_out...</td>\n",
              "      <td>210750761</td>\n",
              "    </tr>\n",
              "    <tr>\n",
              "      <th>1</th>\n",
              "      <td>{'217602530_1': '/content/content/polyvore_out...</td>\n",
              "      <td>217602530</td>\n",
              "    </tr>\n",
              "    <tr>\n",
              "      <th>2</th>\n",
              "      <td>{'221884093_1': '/content/content/polyvore_out...</td>\n",
              "      <td>221884093</td>\n",
              "    </tr>\n",
              "    <tr>\n",
              "      <th>3</th>\n",
              "      <td>{'202131990_1': '/content/content/polyvore_out...</td>\n",
              "      <td>202131990</td>\n",
              "    </tr>\n",
              "    <tr>\n",
              "      <th>4</th>\n",
              "      <td>{'224733539_1': '/content/content/polyvore_out...</td>\n",
              "      <td>224733539</td>\n",
              "    </tr>\n",
              "    <tr>\n",
              "      <th>...</th>\n",
              "      <td>...</td>\n",
              "      <td>...</td>\n",
              "    </tr>\n",
              "    <tr>\n",
              "      <th>53301</th>\n",
              "      <td>{'217056080_1': '/content/content/polyvore_out...</td>\n",
              "      <td>217056080</td>\n",
              "    </tr>\n",
              "    <tr>\n",
              "      <th>53302</th>\n",
              "      <td>{'199928836_1': '/content/content/polyvore_out...</td>\n",
              "      <td>199928836</td>\n",
              "    </tr>\n",
              "    <tr>\n",
              "      <th>53303</th>\n",
              "      <td>{'223309013_1': '/content/content/polyvore_out...</td>\n",
              "      <td>223309013</td>\n",
              "    </tr>\n",
              "    <tr>\n",
              "      <th>53304</th>\n",
              "      <td>{'221204003_1': '/content/content/polyvore_out...</td>\n",
              "      <td>221204003</td>\n",
              "    </tr>\n",
              "    <tr>\n",
              "      <th>53305</th>\n",
              "      <td>{'210011225_1': '/content/content/polyvore_out...</td>\n",
              "      <td>210011225</td>\n",
              "    </tr>\n",
              "  </tbody>\n",
              "</table>\n",
              "<p>53306 rows × 2 columns</p>\n",
              "</div>\n",
              "      <button class=\"colab-df-convert\" onclick=\"convertToInteractive('df-cc43e1e3-a080-4d22-ae64-ed55829e2ae8')\"\n",
              "              title=\"Convert this dataframe to an interactive table.\"\n",
              "              style=\"display:none;\">\n",
              "        \n",
              "  <svg xmlns=\"http://www.w3.org/2000/svg\" height=\"24px\"viewBox=\"0 0 24 24\"\n",
              "       width=\"24px\">\n",
              "    <path d=\"M0 0h24v24H0V0z\" fill=\"none\"/>\n",
              "    <path d=\"M18.56 5.44l.94 2.06.94-2.06 2.06-.94-2.06-.94-.94-2.06-.94 2.06-2.06.94zm-11 1L8.5 8.5l.94-2.06 2.06-.94-2.06-.94L8.5 2.5l-.94 2.06-2.06.94zm10 10l.94 2.06.94-2.06 2.06-.94-2.06-.94-.94-2.06-.94 2.06-2.06.94z\"/><path d=\"M17.41 7.96l-1.37-1.37c-.4-.4-.92-.59-1.43-.59-.52 0-1.04.2-1.43.59L10.3 9.45l-7.72 7.72c-.78.78-.78 2.05 0 2.83L4 21.41c.39.39.9.59 1.41.59.51 0 1.02-.2 1.41-.59l7.78-7.78 2.81-2.81c.8-.78.8-2.07 0-2.86zM5.41 20L4 18.59l7.72-7.72 1.47 1.35L5.41 20z\"/>\n",
              "  </svg>\n",
              "      </button>\n",
              "      \n",
              "  <style>\n",
              "    .colab-df-container {\n",
              "      display:flex;\n",
              "      flex-wrap:wrap;\n",
              "      gap: 12px;\n",
              "    }\n",
              "\n",
              "    .colab-df-convert {\n",
              "      background-color: #E8F0FE;\n",
              "      border: none;\n",
              "      border-radius: 50%;\n",
              "      cursor: pointer;\n",
              "      display: none;\n",
              "      fill: #1967D2;\n",
              "      height: 32px;\n",
              "      padding: 0 0 0 0;\n",
              "      width: 32px;\n",
              "    }\n",
              "\n",
              "    .colab-df-convert:hover {\n",
              "      background-color: #E2EBFA;\n",
              "      box-shadow: 0px 1px 2px rgba(60, 64, 67, 0.3), 0px 1px 3px 1px rgba(60, 64, 67, 0.15);\n",
              "      fill: #174EA6;\n",
              "    }\n",
              "\n",
              "    [theme=dark] .colab-df-convert {\n",
              "      background-color: #3B4455;\n",
              "      fill: #D2E3FC;\n",
              "    }\n",
              "\n",
              "    [theme=dark] .colab-df-convert:hover {\n",
              "      background-color: #434B5C;\n",
              "      box-shadow: 0px 1px 3px 1px rgba(0, 0, 0, 0.15);\n",
              "      filter: drop-shadow(0px 1px 2px rgba(0, 0, 0, 0.3));\n",
              "      fill: #FFFFFF;\n",
              "    }\n",
              "  </style>\n",
              "\n",
              "      <script>\n",
              "        const buttonEl =\n",
              "          document.querySelector('#df-cc43e1e3-a080-4d22-ae64-ed55829e2ae8 button.colab-df-convert');\n",
              "        buttonEl.style.display =\n",
              "          google.colab.kernel.accessAllowed ? 'block' : 'none';\n",
              "\n",
              "        async function convertToInteractive(key) {\n",
              "          const element = document.querySelector('#df-cc43e1e3-a080-4d22-ae64-ed55829e2ae8');\n",
              "          const dataTable =\n",
              "            await google.colab.kernel.invokeFunction('convertToInteractive',\n",
              "                                                     [key], {});\n",
              "          if (!dataTable) return;\n",
              "\n",
              "          const docLinkHtml = 'Like what you see? Visit the ' +\n",
              "            '<a target=\"_blank\" href=https://colab.research.google.com/notebooks/data_table.ipynb>data table notebook</a>'\n",
              "            + ' to learn more about interactive tables.';\n",
              "          element.innerHTML = '';\n",
              "          dataTable['output_type'] = 'display_data';\n",
              "          await google.colab.output.renderOutput(dataTable, element);\n",
              "          const docLink = document.createElement('div');\n",
              "          docLink.innerHTML = docLinkHtml;\n",
              "          element.appendChild(docLink);\n",
              "        }\n",
              "      </script>\n",
              "    </div>\n",
              "  </div>\n",
              "  "
            ]
          },
          "metadata": {},
          "execution_count": 57
        }
      ]
    },
    {
      "cell_type": "code",
      "source": [
        "nondisjiont_train_outfits_images = pd.DataFrame(columns=['outfits_images_id', 'outfits_images_path'])\n",
        "for i in tqdm.tqdm(range(nondisjiont_train_outfits_df.shape[0])):\n",
        "    nondisjiont_train_outfits_images = nondisjiont_train_outfits_images.append(arrange_images(nondisjiont_train_outfits_df.iloc[i,0]), ignore_index=True)\n"
      ],
      "metadata": {
        "colab": {
          "base_uri": "https://localhost:8080/"
        },
        "id": "1L8EYZXuD8w8",
        "outputId": "760008d0-e291-4189-9c4f-334364daff65"
      },
      "execution_count": null,
      "outputs": [
        {
          "output_type": "stream",
          "name": "stderr",
          "text": [
            "100%|██████████| 53306/53306 [14:15<00:00, 62.32it/s]\n"
          ]
        }
      ]
    },
    {
      "cell_type": "code",
      "source": [
        "nondisjiont_train_outfits_images"
      ],
      "metadata": {
        "colab": {
          "base_uri": "https://localhost:8080/",
          "height": 423
        },
        "id": "VmKLe78VJauG",
        "outputId": "7e16b7c4-dd45-4b04-bbf5-17459c5c4aac"
      },
      "execution_count": null,
      "outputs": [
        {
          "output_type": "execute_result",
          "data": {
            "text/plain": [
              "       outfits_images_id                                outfits_images_path\n",
              "0            210750761_1  /content/content/polyvore_outfits/images/15424...\n",
              "1            210750761_2  /content/content/polyvore_outfits/images/18842...\n",
              "2            210750761_3  /content/content/polyvore_outfits/images/18321...\n",
              "3            217602530_1  /content/content/polyvore_outfits/images/20181...\n",
              "4            217602530_2  /content/content/polyvore_outfits/images/19521...\n",
              "...                  ...                                                ...\n",
              "284762       210011225_1  /content/content/polyvore_outfits/images/17948...\n",
              "284763       210011225_2  /content/content/polyvore_outfits/images/18684...\n",
              "284764       210011225_3  /content/content/polyvore_outfits/images/18456...\n",
              "284765       210011225_4  /content/content/polyvore_outfits/images/19461...\n",
              "284766       210011225_5  /content/content/polyvore_outfits/images/18566...\n",
              "\n",
              "[284767 rows x 2 columns]"
            ],
            "text/html": [
              "\n",
              "  <div id=\"df-2bf8a8c9-f452-49f1-bc4a-4b93227e3c76\">\n",
              "    <div class=\"colab-df-container\">\n",
              "      <div>\n",
              "<style scoped>\n",
              "    .dataframe tbody tr th:only-of-type {\n",
              "        vertical-align: middle;\n",
              "    }\n",
              "\n",
              "    .dataframe tbody tr th {\n",
              "        vertical-align: top;\n",
              "    }\n",
              "\n",
              "    .dataframe thead th {\n",
              "        text-align: right;\n",
              "    }\n",
              "</style>\n",
              "<table border=\"1\" class=\"dataframe\">\n",
              "  <thead>\n",
              "    <tr style=\"text-align: right;\">\n",
              "      <th></th>\n",
              "      <th>outfits_images_id</th>\n",
              "      <th>outfits_images_path</th>\n",
              "    </tr>\n",
              "  </thead>\n",
              "  <tbody>\n",
              "    <tr>\n",
              "      <th>0</th>\n",
              "      <td>210750761_1</td>\n",
              "      <td>/content/content/polyvore_outfits/images/15424...</td>\n",
              "    </tr>\n",
              "    <tr>\n",
              "      <th>1</th>\n",
              "      <td>210750761_2</td>\n",
              "      <td>/content/content/polyvore_outfits/images/18842...</td>\n",
              "    </tr>\n",
              "    <tr>\n",
              "      <th>2</th>\n",
              "      <td>210750761_3</td>\n",
              "      <td>/content/content/polyvore_outfits/images/18321...</td>\n",
              "    </tr>\n",
              "    <tr>\n",
              "      <th>3</th>\n",
              "      <td>217602530_1</td>\n",
              "      <td>/content/content/polyvore_outfits/images/20181...</td>\n",
              "    </tr>\n",
              "    <tr>\n",
              "      <th>4</th>\n",
              "      <td>217602530_2</td>\n",
              "      <td>/content/content/polyvore_outfits/images/19521...</td>\n",
              "    </tr>\n",
              "    <tr>\n",
              "      <th>...</th>\n",
              "      <td>...</td>\n",
              "      <td>...</td>\n",
              "    </tr>\n",
              "    <tr>\n",
              "      <th>284762</th>\n",
              "      <td>210011225_1</td>\n",
              "      <td>/content/content/polyvore_outfits/images/17948...</td>\n",
              "    </tr>\n",
              "    <tr>\n",
              "      <th>284763</th>\n",
              "      <td>210011225_2</td>\n",
              "      <td>/content/content/polyvore_outfits/images/18684...</td>\n",
              "    </tr>\n",
              "    <tr>\n",
              "      <th>284764</th>\n",
              "      <td>210011225_3</td>\n",
              "      <td>/content/content/polyvore_outfits/images/18456...</td>\n",
              "    </tr>\n",
              "    <tr>\n",
              "      <th>284765</th>\n",
              "      <td>210011225_4</td>\n",
              "      <td>/content/content/polyvore_outfits/images/19461...</td>\n",
              "    </tr>\n",
              "    <tr>\n",
              "      <th>284766</th>\n",
              "      <td>210011225_5</td>\n",
              "      <td>/content/content/polyvore_outfits/images/18566...</td>\n",
              "    </tr>\n",
              "  </tbody>\n",
              "</table>\n",
              "<p>284767 rows × 2 columns</p>\n",
              "</div>\n",
              "      <button class=\"colab-df-convert\" onclick=\"convertToInteractive('df-2bf8a8c9-f452-49f1-bc4a-4b93227e3c76')\"\n",
              "              title=\"Convert this dataframe to an interactive table.\"\n",
              "              style=\"display:none;\">\n",
              "        \n",
              "  <svg xmlns=\"http://www.w3.org/2000/svg\" height=\"24px\"viewBox=\"0 0 24 24\"\n",
              "       width=\"24px\">\n",
              "    <path d=\"M0 0h24v24H0V0z\" fill=\"none\"/>\n",
              "    <path d=\"M18.56 5.44l.94 2.06.94-2.06 2.06-.94-2.06-.94-.94-2.06-.94 2.06-2.06.94zm-11 1L8.5 8.5l.94-2.06 2.06-.94-2.06-.94L8.5 2.5l-.94 2.06-2.06.94zm10 10l.94 2.06.94-2.06 2.06-.94-2.06-.94-.94-2.06-.94 2.06-2.06.94z\"/><path d=\"M17.41 7.96l-1.37-1.37c-.4-.4-.92-.59-1.43-.59-.52 0-1.04.2-1.43.59L10.3 9.45l-7.72 7.72c-.78.78-.78 2.05 0 2.83L4 21.41c.39.39.9.59 1.41.59.51 0 1.02-.2 1.41-.59l7.78-7.78 2.81-2.81c.8-.78.8-2.07 0-2.86zM5.41 20L4 18.59l7.72-7.72 1.47 1.35L5.41 20z\"/>\n",
              "  </svg>\n",
              "      </button>\n",
              "      \n",
              "  <style>\n",
              "    .colab-df-container {\n",
              "      display:flex;\n",
              "      flex-wrap:wrap;\n",
              "      gap: 12px;\n",
              "    }\n",
              "\n",
              "    .colab-df-convert {\n",
              "      background-color: #E8F0FE;\n",
              "      border: none;\n",
              "      border-radius: 50%;\n",
              "      cursor: pointer;\n",
              "      display: none;\n",
              "      fill: #1967D2;\n",
              "      height: 32px;\n",
              "      padding: 0 0 0 0;\n",
              "      width: 32px;\n",
              "    }\n",
              "\n",
              "    .colab-df-convert:hover {\n",
              "      background-color: #E2EBFA;\n",
              "      box-shadow: 0px 1px 2px rgba(60, 64, 67, 0.3), 0px 1px 3px 1px rgba(60, 64, 67, 0.15);\n",
              "      fill: #174EA6;\n",
              "    }\n",
              "\n",
              "    [theme=dark] .colab-df-convert {\n",
              "      background-color: #3B4455;\n",
              "      fill: #D2E3FC;\n",
              "    }\n",
              "\n",
              "    [theme=dark] .colab-df-convert:hover {\n",
              "      background-color: #434B5C;\n",
              "      box-shadow: 0px 1px 3px 1px rgba(0, 0, 0, 0.15);\n",
              "      filter: drop-shadow(0px 1px 2px rgba(0, 0, 0, 0.3));\n",
              "      fill: #FFFFFF;\n",
              "    }\n",
              "  </style>\n",
              "\n",
              "      <script>\n",
              "        const buttonEl =\n",
              "          document.querySelector('#df-2bf8a8c9-f452-49f1-bc4a-4b93227e3c76 button.colab-df-convert');\n",
              "        buttonEl.style.display =\n",
              "          google.colab.kernel.accessAllowed ? 'block' : 'none';\n",
              "\n",
              "        async function convertToInteractive(key) {\n",
              "          const element = document.querySelector('#df-2bf8a8c9-f452-49f1-bc4a-4b93227e3c76');\n",
              "          const dataTable =\n",
              "            await google.colab.kernel.invokeFunction('convertToInteractive',\n",
              "                                                     [key], {});\n",
              "          if (!dataTable) return;\n",
              "\n",
              "          const docLinkHtml = 'Like what you see? Visit the ' +\n",
              "            '<a target=\"_blank\" href=https://colab.research.google.com/notebooks/data_table.ipynb>data table notebook</a>'\n",
              "            + ' to learn more about interactive tables.';\n",
              "          element.innerHTML = '';\n",
              "          dataTable['output_type'] = 'display_data';\n",
              "          await google.colab.output.renderOutput(dataTable, element);\n",
              "          const docLink = document.createElement('div');\n",
              "          docLink.innerHTML = docLinkHtml;\n",
              "          element.appendChild(docLink);\n",
              "        }\n",
              "      </script>\n",
              "    </div>\n",
              "  </div>\n",
              "  "
            ]
          },
          "metadata": {},
          "execution_count": 60
        }
      ]
    },
    {
      "cell_type": "markdown",
      "source": [
        "##### Make CSV"
      ],
      "metadata": {
        "id": "tjNsTktrazJ_"
      }
    },
    {
      "cell_type": "code",
      "source": [
        "nondisjiont_train_outfits_df.to_csv('/content/drive/MyDrive/Outfit_Recommendation_Project/Data_CSV_Files/nondisjiont_train_outfits.csv',index=False)"
      ],
      "metadata": {
        "id": "aYvmsxTUazJ_"
      },
      "execution_count": null,
      "outputs": []
    },
    {
      "cell_type": "code",
      "source": [
        "nondisjiont_train_outfits_images.to_csv('/content/drive/MyDrive/Outfit_Recommendation_Project/Data_CSV_Files/nondisjiont_train_outfits_images.csv',index=False)"
      ],
      "metadata": {
        "id": "YslpLvV6JlDB"
      },
      "execution_count": null,
      "outputs": []
    },
    {
      "cell_type": "markdown",
      "source": [
        "#### test.json"
      ],
      "metadata": {
        "id": "KktMDeNIazJ_"
      }
    },
    {
      "cell_type": "code",
      "source": [
        "nondisjiont_test_df= pd.read_json(\"/content/polyvore_outfits/nondisjoint/test.json\")\n",
        "nondisjiont_test_df"
      ],
      "metadata": {
        "colab": {
          "base_uri": "https://localhost:8080/",
          "height": 423
        },
        "outputId": "25668179-2272-4bb9-bfa7-ccd51e121f98",
        "id": "kdWdbOE2azJ_"
      },
      "execution_count": null,
      "outputs": [
        {
          "output_type": "execute_result",
          "data": {
            "text/plain": [
              "                                                  items     set_id\n",
              "0     [{'item_id': '193458045', 'index': 1}, {'item_...  217320763\n",
              "1     [{'item_id': '180793385', 'index': 1}, {'item_...  221590515\n",
              "2     [{'item_id': '32286230', 'index': 1}, {'item_i...   42911078\n",
              "3     [{'item_id': '158586279', 'index': 1}, {'item_...  211636597\n",
              "4     [{'item_id': '124999565', 'index': 1}, {'item_...  147466579\n",
              "...                                                 ...        ...\n",
              "9995  [{'item_id': '185863255', 'index': 1}, {'item_...  214429261\n",
              "9996  [{'item_id': '181203442', 'index': 1}, {'item_...  223909622\n",
              "9997  [{'item_id': '189510855', 'index': 1}, {'item_...  221022847\n",
              "9998  [{'item_id': '175874723', 'index': 1}, {'item_...  223952796\n",
              "9999  [{'item_id': '174131929', 'index': 1}, {'item_...  209553625\n",
              "\n",
              "[10000 rows x 2 columns]"
            ],
            "text/html": [
              "\n",
              "  <div id=\"df-e83052bd-e0af-472f-a147-61358eda7256\">\n",
              "    <div class=\"colab-df-container\">\n",
              "      <div>\n",
              "<style scoped>\n",
              "    .dataframe tbody tr th:only-of-type {\n",
              "        vertical-align: middle;\n",
              "    }\n",
              "\n",
              "    .dataframe tbody tr th {\n",
              "        vertical-align: top;\n",
              "    }\n",
              "\n",
              "    .dataframe thead th {\n",
              "        text-align: right;\n",
              "    }\n",
              "</style>\n",
              "<table border=\"1\" class=\"dataframe\">\n",
              "  <thead>\n",
              "    <tr style=\"text-align: right;\">\n",
              "      <th></th>\n",
              "      <th>items</th>\n",
              "      <th>set_id</th>\n",
              "    </tr>\n",
              "  </thead>\n",
              "  <tbody>\n",
              "    <tr>\n",
              "      <th>0</th>\n",
              "      <td>[{'item_id': '193458045', 'index': 1}, {'item_...</td>\n",
              "      <td>217320763</td>\n",
              "    </tr>\n",
              "    <tr>\n",
              "      <th>1</th>\n",
              "      <td>[{'item_id': '180793385', 'index': 1}, {'item_...</td>\n",
              "      <td>221590515</td>\n",
              "    </tr>\n",
              "    <tr>\n",
              "      <th>2</th>\n",
              "      <td>[{'item_id': '32286230', 'index': 1}, {'item_i...</td>\n",
              "      <td>42911078</td>\n",
              "    </tr>\n",
              "    <tr>\n",
              "      <th>3</th>\n",
              "      <td>[{'item_id': '158586279', 'index': 1}, {'item_...</td>\n",
              "      <td>211636597</td>\n",
              "    </tr>\n",
              "    <tr>\n",
              "      <th>4</th>\n",
              "      <td>[{'item_id': '124999565', 'index': 1}, {'item_...</td>\n",
              "      <td>147466579</td>\n",
              "    </tr>\n",
              "    <tr>\n",
              "      <th>...</th>\n",
              "      <td>...</td>\n",
              "      <td>...</td>\n",
              "    </tr>\n",
              "    <tr>\n",
              "      <th>9995</th>\n",
              "      <td>[{'item_id': '185863255', 'index': 1}, {'item_...</td>\n",
              "      <td>214429261</td>\n",
              "    </tr>\n",
              "    <tr>\n",
              "      <th>9996</th>\n",
              "      <td>[{'item_id': '181203442', 'index': 1}, {'item_...</td>\n",
              "      <td>223909622</td>\n",
              "    </tr>\n",
              "    <tr>\n",
              "      <th>9997</th>\n",
              "      <td>[{'item_id': '189510855', 'index': 1}, {'item_...</td>\n",
              "      <td>221022847</td>\n",
              "    </tr>\n",
              "    <tr>\n",
              "      <th>9998</th>\n",
              "      <td>[{'item_id': '175874723', 'index': 1}, {'item_...</td>\n",
              "      <td>223952796</td>\n",
              "    </tr>\n",
              "    <tr>\n",
              "      <th>9999</th>\n",
              "      <td>[{'item_id': '174131929', 'index': 1}, {'item_...</td>\n",
              "      <td>209553625</td>\n",
              "    </tr>\n",
              "  </tbody>\n",
              "</table>\n",
              "<p>10000 rows × 2 columns</p>\n",
              "</div>\n",
              "      <button class=\"colab-df-convert\" onclick=\"convertToInteractive('df-e83052bd-e0af-472f-a147-61358eda7256')\"\n",
              "              title=\"Convert this dataframe to an interactive table.\"\n",
              "              style=\"display:none;\">\n",
              "        \n",
              "  <svg xmlns=\"http://www.w3.org/2000/svg\" height=\"24px\"viewBox=\"0 0 24 24\"\n",
              "       width=\"24px\">\n",
              "    <path d=\"M0 0h24v24H0V0z\" fill=\"none\"/>\n",
              "    <path d=\"M18.56 5.44l.94 2.06.94-2.06 2.06-.94-2.06-.94-.94-2.06-.94 2.06-2.06.94zm-11 1L8.5 8.5l.94-2.06 2.06-.94-2.06-.94L8.5 2.5l-.94 2.06-2.06.94zm10 10l.94 2.06.94-2.06 2.06-.94-2.06-.94-.94-2.06-.94 2.06-2.06.94z\"/><path d=\"M17.41 7.96l-1.37-1.37c-.4-.4-.92-.59-1.43-.59-.52 0-1.04.2-1.43.59L10.3 9.45l-7.72 7.72c-.78.78-.78 2.05 0 2.83L4 21.41c.39.39.9.59 1.41.59.51 0 1.02-.2 1.41-.59l7.78-7.78 2.81-2.81c.8-.78.8-2.07 0-2.86zM5.41 20L4 18.59l7.72-7.72 1.47 1.35L5.41 20z\"/>\n",
              "  </svg>\n",
              "      </button>\n",
              "      \n",
              "  <style>\n",
              "    .colab-df-container {\n",
              "      display:flex;\n",
              "      flex-wrap:wrap;\n",
              "      gap: 12px;\n",
              "    }\n",
              "\n",
              "    .colab-df-convert {\n",
              "      background-color: #E8F0FE;\n",
              "      border: none;\n",
              "      border-radius: 50%;\n",
              "      cursor: pointer;\n",
              "      display: none;\n",
              "      fill: #1967D2;\n",
              "      height: 32px;\n",
              "      padding: 0 0 0 0;\n",
              "      width: 32px;\n",
              "    }\n",
              "\n",
              "    .colab-df-convert:hover {\n",
              "      background-color: #E2EBFA;\n",
              "      box-shadow: 0px 1px 2px rgba(60, 64, 67, 0.3), 0px 1px 3px 1px rgba(60, 64, 67, 0.15);\n",
              "      fill: #174EA6;\n",
              "    }\n",
              "\n",
              "    [theme=dark] .colab-df-convert {\n",
              "      background-color: #3B4455;\n",
              "      fill: #D2E3FC;\n",
              "    }\n",
              "\n",
              "    [theme=dark] .colab-df-convert:hover {\n",
              "      background-color: #434B5C;\n",
              "      box-shadow: 0px 1px 3px 1px rgba(0, 0, 0, 0.15);\n",
              "      filter: drop-shadow(0px 1px 2px rgba(0, 0, 0, 0.3));\n",
              "      fill: #FFFFFF;\n",
              "    }\n",
              "  </style>\n",
              "\n",
              "      <script>\n",
              "        const buttonEl =\n",
              "          document.querySelector('#df-e83052bd-e0af-472f-a147-61358eda7256 button.colab-df-convert');\n",
              "        buttonEl.style.display =\n",
              "          google.colab.kernel.accessAllowed ? 'block' : 'none';\n",
              "\n",
              "        async function convertToInteractive(key) {\n",
              "          const element = document.querySelector('#df-e83052bd-e0af-472f-a147-61358eda7256');\n",
              "          const dataTable =\n",
              "            await google.colab.kernel.invokeFunction('convertToInteractive',\n",
              "                                                     [key], {});\n",
              "          if (!dataTable) return;\n",
              "\n",
              "          const docLinkHtml = 'Like what you see? Visit the ' +\n",
              "            '<a target=\"_blank\" href=https://colab.research.google.com/notebooks/data_table.ipynb>data table notebook</a>'\n",
              "            + ' to learn more about interactive tables.';\n",
              "          element.innerHTML = '';\n",
              "          dataTable['output_type'] = 'display_data';\n",
              "          await google.colab.output.renderOutput(dataTable, element);\n",
              "          const docLink = document.createElement('div');\n",
              "          docLink.innerHTML = docLinkHtml;\n",
              "          element.appendChild(docLink);\n",
              "        }\n",
              "      </script>\n",
              "    </div>\n",
              "  </div>\n",
              "  "
            ]
          },
          "metadata": {},
          "execution_count": 63
        }
      ]
    },
    {
      "cell_type": "code",
      "source": [
        "nondisjiont_test_df.rename(columns = {'items' : 'outfit_items', 'set_id' : 'outfit_id'}, inplace = True)\n",
        "print(nondisjiont_test_df.iloc[100,1])\n",
        "nondisjiont_test_df.iloc[100,0]"
      ],
      "metadata": {
        "colab": {
          "base_uri": "https://localhost:8080/"
        },
        "outputId": "f7fc0f0b-c9f2-4e7c-88f7-b28fc4eef36f",
        "id": "QAAZymp0azJ_"
      },
      "execution_count": null,
      "outputs": [
        {
          "output_type": "stream",
          "name": "stdout",
          "text": [
            "195929318\n"
          ]
        },
        {
          "output_type": "execute_result",
          "data": {
            "text/plain": [
              "[{'index': 1, 'item_id': '163909255'},\n",
              " {'index': 2, 'item_id': '151857355'},\n",
              " {'index': 3, 'item_id': '167326795'},\n",
              " {'index': 4, 'item_id': '139941662'},\n",
              " {'index': 5, 'item_id': '163583571'},\n",
              " {'index': 6, 'item_id': '163444294'}]"
            ]
          },
          "metadata": {},
          "execution_count": 64
        }
      ]
    },
    {
      "cell_type": "code",
      "source": [
        "nondisjiont_test_outfits_df=nondisjiont_test_df.copy()\n",
        "\n",
        "for i in tqdm.tqdm(range(nondisjiont_test_outfits_df.shape[0])):\n",
        "    nondisjiont_test_outfits_df.at[i,'outfit_items'] = build_outfit(nondisjiont_test_outfits_df.iloc[i])\n"
      ],
      "metadata": {
        "colab": {
          "base_uri": "https://localhost:8080/"
        },
        "outputId": "c9a54bc6-1e43-43d7-9879-01f16e65d4a0",
        "id": "L82LovRyazJ_"
      },
      "execution_count": null,
      "outputs": [
        {
          "output_type": "stream",
          "name": "stderr",
          "text": [
            "100%|██████████| 10000/10000 [06:20<00:00, 26.30it/s]\n"
          ]
        }
      ]
    },
    {
      "cell_type": "code",
      "source": [
        "print(nondisjiont_test_outfits_df.iloc[100,1])\n",
        "nondisjiont_test_outfits_df.iloc[100,0]"
      ],
      "metadata": {
        "colab": {
          "base_uri": "https://localhost:8080/"
        },
        "id": "zU4WbFIWazKA",
        "outputId": "2689b5ce-a0d4-4965-c5e8-9622d004e8c6"
      },
      "execution_count": null,
      "outputs": [
        {
          "output_type": "stream",
          "name": "stdout",
          "text": [
            "195929318\n"
          ]
        },
        {
          "output_type": "execute_result",
          "data": {
            "text/plain": [
              "{'195929318_1': '/content/content/polyvore_outfits/images/163909255.jpg',\n",
              " '195929318_2': '/content/content/polyvore_outfits/images/151857355.jpg',\n",
              " '195929318_3': '/content/content/polyvore_outfits/images/167326795.jpg',\n",
              " '195929318_4': '/content/content/polyvore_outfits/images/139941662.jpg',\n",
              " '195929318_5': '/content/content/polyvore_outfits/images/163583571.jpg',\n",
              " '195929318_6': '/content/content/polyvore_outfits/images/163444294.jpg'}"
            ]
          },
          "metadata": {},
          "execution_count": 66
        }
      ]
    },
    {
      "cell_type": "code",
      "source": [
        "nondisjiont_test_outfits_images = pd.DataFrame(columns=['outfits_images_id', 'outfits_images_path'])\n",
        "for i in tqdm.tqdm(range(nondisjiont_test_outfits_df.shape[0])):\n",
        "    nondisjiont_test_outfits_images = nondisjiont_test_outfits_images.append(arrange_images(nondisjiont_test_outfits_df.iloc[i,0]), ignore_index=True)\n"
      ],
      "metadata": {
        "id": "GMjcBNLctogF",
        "colab": {
          "base_uri": "https://localhost:8080/"
        },
        "outputId": "39b491f3-9c6f-49be-aaa8-69132d9d57fb"
      },
      "execution_count": null,
      "outputs": [
        {
          "output_type": "stream",
          "name": "stderr",
          "text": [
            "100%|██████████| 10000/10000 [00:36<00:00, 277.30it/s]\n"
          ]
        }
      ]
    },
    {
      "cell_type": "markdown",
      "source": [
        "##### Make CSV"
      ],
      "metadata": {
        "id": "yau0B7KvazKA"
      }
    },
    {
      "cell_type": "code",
      "source": [
        "nondisjiont_test_outfits_df.to_csv('/content/drive/MyDrive/Outfit_Recommendation_Project/Data_CSV_Files/nondisjiont_test_outfits.csv',index=False)"
      ],
      "metadata": {
        "id": "cKalLwk7azKA"
      },
      "execution_count": null,
      "outputs": []
    },
    {
      "cell_type": "code",
      "source": [
        "nondisjiont_test_outfits_images.to_csv('/content/drive/MyDrive/Outfit_Recommendation_Project/Data_CSV_Files/nondisjiont_test_outfits_images.csv',index=False)"
      ],
      "metadata": {
        "id": "PdcDRHRbxd9i"
      },
      "execution_count": null,
      "outputs": []
    },
    {
      "cell_type": "markdown",
      "source": [
        "#### valid.json"
      ],
      "metadata": {
        "id": "9Fawpnv0azKA"
      }
    },
    {
      "cell_type": "code",
      "source": [
        "nondisjiont_valid_df= pd.read_json(\"/content/polyvore_outfits/nondisjoint/valid.json\")\n",
        "nondisjiont_valid_df\n"
      ],
      "metadata": {
        "colab": {
          "base_uri": "https://localhost:8080/",
          "height": 423
        },
        "id": "kwhA_32OazKA",
        "outputId": "a9de0aee-9753-4190-fcd4-9cb5e3a05419"
      },
      "execution_count": null,
      "outputs": [
        {
          "output_type": "execute_result",
          "data": {
            "text/plain": [
              "                                                  items     set_id\n",
              "0     [{'item_id': '213343990', 'index': 1}, {'item_...  224930161\n",
              "1     [{'item_id': '182121462', 'index': 1}, {'item_...  208756998\n",
              "2     [{'item_id': '206948767', 'index': 1}, {'item_...  218698690\n",
              "3     [{'item_id': '174026597', 'index': 1}, {'item_...  201033839\n",
              "4     [{'item_id': '177476594', 'index': 1}, {'item_...  205002070\n",
              "...                                                 ...        ...\n",
              "4995  [{'item_id': '155050099', 'index': 1}, {'item_...  205895819\n",
              "4996  [{'item_id': '126083905', 'index': 1}, {'item_...  187000627\n",
              "4997  [{'item_id': '89240239', 'index': 1}, {'item_i...  148811503\n",
              "4998  [{'item_id': '203778851', 'index': 1}, {'item_...  222095434\n",
              "4999  [{'item_id': '178863998', 'index': 1}, {'item_...  205679578\n",
              "\n",
              "[5000 rows x 2 columns]"
            ],
            "text/html": [
              "\n",
              "  <div id=\"df-a9e1e8bc-1afc-4586-b785-de4a12490f0a\">\n",
              "    <div class=\"colab-df-container\">\n",
              "      <div>\n",
              "<style scoped>\n",
              "    .dataframe tbody tr th:only-of-type {\n",
              "        vertical-align: middle;\n",
              "    }\n",
              "\n",
              "    .dataframe tbody tr th {\n",
              "        vertical-align: top;\n",
              "    }\n",
              "\n",
              "    .dataframe thead th {\n",
              "        text-align: right;\n",
              "    }\n",
              "</style>\n",
              "<table border=\"1\" class=\"dataframe\">\n",
              "  <thead>\n",
              "    <tr style=\"text-align: right;\">\n",
              "      <th></th>\n",
              "      <th>items</th>\n",
              "      <th>set_id</th>\n",
              "    </tr>\n",
              "  </thead>\n",
              "  <tbody>\n",
              "    <tr>\n",
              "      <th>0</th>\n",
              "      <td>[{'item_id': '213343990', 'index': 1}, {'item_...</td>\n",
              "      <td>224930161</td>\n",
              "    </tr>\n",
              "    <tr>\n",
              "      <th>1</th>\n",
              "      <td>[{'item_id': '182121462', 'index': 1}, {'item_...</td>\n",
              "      <td>208756998</td>\n",
              "    </tr>\n",
              "    <tr>\n",
              "      <th>2</th>\n",
              "      <td>[{'item_id': '206948767', 'index': 1}, {'item_...</td>\n",
              "      <td>218698690</td>\n",
              "    </tr>\n",
              "    <tr>\n",
              "      <th>3</th>\n",
              "      <td>[{'item_id': '174026597', 'index': 1}, {'item_...</td>\n",
              "      <td>201033839</td>\n",
              "    </tr>\n",
              "    <tr>\n",
              "      <th>4</th>\n",
              "      <td>[{'item_id': '177476594', 'index': 1}, {'item_...</td>\n",
              "      <td>205002070</td>\n",
              "    </tr>\n",
              "    <tr>\n",
              "      <th>...</th>\n",
              "      <td>...</td>\n",
              "      <td>...</td>\n",
              "    </tr>\n",
              "    <tr>\n",
              "      <th>4995</th>\n",
              "      <td>[{'item_id': '155050099', 'index': 1}, {'item_...</td>\n",
              "      <td>205895819</td>\n",
              "    </tr>\n",
              "    <tr>\n",
              "      <th>4996</th>\n",
              "      <td>[{'item_id': '126083905', 'index': 1}, {'item_...</td>\n",
              "      <td>187000627</td>\n",
              "    </tr>\n",
              "    <tr>\n",
              "      <th>4997</th>\n",
              "      <td>[{'item_id': '89240239', 'index': 1}, {'item_i...</td>\n",
              "      <td>148811503</td>\n",
              "    </tr>\n",
              "    <tr>\n",
              "      <th>4998</th>\n",
              "      <td>[{'item_id': '203778851', 'index': 1}, {'item_...</td>\n",
              "      <td>222095434</td>\n",
              "    </tr>\n",
              "    <tr>\n",
              "      <th>4999</th>\n",
              "      <td>[{'item_id': '178863998', 'index': 1}, {'item_...</td>\n",
              "      <td>205679578</td>\n",
              "    </tr>\n",
              "  </tbody>\n",
              "</table>\n",
              "<p>5000 rows × 2 columns</p>\n",
              "</div>\n",
              "      <button class=\"colab-df-convert\" onclick=\"convertToInteractive('df-a9e1e8bc-1afc-4586-b785-de4a12490f0a')\"\n",
              "              title=\"Convert this dataframe to an interactive table.\"\n",
              "              style=\"display:none;\">\n",
              "        \n",
              "  <svg xmlns=\"http://www.w3.org/2000/svg\" height=\"24px\"viewBox=\"0 0 24 24\"\n",
              "       width=\"24px\">\n",
              "    <path d=\"M0 0h24v24H0V0z\" fill=\"none\"/>\n",
              "    <path d=\"M18.56 5.44l.94 2.06.94-2.06 2.06-.94-2.06-.94-.94-2.06-.94 2.06-2.06.94zm-11 1L8.5 8.5l.94-2.06 2.06-.94-2.06-.94L8.5 2.5l-.94 2.06-2.06.94zm10 10l.94 2.06.94-2.06 2.06-.94-2.06-.94-.94-2.06-.94 2.06-2.06.94z\"/><path d=\"M17.41 7.96l-1.37-1.37c-.4-.4-.92-.59-1.43-.59-.52 0-1.04.2-1.43.59L10.3 9.45l-7.72 7.72c-.78.78-.78 2.05 0 2.83L4 21.41c.39.39.9.59 1.41.59.51 0 1.02-.2 1.41-.59l7.78-7.78 2.81-2.81c.8-.78.8-2.07 0-2.86zM5.41 20L4 18.59l7.72-7.72 1.47 1.35L5.41 20z\"/>\n",
              "  </svg>\n",
              "      </button>\n",
              "      \n",
              "  <style>\n",
              "    .colab-df-container {\n",
              "      display:flex;\n",
              "      flex-wrap:wrap;\n",
              "      gap: 12px;\n",
              "    }\n",
              "\n",
              "    .colab-df-convert {\n",
              "      background-color: #E8F0FE;\n",
              "      border: none;\n",
              "      border-radius: 50%;\n",
              "      cursor: pointer;\n",
              "      display: none;\n",
              "      fill: #1967D2;\n",
              "      height: 32px;\n",
              "      padding: 0 0 0 0;\n",
              "      width: 32px;\n",
              "    }\n",
              "\n",
              "    .colab-df-convert:hover {\n",
              "      background-color: #E2EBFA;\n",
              "      box-shadow: 0px 1px 2px rgba(60, 64, 67, 0.3), 0px 1px 3px 1px rgba(60, 64, 67, 0.15);\n",
              "      fill: #174EA6;\n",
              "    }\n",
              "\n",
              "    [theme=dark] .colab-df-convert {\n",
              "      background-color: #3B4455;\n",
              "      fill: #D2E3FC;\n",
              "    }\n",
              "\n",
              "    [theme=dark] .colab-df-convert:hover {\n",
              "      background-color: #434B5C;\n",
              "      box-shadow: 0px 1px 3px 1px rgba(0, 0, 0, 0.15);\n",
              "      filter: drop-shadow(0px 1px 2px rgba(0, 0, 0, 0.3));\n",
              "      fill: #FFFFFF;\n",
              "    }\n",
              "  </style>\n",
              "\n",
              "      <script>\n",
              "        const buttonEl =\n",
              "          document.querySelector('#df-a9e1e8bc-1afc-4586-b785-de4a12490f0a button.colab-df-convert');\n",
              "        buttonEl.style.display =\n",
              "          google.colab.kernel.accessAllowed ? 'block' : 'none';\n",
              "\n",
              "        async function convertToInteractive(key) {\n",
              "          const element = document.querySelector('#df-a9e1e8bc-1afc-4586-b785-de4a12490f0a');\n",
              "          const dataTable =\n",
              "            await google.colab.kernel.invokeFunction('convertToInteractive',\n",
              "                                                     [key], {});\n",
              "          if (!dataTable) return;\n",
              "\n",
              "          const docLinkHtml = 'Like what you see? Visit the ' +\n",
              "            '<a target=\"_blank\" href=https://colab.research.google.com/notebooks/data_table.ipynb>data table notebook</a>'\n",
              "            + ' to learn more about interactive tables.';\n",
              "          element.innerHTML = '';\n",
              "          dataTable['output_type'] = 'display_data';\n",
              "          await google.colab.output.renderOutput(dataTable, element);\n",
              "          const docLink = document.createElement('div');\n",
              "          docLink.innerHTML = docLinkHtml;\n",
              "          element.appendChild(docLink);\n",
              "        }\n",
              "      </script>\n",
              "    </div>\n",
              "  </div>\n",
              "  "
            ]
          },
          "metadata": {},
          "execution_count": 70
        }
      ]
    },
    {
      "cell_type": "code",
      "source": [
        "nondisjiont_valid_df.rename(columns = {'items' : 'outfit_items', 'set_id' : 'outfit_id'}, inplace = True)\n",
        "print(nondisjiont_valid_df.iloc[1000,1])\n",
        "nondisjiont_valid_df.iloc[1000,0]"
      ],
      "metadata": {
        "colab": {
          "base_uri": "https://localhost:8080/"
        },
        "id": "vgqMYJ88azKA",
        "outputId": "40cafd97-6e11-4477-c314-59719af2180b"
      },
      "execution_count": null,
      "outputs": [
        {
          "output_type": "stream",
          "name": "stdout",
          "text": [
            "218200213\n"
          ]
        },
        {
          "output_type": "execute_result",
          "data": {
            "text/plain": [
              "[{'index': 1, 'item_id': '201328901'},\n",
              " {'index': 2, 'item_id': '201894819'},\n",
              " {'index': 3, 'item_id': '131345098'}]"
            ]
          },
          "metadata": {},
          "execution_count": 71
        }
      ]
    },
    {
      "cell_type": "code",
      "source": [
        "nondisjiont_valid_outfits_df=nondisjiont_valid_df.copy()\n",
        "\n",
        "for i in tqdm.tqdm(range(nondisjiont_valid_outfits_df.shape[0])):\n",
        "    nondisjiont_valid_outfits_df.at[i,'outfit_items'] = build_outfit(nondisjiont_valid_outfits_df.iloc[i])"
      ],
      "metadata": {
        "colab": {
          "base_uri": "https://localhost:8080/"
        },
        "id": "YTQFSVgyazKA",
        "outputId": "6e43d0d0-64e1-47c1-82a4-4121ee076d90"
      },
      "execution_count": null,
      "outputs": [
        {
          "output_type": "stream",
          "name": "stderr",
          "text": [
            "100%|██████████| 5000/5000 [03:08<00:00, 26.55it/s]\n"
          ]
        }
      ]
    },
    {
      "cell_type": "code",
      "source": [
        "print(nondisjiont_valid_outfits_df.iloc[1000,1])\n",
        "nondisjiont_valid_outfits_df.iloc[1000,0]"
      ],
      "metadata": {
        "colab": {
          "base_uri": "https://localhost:8080/"
        },
        "id": "GWz_oKjoazKA",
        "outputId": "f5c08727-1c5a-4851-bcaa-5e10a8da4bcb"
      },
      "execution_count": null,
      "outputs": [
        {
          "output_type": "stream",
          "name": "stdout",
          "text": [
            "218200213\n"
          ]
        },
        {
          "output_type": "execute_result",
          "data": {
            "text/plain": [
              "{'218200213_1': '/content/content/polyvore_outfits/images/201328901.jpg',\n",
              " '218200213_2': '/content/content/polyvore_outfits/images/201894819.jpg',\n",
              " '218200213_3': '/content/content/polyvore_outfits/images/131345098.jpg'}"
            ]
          },
          "metadata": {},
          "execution_count": 73
        }
      ]
    },
    {
      "cell_type": "code",
      "source": [
        "nondisjiont_valid_outfits_df"
      ],
      "metadata": {
        "colab": {
          "base_uri": "https://localhost:8080/",
          "height": 423
        },
        "id": "8vVDsHHzNjN8",
        "outputId": "7fae0834-9ca8-4c05-b8c8-5dd7c3736d60"
      },
      "execution_count": null,
      "outputs": [
        {
          "output_type": "execute_result",
          "data": {
            "text/plain": [
              "                                           outfit_items  outfit_id\n",
              "0     {'224930161_1': '/content/content/polyvore_out...  224930161\n",
              "1     {'208756998_1': '/content/content/polyvore_out...  208756998\n",
              "2     {'218698690_1': '/content/content/polyvore_out...  218698690\n",
              "3     {'201033839_1': '/content/content/polyvore_out...  201033839\n",
              "4     {'205002070_1': '/content/content/polyvore_out...  205002070\n",
              "...                                                 ...        ...\n",
              "4995  {'205895819_1': '/content/content/polyvore_out...  205895819\n",
              "4996  {'187000627_1': '/content/content/polyvore_out...  187000627\n",
              "4997  {'148811503_1': '/content/content/polyvore_out...  148811503\n",
              "4998  {'222095434_1': '/content/content/polyvore_out...  222095434\n",
              "4999  {'205679578_1': '/content/content/polyvore_out...  205679578\n",
              "\n",
              "[5000 rows x 2 columns]"
            ],
            "text/html": [
              "\n",
              "  <div id=\"df-f5fa9e58-90e0-44c8-9db3-91e5ce095cd1\">\n",
              "    <div class=\"colab-df-container\">\n",
              "      <div>\n",
              "<style scoped>\n",
              "    .dataframe tbody tr th:only-of-type {\n",
              "        vertical-align: middle;\n",
              "    }\n",
              "\n",
              "    .dataframe tbody tr th {\n",
              "        vertical-align: top;\n",
              "    }\n",
              "\n",
              "    .dataframe thead th {\n",
              "        text-align: right;\n",
              "    }\n",
              "</style>\n",
              "<table border=\"1\" class=\"dataframe\">\n",
              "  <thead>\n",
              "    <tr style=\"text-align: right;\">\n",
              "      <th></th>\n",
              "      <th>outfit_items</th>\n",
              "      <th>outfit_id</th>\n",
              "    </tr>\n",
              "  </thead>\n",
              "  <tbody>\n",
              "    <tr>\n",
              "      <th>0</th>\n",
              "      <td>{'224930161_1': '/content/content/polyvore_out...</td>\n",
              "      <td>224930161</td>\n",
              "    </tr>\n",
              "    <tr>\n",
              "      <th>1</th>\n",
              "      <td>{'208756998_1': '/content/content/polyvore_out...</td>\n",
              "      <td>208756998</td>\n",
              "    </tr>\n",
              "    <tr>\n",
              "      <th>2</th>\n",
              "      <td>{'218698690_1': '/content/content/polyvore_out...</td>\n",
              "      <td>218698690</td>\n",
              "    </tr>\n",
              "    <tr>\n",
              "      <th>3</th>\n",
              "      <td>{'201033839_1': '/content/content/polyvore_out...</td>\n",
              "      <td>201033839</td>\n",
              "    </tr>\n",
              "    <tr>\n",
              "      <th>4</th>\n",
              "      <td>{'205002070_1': '/content/content/polyvore_out...</td>\n",
              "      <td>205002070</td>\n",
              "    </tr>\n",
              "    <tr>\n",
              "      <th>...</th>\n",
              "      <td>...</td>\n",
              "      <td>...</td>\n",
              "    </tr>\n",
              "    <tr>\n",
              "      <th>4995</th>\n",
              "      <td>{'205895819_1': '/content/content/polyvore_out...</td>\n",
              "      <td>205895819</td>\n",
              "    </tr>\n",
              "    <tr>\n",
              "      <th>4996</th>\n",
              "      <td>{'187000627_1': '/content/content/polyvore_out...</td>\n",
              "      <td>187000627</td>\n",
              "    </tr>\n",
              "    <tr>\n",
              "      <th>4997</th>\n",
              "      <td>{'148811503_1': '/content/content/polyvore_out...</td>\n",
              "      <td>148811503</td>\n",
              "    </tr>\n",
              "    <tr>\n",
              "      <th>4998</th>\n",
              "      <td>{'222095434_1': '/content/content/polyvore_out...</td>\n",
              "      <td>222095434</td>\n",
              "    </tr>\n",
              "    <tr>\n",
              "      <th>4999</th>\n",
              "      <td>{'205679578_1': '/content/content/polyvore_out...</td>\n",
              "      <td>205679578</td>\n",
              "    </tr>\n",
              "  </tbody>\n",
              "</table>\n",
              "<p>5000 rows × 2 columns</p>\n",
              "</div>\n",
              "      <button class=\"colab-df-convert\" onclick=\"convertToInteractive('df-f5fa9e58-90e0-44c8-9db3-91e5ce095cd1')\"\n",
              "              title=\"Convert this dataframe to an interactive table.\"\n",
              "              style=\"display:none;\">\n",
              "        \n",
              "  <svg xmlns=\"http://www.w3.org/2000/svg\" height=\"24px\"viewBox=\"0 0 24 24\"\n",
              "       width=\"24px\">\n",
              "    <path d=\"M0 0h24v24H0V0z\" fill=\"none\"/>\n",
              "    <path d=\"M18.56 5.44l.94 2.06.94-2.06 2.06-.94-2.06-.94-.94-2.06-.94 2.06-2.06.94zm-11 1L8.5 8.5l.94-2.06 2.06-.94-2.06-.94L8.5 2.5l-.94 2.06-2.06.94zm10 10l.94 2.06.94-2.06 2.06-.94-2.06-.94-.94-2.06-.94 2.06-2.06.94z\"/><path d=\"M17.41 7.96l-1.37-1.37c-.4-.4-.92-.59-1.43-.59-.52 0-1.04.2-1.43.59L10.3 9.45l-7.72 7.72c-.78.78-.78 2.05 0 2.83L4 21.41c.39.39.9.59 1.41.59.51 0 1.02-.2 1.41-.59l7.78-7.78 2.81-2.81c.8-.78.8-2.07 0-2.86zM5.41 20L4 18.59l7.72-7.72 1.47 1.35L5.41 20z\"/>\n",
              "  </svg>\n",
              "      </button>\n",
              "      \n",
              "  <style>\n",
              "    .colab-df-container {\n",
              "      display:flex;\n",
              "      flex-wrap:wrap;\n",
              "      gap: 12px;\n",
              "    }\n",
              "\n",
              "    .colab-df-convert {\n",
              "      background-color: #E8F0FE;\n",
              "      border: none;\n",
              "      border-radius: 50%;\n",
              "      cursor: pointer;\n",
              "      display: none;\n",
              "      fill: #1967D2;\n",
              "      height: 32px;\n",
              "      padding: 0 0 0 0;\n",
              "      width: 32px;\n",
              "    }\n",
              "\n",
              "    .colab-df-convert:hover {\n",
              "      background-color: #E2EBFA;\n",
              "      box-shadow: 0px 1px 2px rgba(60, 64, 67, 0.3), 0px 1px 3px 1px rgba(60, 64, 67, 0.15);\n",
              "      fill: #174EA6;\n",
              "    }\n",
              "\n",
              "    [theme=dark] .colab-df-convert {\n",
              "      background-color: #3B4455;\n",
              "      fill: #D2E3FC;\n",
              "    }\n",
              "\n",
              "    [theme=dark] .colab-df-convert:hover {\n",
              "      background-color: #434B5C;\n",
              "      box-shadow: 0px 1px 3px 1px rgba(0, 0, 0, 0.15);\n",
              "      filter: drop-shadow(0px 1px 2px rgba(0, 0, 0, 0.3));\n",
              "      fill: #FFFFFF;\n",
              "    }\n",
              "  </style>\n",
              "\n",
              "      <script>\n",
              "        const buttonEl =\n",
              "          document.querySelector('#df-f5fa9e58-90e0-44c8-9db3-91e5ce095cd1 button.colab-df-convert');\n",
              "        buttonEl.style.display =\n",
              "          google.colab.kernel.accessAllowed ? 'block' : 'none';\n",
              "\n",
              "        async function convertToInteractive(key) {\n",
              "          const element = document.querySelector('#df-f5fa9e58-90e0-44c8-9db3-91e5ce095cd1');\n",
              "          const dataTable =\n",
              "            await google.colab.kernel.invokeFunction('convertToInteractive',\n",
              "                                                     [key], {});\n",
              "          if (!dataTable) return;\n",
              "\n",
              "          const docLinkHtml = 'Like what you see? Visit the ' +\n",
              "            '<a target=\"_blank\" href=https://colab.research.google.com/notebooks/data_table.ipynb>data table notebook</a>'\n",
              "            + ' to learn more about interactive tables.';\n",
              "          element.innerHTML = '';\n",
              "          dataTable['output_type'] = 'display_data';\n",
              "          await google.colab.output.renderOutput(dataTable, element);\n",
              "          const docLink = document.createElement('div');\n",
              "          docLink.innerHTML = docLinkHtml;\n",
              "          element.appendChild(docLink);\n",
              "        }\n",
              "      </script>\n",
              "    </div>\n",
              "  </div>\n",
              "  "
            ]
          },
          "metadata": {},
          "execution_count": 74
        }
      ]
    },
    {
      "cell_type": "code",
      "source": [
        "nondisjiont_valid_outfits_images = pd.DataFrame(columns=['outfits_images_id', 'outfits_images_path'])\n",
        "for i in tqdm.tqdm(range(nondisjiont_valid_outfits_df.shape[0])):\n",
        "    nondisjiont_valid_outfits_images = nondisjiont_valid_outfits_images.append(arrange_images(nondisjiont_valid_outfits_df.iloc[i,0]), ignore_index=True)\n"
      ],
      "metadata": {
        "colab": {
          "base_uri": "https://localhost:8080/"
        },
        "id": "bwE3AkzdNpgS",
        "outputId": "6ce46fcd-7352-4153-e2b2-e8f236f18834"
      },
      "execution_count": null,
      "outputs": [
        {
          "output_type": "stream",
          "name": "stderr",
          "text": [
            "100%|██████████| 5000/5000 [00:09<00:00, 535.13it/s]\n"
          ]
        }
      ]
    },
    {
      "cell_type": "code",
      "source": [
        "nondisjiont_valid_outfits_images"
      ],
      "metadata": {
        "colab": {
          "base_uri": "https://localhost:8080/",
          "height": 423
        },
        "id": "_4iiofzoOI8k",
        "outputId": "108f64a5-4682-4240-cb1b-84356d0143a9"
      },
      "execution_count": null,
      "outputs": [
        {
          "output_type": "execute_result",
          "data": {
            "text/plain": [
              "      outfits_images_id                                outfits_images_path\n",
              "0           224930161_1  /content/content/polyvore_outfits/images/21334...\n",
              "1           224930161_2  /content/content/polyvore_outfits/images/20627...\n",
              "2           224930161_3  /content/content/polyvore_outfits/images/20205...\n",
              "3           224930161_4  /content/content/polyvore_outfits/images/53908...\n",
              "4           208756998_1  /content/content/polyvore_outfits/images/18212...\n",
              "...                 ...                                                ...\n",
              "26776       205679578_4  /content/content/polyvore_outfits/images/11036...\n",
              "26777       205679578_5  /content/content/polyvore_outfits/images/19257...\n",
              "26778       205679578_6  /content/content/polyvore_outfits/images/12064...\n",
              "26779       205679578_7  /content/content/polyvore_outfits/images/17747...\n",
              "26780       205679578_8  /content/content/polyvore_outfits/images/17763...\n",
              "\n",
              "[26781 rows x 2 columns]"
            ],
            "text/html": [
              "\n",
              "  <div id=\"df-46e2c72c-7845-420d-84e2-54320a0a1645\">\n",
              "    <div class=\"colab-df-container\">\n",
              "      <div>\n",
              "<style scoped>\n",
              "    .dataframe tbody tr th:only-of-type {\n",
              "        vertical-align: middle;\n",
              "    }\n",
              "\n",
              "    .dataframe tbody tr th {\n",
              "        vertical-align: top;\n",
              "    }\n",
              "\n",
              "    .dataframe thead th {\n",
              "        text-align: right;\n",
              "    }\n",
              "</style>\n",
              "<table border=\"1\" class=\"dataframe\">\n",
              "  <thead>\n",
              "    <tr style=\"text-align: right;\">\n",
              "      <th></th>\n",
              "      <th>outfits_images_id</th>\n",
              "      <th>outfits_images_path</th>\n",
              "    </tr>\n",
              "  </thead>\n",
              "  <tbody>\n",
              "    <tr>\n",
              "      <th>0</th>\n",
              "      <td>224930161_1</td>\n",
              "      <td>/content/content/polyvore_outfits/images/21334...</td>\n",
              "    </tr>\n",
              "    <tr>\n",
              "      <th>1</th>\n",
              "      <td>224930161_2</td>\n",
              "      <td>/content/content/polyvore_outfits/images/20627...</td>\n",
              "    </tr>\n",
              "    <tr>\n",
              "      <th>2</th>\n",
              "      <td>224930161_3</td>\n",
              "      <td>/content/content/polyvore_outfits/images/20205...</td>\n",
              "    </tr>\n",
              "    <tr>\n",
              "      <th>3</th>\n",
              "      <td>224930161_4</td>\n",
              "      <td>/content/content/polyvore_outfits/images/53908...</td>\n",
              "    </tr>\n",
              "    <tr>\n",
              "      <th>4</th>\n",
              "      <td>208756998_1</td>\n",
              "      <td>/content/content/polyvore_outfits/images/18212...</td>\n",
              "    </tr>\n",
              "    <tr>\n",
              "      <th>...</th>\n",
              "      <td>...</td>\n",
              "      <td>...</td>\n",
              "    </tr>\n",
              "    <tr>\n",
              "      <th>26776</th>\n",
              "      <td>205679578_4</td>\n",
              "      <td>/content/content/polyvore_outfits/images/11036...</td>\n",
              "    </tr>\n",
              "    <tr>\n",
              "      <th>26777</th>\n",
              "      <td>205679578_5</td>\n",
              "      <td>/content/content/polyvore_outfits/images/19257...</td>\n",
              "    </tr>\n",
              "    <tr>\n",
              "      <th>26778</th>\n",
              "      <td>205679578_6</td>\n",
              "      <td>/content/content/polyvore_outfits/images/12064...</td>\n",
              "    </tr>\n",
              "    <tr>\n",
              "      <th>26779</th>\n",
              "      <td>205679578_7</td>\n",
              "      <td>/content/content/polyvore_outfits/images/17747...</td>\n",
              "    </tr>\n",
              "    <tr>\n",
              "      <th>26780</th>\n",
              "      <td>205679578_8</td>\n",
              "      <td>/content/content/polyvore_outfits/images/17763...</td>\n",
              "    </tr>\n",
              "  </tbody>\n",
              "</table>\n",
              "<p>26781 rows × 2 columns</p>\n",
              "</div>\n",
              "      <button class=\"colab-df-convert\" onclick=\"convertToInteractive('df-46e2c72c-7845-420d-84e2-54320a0a1645')\"\n",
              "              title=\"Convert this dataframe to an interactive table.\"\n",
              "              style=\"display:none;\">\n",
              "        \n",
              "  <svg xmlns=\"http://www.w3.org/2000/svg\" height=\"24px\"viewBox=\"0 0 24 24\"\n",
              "       width=\"24px\">\n",
              "    <path d=\"M0 0h24v24H0V0z\" fill=\"none\"/>\n",
              "    <path d=\"M18.56 5.44l.94 2.06.94-2.06 2.06-.94-2.06-.94-.94-2.06-.94 2.06-2.06.94zm-11 1L8.5 8.5l.94-2.06 2.06-.94-2.06-.94L8.5 2.5l-.94 2.06-2.06.94zm10 10l.94 2.06.94-2.06 2.06-.94-2.06-.94-.94-2.06-.94 2.06-2.06.94z\"/><path d=\"M17.41 7.96l-1.37-1.37c-.4-.4-.92-.59-1.43-.59-.52 0-1.04.2-1.43.59L10.3 9.45l-7.72 7.72c-.78.78-.78 2.05 0 2.83L4 21.41c.39.39.9.59 1.41.59.51 0 1.02-.2 1.41-.59l7.78-7.78 2.81-2.81c.8-.78.8-2.07 0-2.86zM5.41 20L4 18.59l7.72-7.72 1.47 1.35L5.41 20z\"/>\n",
              "  </svg>\n",
              "      </button>\n",
              "      \n",
              "  <style>\n",
              "    .colab-df-container {\n",
              "      display:flex;\n",
              "      flex-wrap:wrap;\n",
              "      gap: 12px;\n",
              "    }\n",
              "\n",
              "    .colab-df-convert {\n",
              "      background-color: #E8F0FE;\n",
              "      border: none;\n",
              "      border-radius: 50%;\n",
              "      cursor: pointer;\n",
              "      display: none;\n",
              "      fill: #1967D2;\n",
              "      height: 32px;\n",
              "      padding: 0 0 0 0;\n",
              "      width: 32px;\n",
              "    }\n",
              "\n",
              "    .colab-df-convert:hover {\n",
              "      background-color: #E2EBFA;\n",
              "      box-shadow: 0px 1px 2px rgba(60, 64, 67, 0.3), 0px 1px 3px 1px rgba(60, 64, 67, 0.15);\n",
              "      fill: #174EA6;\n",
              "    }\n",
              "\n",
              "    [theme=dark] .colab-df-convert {\n",
              "      background-color: #3B4455;\n",
              "      fill: #D2E3FC;\n",
              "    }\n",
              "\n",
              "    [theme=dark] .colab-df-convert:hover {\n",
              "      background-color: #434B5C;\n",
              "      box-shadow: 0px 1px 3px 1px rgba(0, 0, 0, 0.15);\n",
              "      filter: drop-shadow(0px 1px 2px rgba(0, 0, 0, 0.3));\n",
              "      fill: #FFFFFF;\n",
              "    }\n",
              "  </style>\n",
              "\n",
              "      <script>\n",
              "        const buttonEl =\n",
              "          document.querySelector('#df-46e2c72c-7845-420d-84e2-54320a0a1645 button.colab-df-convert');\n",
              "        buttonEl.style.display =\n",
              "          google.colab.kernel.accessAllowed ? 'block' : 'none';\n",
              "\n",
              "        async function convertToInteractive(key) {\n",
              "          const element = document.querySelector('#df-46e2c72c-7845-420d-84e2-54320a0a1645');\n",
              "          const dataTable =\n",
              "            await google.colab.kernel.invokeFunction('convertToInteractive',\n",
              "                                                     [key], {});\n",
              "          if (!dataTable) return;\n",
              "\n",
              "          const docLinkHtml = 'Like what you see? Visit the ' +\n",
              "            '<a target=\"_blank\" href=https://colab.research.google.com/notebooks/data_table.ipynb>data table notebook</a>'\n",
              "            + ' to learn more about interactive tables.';\n",
              "          element.innerHTML = '';\n",
              "          dataTable['output_type'] = 'display_data';\n",
              "          await google.colab.output.renderOutput(dataTable, element);\n",
              "          const docLink = document.createElement('div');\n",
              "          docLink.innerHTML = docLinkHtml;\n",
              "          element.appendChild(docLink);\n",
              "        }\n",
              "      </script>\n",
              "    </div>\n",
              "  </div>\n",
              "  "
            ]
          },
          "metadata": {},
          "execution_count": 76
        }
      ]
    },
    {
      "cell_type": "markdown",
      "source": [
        "##### Make CSV"
      ],
      "metadata": {
        "id": "3Wy7RiA_azKB"
      }
    },
    {
      "cell_type": "code",
      "source": [
        "nondisjiont_valid_outfits_df.to_csv('/content/drive/MyDrive/Outfit_Recommendation_Project/Data_CSV_Files/nondisjiont_valid_outfits.csv',index=False)"
      ],
      "metadata": {
        "id": "uerttEhrazKB"
      },
      "execution_count": null,
      "outputs": []
    },
    {
      "cell_type": "code",
      "source": [
        "nondisjiont_valid_outfits_images.to_csv('/content/drive/MyDrive/Outfit_Recommendation_Project/Data_CSV_Files/nondisjiont_valid_outfits_images.csv',index=False)"
      ],
      "metadata": {
        "id": "0oH_vP7gO7T4"
      },
      "execution_count": null,
      "outputs": []
    },
    {
      "cell_type": "markdown",
      "source": [
        "#### compatibility_test.txt"
      ],
      "metadata": {
        "id": "ZrG4M6IN3uFr"
      }
    },
    {
      "cell_type": "code",
      "source": [
        "with open('/content/polyvore_outfits/nondisjoint/compatibility_test.txt', 'r') as f:\n",
        "    data = [line.split() for line in f]\n",
        "    data = [(line[0] , [item for item in line[1:]]) for line in data]\n",
        "\n",
        "nondis_compatibility_test_df = pd.DataFrame.from_records(data, columns=['compatibility', 'outfit_sample'])\n",
        "\n",
        "nondis_compatibility_test_df"
      ],
      "metadata": {
        "colab": {
          "base_uri": "https://localhost:8080/",
          "height": 423
        },
        "id": "VhAHcsWD3uFs",
        "outputId": "ce568f14-b6f0-4974-f5d3-59539aab34f4"
      },
      "execution_count": null,
      "outputs": [
        {
          "output_type": "execute_result",
          "data": {
            "text/plain": [
              "      compatibility                                      outfit_sample\n",
              "0                 1  [217320763_1, 217320763_2, 217320763_3, 217320...\n",
              "1                 1  [221590515_1, 221590515_2, 221590515_3, 221590...\n",
              "2                 1  [42911078_1, 42911078_2, 42911078_3, 42911078_...\n",
              "3                 1            [211636597_1, 211636597_2, 211636597_3]\n",
              "4                 1  [147466579_1, 147466579_2, 147466579_3, 147466...\n",
              "...             ...                                                ...\n",
              "19995             0  [203469057_1, 219275868_2, 222091890_4, 225280...\n",
              "19996             0  [218091098_1, 224988733_2, 224271783_4, 206065...\n",
              "19997             0  [164859347_1, 204403823_2, 211355335_2, 192087...\n",
              "19998             0  [200971076_2, 55074652_3, 223396804_5, 2193202...\n",
              "19999             0  [210022221_1, 225326288_2, 137663265_3, 199512...\n",
              "\n",
              "[20000 rows x 2 columns]"
            ],
            "text/html": [
              "\n",
              "  <div id=\"df-21848968-70e5-46b4-b4af-2343c8d93f21\">\n",
              "    <div class=\"colab-df-container\">\n",
              "      <div>\n",
              "<style scoped>\n",
              "    .dataframe tbody tr th:only-of-type {\n",
              "        vertical-align: middle;\n",
              "    }\n",
              "\n",
              "    .dataframe tbody tr th {\n",
              "        vertical-align: top;\n",
              "    }\n",
              "\n",
              "    .dataframe thead th {\n",
              "        text-align: right;\n",
              "    }\n",
              "</style>\n",
              "<table border=\"1\" class=\"dataframe\">\n",
              "  <thead>\n",
              "    <tr style=\"text-align: right;\">\n",
              "      <th></th>\n",
              "      <th>compatibility</th>\n",
              "      <th>outfit_sample</th>\n",
              "    </tr>\n",
              "  </thead>\n",
              "  <tbody>\n",
              "    <tr>\n",
              "      <th>0</th>\n",
              "      <td>1</td>\n",
              "      <td>[217320763_1, 217320763_2, 217320763_3, 217320...</td>\n",
              "    </tr>\n",
              "    <tr>\n",
              "      <th>1</th>\n",
              "      <td>1</td>\n",
              "      <td>[221590515_1, 221590515_2, 221590515_3, 221590...</td>\n",
              "    </tr>\n",
              "    <tr>\n",
              "      <th>2</th>\n",
              "      <td>1</td>\n",
              "      <td>[42911078_1, 42911078_2, 42911078_3, 42911078_...</td>\n",
              "    </tr>\n",
              "    <tr>\n",
              "      <th>3</th>\n",
              "      <td>1</td>\n",
              "      <td>[211636597_1, 211636597_2, 211636597_3]</td>\n",
              "    </tr>\n",
              "    <tr>\n",
              "      <th>4</th>\n",
              "      <td>1</td>\n",
              "      <td>[147466579_1, 147466579_2, 147466579_3, 147466...</td>\n",
              "    </tr>\n",
              "    <tr>\n",
              "      <th>...</th>\n",
              "      <td>...</td>\n",
              "      <td>...</td>\n",
              "    </tr>\n",
              "    <tr>\n",
              "      <th>19995</th>\n",
              "      <td>0</td>\n",
              "      <td>[203469057_1, 219275868_2, 222091890_4, 225280...</td>\n",
              "    </tr>\n",
              "    <tr>\n",
              "      <th>19996</th>\n",
              "      <td>0</td>\n",
              "      <td>[218091098_1, 224988733_2, 224271783_4, 206065...</td>\n",
              "    </tr>\n",
              "    <tr>\n",
              "      <th>19997</th>\n",
              "      <td>0</td>\n",
              "      <td>[164859347_1, 204403823_2, 211355335_2, 192087...</td>\n",
              "    </tr>\n",
              "    <tr>\n",
              "      <th>19998</th>\n",
              "      <td>0</td>\n",
              "      <td>[200971076_2, 55074652_3, 223396804_5, 2193202...</td>\n",
              "    </tr>\n",
              "    <tr>\n",
              "      <th>19999</th>\n",
              "      <td>0</td>\n",
              "      <td>[210022221_1, 225326288_2, 137663265_3, 199512...</td>\n",
              "    </tr>\n",
              "  </tbody>\n",
              "</table>\n",
              "<p>20000 rows × 2 columns</p>\n",
              "</div>\n",
              "      <button class=\"colab-df-convert\" onclick=\"convertToInteractive('df-21848968-70e5-46b4-b4af-2343c8d93f21')\"\n",
              "              title=\"Convert this dataframe to an interactive table.\"\n",
              "              style=\"display:none;\">\n",
              "        \n",
              "  <svg xmlns=\"http://www.w3.org/2000/svg\" height=\"24px\"viewBox=\"0 0 24 24\"\n",
              "       width=\"24px\">\n",
              "    <path d=\"M0 0h24v24H0V0z\" fill=\"none\"/>\n",
              "    <path d=\"M18.56 5.44l.94 2.06.94-2.06 2.06-.94-2.06-.94-.94-2.06-.94 2.06-2.06.94zm-11 1L8.5 8.5l.94-2.06 2.06-.94-2.06-.94L8.5 2.5l-.94 2.06-2.06.94zm10 10l.94 2.06.94-2.06 2.06-.94-2.06-.94-.94-2.06-.94 2.06-2.06.94z\"/><path d=\"M17.41 7.96l-1.37-1.37c-.4-.4-.92-.59-1.43-.59-.52 0-1.04.2-1.43.59L10.3 9.45l-7.72 7.72c-.78.78-.78 2.05 0 2.83L4 21.41c.39.39.9.59 1.41.59.51 0 1.02-.2 1.41-.59l7.78-7.78 2.81-2.81c.8-.78.8-2.07 0-2.86zM5.41 20L4 18.59l7.72-7.72 1.47 1.35L5.41 20z\"/>\n",
              "  </svg>\n",
              "      </button>\n",
              "      \n",
              "  <style>\n",
              "    .colab-df-container {\n",
              "      display:flex;\n",
              "      flex-wrap:wrap;\n",
              "      gap: 12px;\n",
              "    }\n",
              "\n",
              "    .colab-df-convert {\n",
              "      background-color: #E8F0FE;\n",
              "      border: none;\n",
              "      border-radius: 50%;\n",
              "      cursor: pointer;\n",
              "      display: none;\n",
              "      fill: #1967D2;\n",
              "      height: 32px;\n",
              "      padding: 0 0 0 0;\n",
              "      width: 32px;\n",
              "    }\n",
              "\n",
              "    .colab-df-convert:hover {\n",
              "      background-color: #E2EBFA;\n",
              "      box-shadow: 0px 1px 2px rgba(60, 64, 67, 0.3), 0px 1px 3px 1px rgba(60, 64, 67, 0.15);\n",
              "      fill: #174EA6;\n",
              "    }\n",
              "\n",
              "    [theme=dark] .colab-df-convert {\n",
              "      background-color: #3B4455;\n",
              "      fill: #D2E3FC;\n",
              "    }\n",
              "\n",
              "    [theme=dark] .colab-df-convert:hover {\n",
              "      background-color: #434B5C;\n",
              "      box-shadow: 0px 1px 3px 1px rgba(0, 0, 0, 0.15);\n",
              "      filter: drop-shadow(0px 1px 2px rgba(0, 0, 0, 0.3));\n",
              "      fill: #FFFFFF;\n",
              "    }\n",
              "  </style>\n",
              "\n",
              "      <script>\n",
              "        const buttonEl =\n",
              "          document.querySelector('#df-21848968-70e5-46b4-b4af-2343c8d93f21 button.colab-df-convert');\n",
              "        buttonEl.style.display =\n",
              "          google.colab.kernel.accessAllowed ? 'block' : 'none';\n",
              "\n",
              "        async function convertToInteractive(key) {\n",
              "          const element = document.querySelector('#df-21848968-70e5-46b4-b4af-2343c8d93f21');\n",
              "          const dataTable =\n",
              "            await google.colab.kernel.invokeFunction('convertToInteractive',\n",
              "                                                     [key], {});\n",
              "          if (!dataTable) return;\n",
              "\n",
              "          const docLinkHtml = 'Like what you see? Visit the ' +\n",
              "            '<a target=\"_blank\" href=https://colab.research.google.com/notebooks/data_table.ipynb>data table notebook</a>'\n",
              "            + ' to learn more about interactive tables.';\n",
              "          element.innerHTML = '';\n",
              "          dataTable['output_type'] = 'display_data';\n",
              "          await google.colab.output.renderOutput(dataTable, element);\n",
              "          const docLink = document.createElement('div');\n",
              "          docLink.innerHTML = docLinkHtml;\n",
              "          element.appendChild(docLink);\n",
              "        }\n",
              "      </script>\n",
              "    </div>\n",
              "  </div>\n",
              "  "
            ]
          },
          "metadata": {},
          "execution_count": 17
        }
      ]
    },
    {
      "cell_type": "markdown",
      "source": [
        "##### Make CSV"
      ],
      "metadata": {
        "id": "sWgO0FAA3uFs"
      }
    },
    {
      "cell_type": "code",
      "source": [
        "nondis_compatibility_test_df.to_csv('/content/drive/MyDrive/Outfit_Recommendation_Project/Data_CSV_Files/nondisjoint_compatibility_test_outfits.csv',index=False)"
      ],
      "metadata": {
        "id": "KGLHklNb3uFs"
      },
      "execution_count": null,
      "outputs": []
    },
    {
      "cell_type": "markdown",
      "source": [
        "#### compatibility_train.txt"
      ],
      "metadata": {
        "id": "FmFvQeJh3uFs"
      }
    },
    {
      "cell_type": "code",
      "source": [
        "with open('/content/polyvore_outfits/nondisjoint/compatibility_train.txt', 'r') as f:\n",
        "    data = [line.split() for line in f]\n",
        "    data = [(line[0] , [item for item in line[1:]]) for line in data]\n",
        "\n",
        "nondis_compatibility_train_df = pd.DataFrame.from_records(data, columns=['compatibility', 'outfit_sample'])\n",
        "\n",
        "nondis_compatibility_train_df"
      ],
      "metadata": {
        "colab": {
          "base_uri": "https://localhost:8080/",
          "height": 423
        },
        "id": "gTJUT1zm3uFs",
        "outputId": "558f40dc-8249-4e82-b5bc-ed9fceea5a0a"
      },
      "execution_count": null,
      "outputs": [
        {
          "output_type": "execute_result",
          "data": {
            "text/plain": [
              "       compatibility                                      outfit_sample\n",
              "0                  1            [210750761_1, 210750761_2, 210750761_3]\n",
              "1                  1  [217602530_1, 217602530_2, 217602530_3, 217602...\n",
              "2                  1            [221884093_1, 221884093_2, 221884093_3]\n",
              "3                  1  [202131990_1, 202131990_2, 202131990_3, 202131...\n",
              "4                  1  [224733539_1, 224733539_2, 224733539_3, 224733...\n",
              "...              ...                                                ...\n",
              "106607             0  [217860736_1, 224541745_2, 199143075_4, 214478...\n",
              "106608             0  [208521302_1, 199392960_2, 225328029_4, 159071...\n",
              "106609             0  [25727597_1, 223239394_3, 208198070_6, 2118114...\n",
              "106610             0  [140474653_1, 201200959_2, 216137927_3, 224525...\n",
              "106611             0  [152772918_1, 209407771_1, 189095531_4, 207027...\n",
              "\n",
              "[106612 rows x 2 columns]"
            ],
            "text/html": [
              "\n",
              "  <div id=\"df-88fcfae0-6d17-4524-b561-0ca1cba423fd\">\n",
              "    <div class=\"colab-df-container\">\n",
              "      <div>\n",
              "<style scoped>\n",
              "    .dataframe tbody tr th:only-of-type {\n",
              "        vertical-align: middle;\n",
              "    }\n",
              "\n",
              "    .dataframe tbody tr th {\n",
              "        vertical-align: top;\n",
              "    }\n",
              "\n",
              "    .dataframe thead th {\n",
              "        text-align: right;\n",
              "    }\n",
              "</style>\n",
              "<table border=\"1\" class=\"dataframe\">\n",
              "  <thead>\n",
              "    <tr style=\"text-align: right;\">\n",
              "      <th></th>\n",
              "      <th>compatibility</th>\n",
              "      <th>outfit_sample</th>\n",
              "    </tr>\n",
              "  </thead>\n",
              "  <tbody>\n",
              "    <tr>\n",
              "      <th>0</th>\n",
              "      <td>1</td>\n",
              "      <td>[210750761_1, 210750761_2, 210750761_3]</td>\n",
              "    </tr>\n",
              "    <tr>\n",
              "      <th>1</th>\n",
              "      <td>1</td>\n",
              "      <td>[217602530_1, 217602530_2, 217602530_3, 217602...</td>\n",
              "    </tr>\n",
              "    <tr>\n",
              "      <th>2</th>\n",
              "      <td>1</td>\n",
              "      <td>[221884093_1, 221884093_2, 221884093_3]</td>\n",
              "    </tr>\n",
              "    <tr>\n",
              "      <th>3</th>\n",
              "      <td>1</td>\n",
              "      <td>[202131990_1, 202131990_2, 202131990_3, 202131...</td>\n",
              "    </tr>\n",
              "    <tr>\n",
              "      <th>4</th>\n",
              "      <td>1</td>\n",
              "      <td>[224733539_1, 224733539_2, 224733539_3, 224733...</td>\n",
              "    </tr>\n",
              "    <tr>\n",
              "      <th>...</th>\n",
              "      <td>...</td>\n",
              "      <td>...</td>\n",
              "    </tr>\n",
              "    <tr>\n",
              "      <th>106607</th>\n",
              "      <td>0</td>\n",
              "      <td>[217860736_1, 224541745_2, 199143075_4, 214478...</td>\n",
              "    </tr>\n",
              "    <tr>\n",
              "      <th>106608</th>\n",
              "      <td>0</td>\n",
              "      <td>[208521302_1, 199392960_2, 225328029_4, 159071...</td>\n",
              "    </tr>\n",
              "    <tr>\n",
              "      <th>106609</th>\n",
              "      <td>0</td>\n",
              "      <td>[25727597_1, 223239394_3, 208198070_6, 2118114...</td>\n",
              "    </tr>\n",
              "    <tr>\n",
              "      <th>106610</th>\n",
              "      <td>0</td>\n",
              "      <td>[140474653_1, 201200959_2, 216137927_3, 224525...</td>\n",
              "    </tr>\n",
              "    <tr>\n",
              "      <th>106611</th>\n",
              "      <td>0</td>\n",
              "      <td>[152772918_1, 209407771_1, 189095531_4, 207027...</td>\n",
              "    </tr>\n",
              "  </tbody>\n",
              "</table>\n",
              "<p>106612 rows × 2 columns</p>\n",
              "</div>\n",
              "      <button class=\"colab-df-convert\" onclick=\"convertToInteractive('df-88fcfae0-6d17-4524-b561-0ca1cba423fd')\"\n",
              "              title=\"Convert this dataframe to an interactive table.\"\n",
              "              style=\"display:none;\">\n",
              "        \n",
              "  <svg xmlns=\"http://www.w3.org/2000/svg\" height=\"24px\"viewBox=\"0 0 24 24\"\n",
              "       width=\"24px\">\n",
              "    <path d=\"M0 0h24v24H0V0z\" fill=\"none\"/>\n",
              "    <path d=\"M18.56 5.44l.94 2.06.94-2.06 2.06-.94-2.06-.94-.94-2.06-.94 2.06-2.06.94zm-11 1L8.5 8.5l.94-2.06 2.06-.94-2.06-.94L8.5 2.5l-.94 2.06-2.06.94zm10 10l.94 2.06.94-2.06 2.06-.94-2.06-.94-.94-2.06-.94 2.06-2.06.94z\"/><path d=\"M17.41 7.96l-1.37-1.37c-.4-.4-.92-.59-1.43-.59-.52 0-1.04.2-1.43.59L10.3 9.45l-7.72 7.72c-.78.78-.78 2.05 0 2.83L4 21.41c.39.39.9.59 1.41.59.51 0 1.02-.2 1.41-.59l7.78-7.78 2.81-2.81c.8-.78.8-2.07 0-2.86zM5.41 20L4 18.59l7.72-7.72 1.47 1.35L5.41 20z\"/>\n",
              "  </svg>\n",
              "      </button>\n",
              "      \n",
              "  <style>\n",
              "    .colab-df-container {\n",
              "      display:flex;\n",
              "      flex-wrap:wrap;\n",
              "      gap: 12px;\n",
              "    }\n",
              "\n",
              "    .colab-df-convert {\n",
              "      background-color: #E8F0FE;\n",
              "      border: none;\n",
              "      border-radius: 50%;\n",
              "      cursor: pointer;\n",
              "      display: none;\n",
              "      fill: #1967D2;\n",
              "      height: 32px;\n",
              "      padding: 0 0 0 0;\n",
              "      width: 32px;\n",
              "    }\n",
              "\n",
              "    .colab-df-convert:hover {\n",
              "      background-color: #E2EBFA;\n",
              "      box-shadow: 0px 1px 2px rgba(60, 64, 67, 0.3), 0px 1px 3px 1px rgba(60, 64, 67, 0.15);\n",
              "      fill: #174EA6;\n",
              "    }\n",
              "\n",
              "    [theme=dark] .colab-df-convert {\n",
              "      background-color: #3B4455;\n",
              "      fill: #D2E3FC;\n",
              "    }\n",
              "\n",
              "    [theme=dark] .colab-df-convert:hover {\n",
              "      background-color: #434B5C;\n",
              "      box-shadow: 0px 1px 3px 1px rgba(0, 0, 0, 0.15);\n",
              "      filter: drop-shadow(0px 1px 2px rgba(0, 0, 0, 0.3));\n",
              "      fill: #FFFFFF;\n",
              "    }\n",
              "  </style>\n",
              "\n",
              "      <script>\n",
              "        const buttonEl =\n",
              "          document.querySelector('#df-88fcfae0-6d17-4524-b561-0ca1cba423fd button.colab-df-convert');\n",
              "        buttonEl.style.display =\n",
              "          google.colab.kernel.accessAllowed ? 'block' : 'none';\n",
              "\n",
              "        async function convertToInteractive(key) {\n",
              "          const element = document.querySelector('#df-88fcfae0-6d17-4524-b561-0ca1cba423fd');\n",
              "          const dataTable =\n",
              "            await google.colab.kernel.invokeFunction('convertToInteractive',\n",
              "                                                     [key], {});\n",
              "          if (!dataTable) return;\n",
              "\n",
              "          const docLinkHtml = 'Like what you see? Visit the ' +\n",
              "            '<a target=\"_blank\" href=https://colab.research.google.com/notebooks/data_table.ipynb>data table notebook</a>'\n",
              "            + ' to learn more about interactive tables.';\n",
              "          element.innerHTML = '';\n",
              "          dataTable['output_type'] = 'display_data';\n",
              "          await google.colab.output.renderOutput(dataTable, element);\n",
              "          const docLink = document.createElement('div');\n",
              "          docLink.innerHTML = docLinkHtml;\n",
              "          element.appendChild(docLink);\n",
              "        }\n",
              "      </script>\n",
              "    </div>\n",
              "  </div>\n",
              "  "
            ]
          },
          "metadata": {},
          "execution_count": 19
        }
      ]
    },
    {
      "cell_type": "markdown",
      "source": [
        "##### Make CSV"
      ],
      "metadata": {
        "id": "CQEs9ffW3uFs"
      }
    },
    {
      "cell_type": "code",
      "source": [
        "nondis_compatibility_train_df.to_csv('/content/drive/MyDrive/Outfit_Recommendation_Project/Data_CSV_Files/nondisjoint_compatibility_train_outfits.csv',index=False)"
      ],
      "metadata": {
        "id": "_gdWiLol3uFs"
      },
      "execution_count": null,
      "outputs": []
    },
    {
      "cell_type": "markdown",
      "source": [
        "#### compatibility_valid.txt"
      ],
      "metadata": {
        "id": "QfCPe7dH3uFs"
      }
    },
    {
      "cell_type": "code",
      "source": [
        "with open('/content/polyvore_outfits/nondisjoint/compatibility_valid.txt', 'r') as f:\n",
        "    data = [line.split() for line in f]\n",
        "    data = [(line[0] , [item for item in line[1:]]) for line in data]\n",
        "\n",
        "nondis_compatibility_valid_df = pd.DataFrame.from_records(data, columns=['compatibility', 'outfit_sample'])\n",
        "\n",
        "nondis_compatibility_valid_df"
      ],
      "metadata": {
        "colab": {
          "base_uri": "https://localhost:8080/",
          "height": 423
        },
        "id": "a1-ng5Ap3uFt",
        "outputId": "5a8b28ff-509f-422a-829a-4791b24adb6f"
      },
      "execution_count": null,
      "outputs": [
        {
          "output_type": "execute_result",
          "data": {
            "text/plain": [
              "     compatibility                                      outfit_sample\n",
              "0                1  [224930161_1, 224930161_2, 224930161_3, 224930...\n",
              "1                1  [208756998_1, 208756998_2, 208756998_3, 208756...\n",
              "2                1  [218698690_1, 218698690_2, 218698690_3, 218698...\n",
              "3                1  [201033839_1, 201033839_2, 201033839_3, 201033...\n",
              "4                1  [205002070_1, 205002070_2, 205002070_3, 205002...\n",
              "...            ...                                                ...\n",
              "9995             0  [220412826_1, 155874314_2, 221171445_3, 219887...\n",
              "9996             0  [208114050_5, 209791775_2, 218470419_4, 547508...\n",
              "9997             0  [223128874_1, 76793789_3, 206348715_2, 2223241...\n",
              "9998             0  [224432797_1, 223532223_2, 217770726_2, 224005...\n",
              "9999             0  [178512499_1, 218053356_2, 173667577_3, 217410...\n",
              "\n",
              "[10000 rows x 2 columns]"
            ],
            "text/html": [
              "\n",
              "  <div id=\"df-2c8ead33-90ac-4baa-b6f4-c5f9db1cc852\">\n",
              "    <div class=\"colab-df-container\">\n",
              "      <div>\n",
              "<style scoped>\n",
              "    .dataframe tbody tr th:only-of-type {\n",
              "        vertical-align: middle;\n",
              "    }\n",
              "\n",
              "    .dataframe tbody tr th {\n",
              "        vertical-align: top;\n",
              "    }\n",
              "\n",
              "    .dataframe thead th {\n",
              "        text-align: right;\n",
              "    }\n",
              "</style>\n",
              "<table border=\"1\" class=\"dataframe\">\n",
              "  <thead>\n",
              "    <tr style=\"text-align: right;\">\n",
              "      <th></th>\n",
              "      <th>compatibility</th>\n",
              "      <th>outfit_sample</th>\n",
              "    </tr>\n",
              "  </thead>\n",
              "  <tbody>\n",
              "    <tr>\n",
              "      <th>0</th>\n",
              "      <td>1</td>\n",
              "      <td>[224930161_1, 224930161_2, 224930161_3, 224930...</td>\n",
              "    </tr>\n",
              "    <tr>\n",
              "      <th>1</th>\n",
              "      <td>1</td>\n",
              "      <td>[208756998_1, 208756998_2, 208756998_3, 208756...</td>\n",
              "    </tr>\n",
              "    <tr>\n",
              "      <th>2</th>\n",
              "      <td>1</td>\n",
              "      <td>[218698690_1, 218698690_2, 218698690_3, 218698...</td>\n",
              "    </tr>\n",
              "    <tr>\n",
              "      <th>3</th>\n",
              "      <td>1</td>\n",
              "      <td>[201033839_1, 201033839_2, 201033839_3, 201033...</td>\n",
              "    </tr>\n",
              "    <tr>\n",
              "      <th>4</th>\n",
              "      <td>1</td>\n",
              "      <td>[205002070_1, 205002070_2, 205002070_3, 205002...</td>\n",
              "    </tr>\n",
              "    <tr>\n",
              "      <th>...</th>\n",
              "      <td>...</td>\n",
              "      <td>...</td>\n",
              "    </tr>\n",
              "    <tr>\n",
              "      <th>9995</th>\n",
              "      <td>0</td>\n",
              "      <td>[220412826_1, 155874314_2, 221171445_3, 219887...</td>\n",
              "    </tr>\n",
              "    <tr>\n",
              "      <th>9996</th>\n",
              "      <td>0</td>\n",
              "      <td>[208114050_5, 209791775_2, 218470419_4, 547508...</td>\n",
              "    </tr>\n",
              "    <tr>\n",
              "      <th>9997</th>\n",
              "      <td>0</td>\n",
              "      <td>[223128874_1, 76793789_3, 206348715_2, 2223241...</td>\n",
              "    </tr>\n",
              "    <tr>\n",
              "      <th>9998</th>\n",
              "      <td>0</td>\n",
              "      <td>[224432797_1, 223532223_2, 217770726_2, 224005...</td>\n",
              "    </tr>\n",
              "    <tr>\n",
              "      <th>9999</th>\n",
              "      <td>0</td>\n",
              "      <td>[178512499_1, 218053356_2, 173667577_3, 217410...</td>\n",
              "    </tr>\n",
              "  </tbody>\n",
              "</table>\n",
              "<p>10000 rows × 2 columns</p>\n",
              "</div>\n",
              "      <button class=\"colab-df-convert\" onclick=\"convertToInteractive('df-2c8ead33-90ac-4baa-b6f4-c5f9db1cc852')\"\n",
              "              title=\"Convert this dataframe to an interactive table.\"\n",
              "              style=\"display:none;\">\n",
              "        \n",
              "  <svg xmlns=\"http://www.w3.org/2000/svg\" height=\"24px\"viewBox=\"0 0 24 24\"\n",
              "       width=\"24px\">\n",
              "    <path d=\"M0 0h24v24H0V0z\" fill=\"none\"/>\n",
              "    <path d=\"M18.56 5.44l.94 2.06.94-2.06 2.06-.94-2.06-.94-.94-2.06-.94 2.06-2.06.94zm-11 1L8.5 8.5l.94-2.06 2.06-.94-2.06-.94L8.5 2.5l-.94 2.06-2.06.94zm10 10l.94 2.06.94-2.06 2.06-.94-2.06-.94-.94-2.06-.94 2.06-2.06.94z\"/><path d=\"M17.41 7.96l-1.37-1.37c-.4-.4-.92-.59-1.43-.59-.52 0-1.04.2-1.43.59L10.3 9.45l-7.72 7.72c-.78.78-.78 2.05 0 2.83L4 21.41c.39.39.9.59 1.41.59.51 0 1.02-.2 1.41-.59l7.78-7.78 2.81-2.81c.8-.78.8-2.07 0-2.86zM5.41 20L4 18.59l7.72-7.72 1.47 1.35L5.41 20z\"/>\n",
              "  </svg>\n",
              "      </button>\n",
              "      \n",
              "  <style>\n",
              "    .colab-df-container {\n",
              "      display:flex;\n",
              "      flex-wrap:wrap;\n",
              "      gap: 12px;\n",
              "    }\n",
              "\n",
              "    .colab-df-convert {\n",
              "      background-color: #E8F0FE;\n",
              "      border: none;\n",
              "      border-radius: 50%;\n",
              "      cursor: pointer;\n",
              "      display: none;\n",
              "      fill: #1967D2;\n",
              "      height: 32px;\n",
              "      padding: 0 0 0 0;\n",
              "      width: 32px;\n",
              "    }\n",
              "\n",
              "    .colab-df-convert:hover {\n",
              "      background-color: #E2EBFA;\n",
              "      box-shadow: 0px 1px 2px rgba(60, 64, 67, 0.3), 0px 1px 3px 1px rgba(60, 64, 67, 0.15);\n",
              "      fill: #174EA6;\n",
              "    }\n",
              "\n",
              "    [theme=dark] .colab-df-convert {\n",
              "      background-color: #3B4455;\n",
              "      fill: #D2E3FC;\n",
              "    }\n",
              "\n",
              "    [theme=dark] .colab-df-convert:hover {\n",
              "      background-color: #434B5C;\n",
              "      box-shadow: 0px 1px 3px 1px rgba(0, 0, 0, 0.15);\n",
              "      filter: drop-shadow(0px 1px 2px rgba(0, 0, 0, 0.3));\n",
              "      fill: #FFFFFF;\n",
              "    }\n",
              "  </style>\n",
              "\n",
              "      <script>\n",
              "        const buttonEl =\n",
              "          document.querySelector('#df-2c8ead33-90ac-4baa-b6f4-c5f9db1cc852 button.colab-df-convert');\n",
              "        buttonEl.style.display =\n",
              "          google.colab.kernel.accessAllowed ? 'block' : 'none';\n",
              "\n",
              "        async function convertToInteractive(key) {\n",
              "          const element = document.querySelector('#df-2c8ead33-90ac-4baa-b6f4-c5f9db1cc852');\n",
              "          const dataTable =\n",
              "            await google.colab.kernel.invokeFunction('convertToInteractive',\n",
              "                                                     [key], {});\n",
              "          if (!dataTable) return;\n",
              "\n",
              "          const docLinkHtml = 'Like what you see? Visit the ' +\n",
              "            '<a target=\"_blank\" href=https://colab.research.google.com/notebooks/data_table.ipynb>data table notebook</a>'\n",
              "            + ' to learn more about interactive tables.';\n",
              "          element.innerHTML = '';\n",
              "          dataTable['output_type'] = 'display_data';\n",
              "          await google.colab.output.renderOutput(dataTable, element);\n",
              "          const docLink = document.createElement('div');\n",
              "          docLink.innerHTML = docLinkHtml;\n",
              "          element.appendChild(docLink);\n",
              "        }\n",
              "      </script>\n",
              "    </div>\n",
              "  </div>\n",
              "  "
            ]
          },
          "metadata": {},
          "execution_count": 21
        }
      ]
    },
    {
      "cell_type": "markdown",
      "source": [
        "##### Make CSV"
      ],
      "metadata": {
        "id": "9jPvGUwN3uFt"
      }
    },
    {
      "cell_type": "code",
      "source": [
        "nondis_compatibility_valid_df.to_csv('/content/drive/MyDrive/Outfit_Recommendation_Project/Data_CSV_Files/nondisjoint_compatibility_valid_outfits.csv',index=False)"
      ],
      "metadata": {
        "id": "XqFXZUPV3uFt"
      },
      "execution_count": null,
      "outputs": []
    },
    {
      "cell_type": "markdown",
      "source": [
        "#### fill_in_blank_test.json"
      ],
      "metadata": {
        "id": "WxvTbuI93uFt"
      }
    },
    {
      "cell_type": "code",
      "source": [
        "nondis_fill_blank_test_df = pd.read_json('/content/polyvore_outfits/nondisjoint/fill_in_blank_test.json')\n",
        "nondis_fill_blank_test_df"
      ],
      "metadata": {
        "id": "EBx8Zg8B3uFt"
      },
      "execution_count": null,
      "outputs": []
    },
    {
      "cell_type": "markdown",
      "source": [
        "##### Make CSV"
      ],
      "metadata": {
        "id": "lfuZZkH93uFt"
      }
    },
    {
      "cell_type": "code",
      "source": [
        "nondis_fill_blank_test_df.to_csv('/content/drive/MyDrive/Outfit_Recommendation_Project/Data_CSV_Files/nondisjoint_fill_blank_test_outfits.csv',index=False)"
      ],
      "metadata": {
        "id": "n3euBwdl3uFt"
      },
      "execution_count": null,
      "outputs": []
    },
    {
      "cell_type": "markdown",
      "source": [
        "#### fill_in_blank_train.json"
      ],
      "metadata": {
        "id": "9A2iqyid3uFt"
      }
    },
    {
      "cell_type": "code",
      "source": [
        "nondis_fill_blank_train_df = pd.read_json('/content/polyvore_outfits/nondisjoint/fill_in_blank_train.json')\n",
        "nondis_fill_blank_train_df"
      ],
      "metadata": {
        "id": "6SuabXcd3uFt"
      },
      "execution_count": null,
      "outputs": []
    },
    {
      "cell_type": "markdown",
      "source": [
        "##### Make CSV"
      ],
      "metadata": {
        "id": "_0LgGt3a3uFt"
      }
    },
    {
      "cell_type": "code",
      "source": [
        "nondis_fill_blank_train_df.to_csv('/content/drive/MyDrive/Outfit_Recommendation_Project/Data_CSV_Files/nondisjoint_fill_blank_train_outfits.csv',index=False)"
      ],
      "metadata": {
        "id": "V15ozkh53uFt"
      },
      "execution_count": null,
      "outputs": []
    },
    {
      "cell_type": "markdown",
      "source": [
        "#### fill_in_blank_valid.json"
      ],
      "metadata": {
        "id": "4ZCfFsgJ3uFu"
      }
    },
    {
      "cell_type": "code",
      "source": [
        "nondis_fill_blank_valid_df = pd.read_json('/content/polyvore_outfits/nondisjoint/fill_in_blank_valid.json')\n",
        "nondis_fill_blank_valid_df"
      ],
      "metadata": {
        "id": "OTAFfrW63uFu"
      },
      "execution_count": null,
      "outputs": []
    },
    {
      "cell_type": "markdown",
      "source": [
        "##### Make CSV"
      ],
      "metadata": {
        "id": "6ye_yxm83uFu"
      }
    },
    {
      "cell_type": "code",
      "source": [
        "nondis_fill_blank_valid_df.to_csv('/content/drive/MyDrive/Outfit_Recommendation_Project/Data_CSV_Files/nondisjoint_fill_blank_valid_outfits.csv',index=False)"
      ],
      "metadata": {
        "id": "mAE0L7yo3uFu"
      },
      "execution_count": null,
      "outputs": []
    },
    {
      "cell_type": "markdown",
      "source": [
        "### maryland_polyvore_hardneg"
      ],
      "metadata": {
        "id": "1lYnRzeF5TCd"
      }
    },
    {
      "cell_type": "markdown",
      "source": [
        "#### compatibility_test.txt"
      ],
      "metadata": {
        "id": "kVYu09yR5o5H"
      }
    },
    {
      "cell_type": "code",
      "source": [
        "with open('/content/polyvore_outfits/maryland_polyvore_hardneg/compatibility_test.txt', 'r') as f:\n",
        "    data = [line.split() for line in f]\n",
        "    data = [(line[0] , [item for item in line[1:]]) for line in data]\n",
        "\n",
        "maryland_compatibility_test_df = pd.DataFrame.from_records(data, columns=['compatibility', 'outfit_sample'])\n",
        "\n",
        "maryland_compatibility_test_df"
      ],
      "metadata": {
        "colab": {
          "base_uri": "https://localhost:8080/",
          "height": 423
        },
        "id": "nMCSY8WJ5o5H",
        "outputId": "00dad940-db43-4f67-f502-66d8bfda12ef"
      },
      "execution_count": null,
      "outputs": [
        {
          "output_type": "execute_result",
          "data": {
            "text/plain": [
              "     compatibility                                      outfit_sample\n",
              "0                1  [119704139_1, 119704139_2, 119704139_3, 119704...\n",
              "1                1  [119314458_1, 119314458_2, 119314458_3, 119314...\n",
              "2                1  [147361785_1, 147361785_2, 147361785_3, 147361...\n",
              "3                1  [148015877_1, 148015877_2, 148015877_3, 148015...\n",
              "4                1  [192637078_1, 192637078_2, 192637078_3, 192637...\n",
              "...            ...                                                ...\n",
              "6076             0  [132495503_1, 175144454_2, 204421067_3, 216720...\n",
              "6077             0  [127082606_1, 191465208_2, 187850258_3, 162747...\n",
              "6078             0  [216679526_1, 207694450_2, 118559582_3, 137030...\n",
              "6079             0  [198298738_1, 216299828_2, 156245664_3, 186297...\n",
              "6080             0  [204747606_1, 210700771_2, 179627433_3, 143079...\n",
              "\n",
              "[6081 rows x 2 columns]"
            ],
            "text/html": [
              "\n",
              "  <div id=\"df-e7960c11-34cc-4ed3-a7c0-b1bfc869c8df\">\n",
              "    <div class=\"colab-df-container\">\n",
              "      <div>\n",
              "<style scoped>\n",
              "    .dataframe tbody tr th:only-of-type {\n",
              "        vertical-align: middle;\n",
              "    }\n",
              "\n",
              "    .dataframe tbody tr th {\n",
              "        vertical-align: top;\n",
              "    }\n",
              "\n",
              "    .dataframe thead th {\n",
              "        text-align: right;\n",
              "    }\n",
              "</style>\n",
              "<table border=\"1\" class=\"dataframe\">\n",
              "  <thead>\n",
              "    <tr style=\"text-align: right;\">\n",
              "      <th></th>\n",
              "      <th>compatibility</th>\n",
              "      <th>outfit_sample</th>\n",
              "    </tr>\n",
              "  </thead>\n",
              "  <tbody>\n",
              "    <tr>\n",
              "      <th>0</th>\n",
              "      <td>1</td>\n",
              "      <td>[119704139_1, 119704139_2, 119704139_3, 119704...</td>\n",
              "    </tr>\n",
              "    <tr>\n",
              "      <th>1</th>\n",
              "      <td>1</td>\n",
              "      <td>[119314458_1, 119314458_2, 119314458_3, 119314...</td>\n",
              "    </tr>\n",
              "    <tr>\n",
              "      <th>2</th>\n",
              "      <td>1</td>\n",
              "      <td>[147361785_1, 147361785_2, 147361785_3, 147361...</td>\n",
              "    </tr>\n",
              "    <tr>\n",
              "      <th>3</th>\n",
              "      <td>1</td>\n",
              "      <td>[148015877_1, 148015877_2, 148015877_3, 148015...</td>\n",
              "    </tr>\n",
              "    <tr>\n",
              "      <th>4</th>\n",
              "      <td>1</td>\n",
              "      <td>[192637078_1, 192637078_2, 192637078_3, 192637...</td>\n",
              "    </tr>\n",
              "    <tr>\n",
              "      <th>...</th>\n",
              "      <td>...</td>\n",
              "      <td>...</td>\n",
              "    </tr>\n",
              "    <tr>\n",
              "      <th>6076</th>\n",
              "      <td>0</td>\n",
              "      <td>[132495503_1, 175144454_2, 204421067_3, 216720...</td>\n",
              "    </tr>\n",
              "    <tr>\n",
              "      <th>6077</th>\n",
              "      <td>0</td>\n",
              "      <td>[127082606_1, 191465208_2, 187850258_3, 162747...</td>\n",
              "    </tr>\n",
              "    <tr>\n",
              "      <th>6078</th>\n",
              "      <td>0</td>\n",
              "      <td>[216679526_1, 207694450_2, 118559582_3, 137030...</td>\n",
              "    </tr>\n",
              "    <tr>\n",
              "      <th>6079</th>\n",
              "      <td>0</td>\n",
              "      <td>[198298738_1, 216299828_2, 156245664_3, 186297...</td>\n",
              "    </tr>\n",
              "    <tr>\n",
              "      <th>6080</th>\n",
              "      <td>0</td>\n",
              "      <td>[204747606_1, 210700771_2, 179627433_3, 143079...</td>\n",
              "    </tr>\n",
              "  </tbody>\n",
              "</table>\n",
              "<p>6081 rows × 2 columns</p>\n",
              "</div>\n",
              "      <button class=\"colab-df-convert\" onclick=\"convertToInteractive('df-e7960c11-34cc-4ed3-a7c0-b1bfc869c8df')\"\n",
              "              title=\"Convert this dataframe to an interactive table.\"\n",
              "              style=\"display:none;\">\n",
              "        \n",
              "  <svg xmlns=\"http://www.w3.org/2000/svg\" height=\"24px\"viewBox=\"0 0 24 24\"\n",
              "       width=\"24px\">\n",
              "    <path d=\"M0 0h24v24H0V0z\" fill=\"none\"/>\n",
              "    <path d=\"M18.56 5.44l.94 2.06.94-2.06 2.06-.94-2.06-.94-.94-2.06-.94 2.06-2.06.94zm-11 1L8.5 8.5l.94-2.06 2.06-.94-2.06-.94L8.5 2.5l-.94 2.06-2.06.94zm10 10l.94 2.06.94-2.06 2.06-.94-2.06-.94-.94-2.06-.94 2.06-2.06.94z\"/><path d=\"M17.41 7.96l-1.37-1.37c-.4-.4-.92-.59-1.43-.59-.52 0-1.04.2-1.43.59L10.3 9.45l-7.72 7.72c-.78.78-.78 2.05 0 2.83L4 21.41c.39.39.9.59 1.41.59.51 0 1.02-.2 1.41-.59l7.78-7.78 2.81-2.81c.8-.78.8-2.07 0-2.86zM5.41 20L4 18.59l7.72-7.72 1.47 1.35L5.41 20z\"/>\n",
              "  </svg>\n",
              "      </button>\n",
              "      \n",
              "  <style>\n",
              "    .colab-df-container {\n",
              "      display:flex;\n",
              "      flex-wrap:wrap;\n",
              "      gap: 12px;\n",
              "    }\n",
              "\n",
              "    .colab-df-convert {\n",
              "      background-color: #E8F0FE;\n",
              "      border: none;\n",
              "      border-radius: 50%;\n",
              "      cursor: pointer;\n",
              "      display: none;\n",
              "      fill: #1967D2;\n",
              "      height: 32px;\n",
              "      padding: 0 0 0 0;\n",
              "      width: 32px;\n",
              "    }\n",
              "\n",
              "    .colab-df-convert:hover {\n",
              "      background-color: #E2EBFA;\n",
              "      box-shadow: 0px 1px 2px rgba(60, 64, 67, 0.3), 0px 1px 3px 1px rgba(60, 64, 67, 0.15);\n",
              "      fill: #174EA6;\n",
              "    }\n",
              "\n",
              "    [theme=dark] .colab-df-convert {\n",
              "      background-color: #3B4455;\n",
              "      fill: #D2E3FC;\n",
              "    }\n",
              "\n",
              "    [theme=dark] .colab-df-convert:hover {\n",
              "      background-color: #434B5C;\n",
              "      box-shadow: 0px 1px 3px 1px rgba(0, 0, 0, 0.15);\n",
              "      filter: drop-shadow(0px 1px 2px rgba(0, 0, 0, 0.3));\n",
              "      fill: #FFFFFF;\n",
              "    }\n",
              "  </style>\n",
              "\n",
              "      <script>\n",
              "        const buttonEl =\n",
              "          document.querySelector('#df-e7960c11-34cc-4ed3-a7c0-b1bfc869c8df button.colab-df-convert');\n",
              "        buttonEl.style.display =\n",
              "          google.colab.kernel.accessAllowed ? 'block' : 'none';\n",
              "\n",
              "        async function convertToInteractive(key) {\n",
              "          const element = document.querySelector('#df-e7960c11-34cc-4ed3-a7c0-b1bfc869c8df');\n",
              "          const dataTable =\n",
              "            await google.colab.kernel.invokeFunction('convertToInteractive',\n",
              "                                                     [key], {});\n",
              "          if (!dataTable) return;\n",
              "\n",
              "          const docLinkHtml = 'Like what you see? Visit the ' +\n",
              "            '<a target=\"_blank\" href=https://colab.research.google.com/notebooks/data_table.ipynb>data table notebook</a>'\n",
              "            + ' to learn more about interactive tables.';\n",
              "          element.innerHTML = '';\n",
              "          dataTable['output_type'] = 'display_data';\n",
              "          await google.colab.output.renderOutput(dataTable, element);\n",
              "          const docLink = document.createElement('div');\n",
              "          docLink.innerHTML = docLinkHtml;\n",
              "          element.appendChild(docLink);\n",
              "        }\n",
              "      </script>\n",
              "    </div>\n",
              "  </div>\n",
              "  "
            ]
          },
          "metadata": {},
          "execution_count": 23
        }
      ]
    },
    {
      "cell_type": "markdown",
      "source": [
        "##### Make CSV"
      ],
      "metadata": {
        "id": "NrHZiQqJ5o5H"
      }
    },
    {
      "cell_type": "code",
      "source": [
        "maryland_compatibility_test_df.to_csv('/content/drive/MyDrive/Outfit_Recommendation_Project/Data_CSV_Files/maryland_compatibility_test_outfits.csv',index=False)"
      ],
      "metadata": {
        "id": "N1Jqn8py5o5H"
      },
      "execution_count": null,
      "outputs": []
    },
    {
      "cell_type": "markdown",
      "source": [
        "#### compatibility_train.txt"
      ],
      "metadata": {
        "id": "7jq8D6qE5o5I"
      }
    },
    {
      "cell_type": "code",
      "source": [
        "with open('/content/polyvore_outfits/maryland_polyvore_hardneg/compatibility_train.txt', 'r') as f:\n",
        "    data = [line.split() for line in f]\n",
        "    data = [(line[0] , [item for item in line[1:]]) for line in data]\n",
        "\n",
        "maryland_compatibility_train_df = pd.DataFrame.from_records(data, columns=['compatibility', 'outfit_sample'])\n",
        "\n",
        "maryland_compatibility_train_df"
      ],
      "metadata": {
        "colab": {
          "base_uri": "https://localhost:8080/",
          "height": 423
        },
        "id": "hFMYRfBg5o5I",
        "outputId": "e3ebd7b0-7997-484b-bfab-6c8933a3ee30"
      },
      "execution_count": null,
      "outputs": [
        {
          "output_type": "execute_result",
          "data": {
            "text/plain": [
              "      compatibility                                      outfit_sample\n",
              "0                 1  [214181831_1, 214181831_2, 214181831_3, 214181...\n",
              "1                 1  [120161271_1, 120161271_2, 120161271_3, 120161...\n",
              "2                 1  [143656996_1, 143656996_2, 143656996_3, 143656...\n",
              "3                 1  [186627934_1, 186627934_2, 186627934_3, 186627...\n",
              "4                 1  [206969379_1, 206969379_2, 206969379_3, 206969...\n",
              "...             ...                                                ...\n",
              "34503             0  [202676434_1, 214375288_2, 158366779_3, 215994...\n",
              "34504             0  [212434593_1, 204366957_2, 215918692_3, 116577...\n",
              "34505             0  [214613068_1, 210064739_2, 211763424_3, 216560...\n",
              "34506             0  [204530373_1, 201201356_2, 216009257_3, 190488...\n",
              "34507             0  [216949034_1, 203690094_2, 201997191_3, 215919...\n",
              "\n",
              "[34508 rows x 2 columns]"
            ],
            "text/html": [
              "\n",
              "  <div id=\"df-d4271098-d8d6-4e2e-b9a3-58630cc0ade2\">\n",
              "    <div class=\"colab-df-container\">\n",
              "      <div>\n",
              "<style scoped>\n",
              "    .dataframe tbody tr th:only-of-type {\n",
              "        vertical-align: middle;\n",
              "    }\n",
              "\n",
              "    .dataframe tbody tr th {\n",
              "        vertical-align: top;\n",
              "    }\n",
              "\n",
              "    .dataframe thead th {\n",
              "        text-align: right;\n",
              "    }\n",
              "</style>\n",
              "<table border=\"1\" class=\"dataframe\">\n",
              "  <thead>\n",
              "    <tr style=\"text-align: right;\">\n",
              "      <th></th>\n",
              "      <th>compatibility</th>\n",
              "      <th>outfit_sample</th>\n",
              "    </tr>\n",
              "  </thead>\n",
              "  <tbody>\n",
              "    <tr>\n",
              "      <th>0</th>\n",
              "      <td>1</td>\n",
              "      <td>[214181831_1, 214181831_2, 214181831_3, 214181...</td>\n",
              "    </tr>\n",
              "    <tr>\n",
              "      <th>1</th>\n",
              "      <td>1</td>\n",
              "      <td>[120161271_1, 120161271_2, 120161271_3, 120161...</td>\n",
              "    </tr>\n",
              "    <tr>\n",
              "      <th>2</th>\n",
              "      <td>1</td>\n",
              "      <td>[143656996_1, 143656996_2, 143656996_3, 143656...</td>\n",
              "    </tr>\n",
              "    <tr>\n",
              "      <th>3</th>\n",
              "      <td>1</td>\n",
              "      <td>[186627934_1, 186627934_2, 186627934_3, 186627...</td>\n",
              "    </tr>\n",
              "    <tr>\n",
              "      <th>4</th>\n",
              "      <td>1</td>\n",
              "      <td>[206969379_1, 206969379_2, 206969379_3, 206969...</td>\n",
              "    </tr>\n",
              "    <tr>\n",
              "      <th>...</th>\n",
              "      <td>...</td>\n",
              "      <td>...</td>\n",
              "    </tr>\n",
              "    <tr>\n",
              "      <th>34503</th>\n",
              "      <td>0</td>\n",
              "      <td>[202676434_1, 214375288_2, 158366779_3, 215994...</td>\n",
              "    </tr>\n",
              "    <tr>\n",
              "      <th>34504</th>\n",
              "      <td>0</td>\n",
              "      <td>[212434593_1, 204366957_2, 215918692_3, 116577...</td>\n",
              "    </tr>\n",
              "    <tr>\n",
              "      <th>34505</th>\n",
              "      <td>0</td>\n",
              "      <td>[214613068_1, 210064739_2, 211763424_3, 216560...</td>\n",
              "    </tr>\n",
              "    <tr>\n",
              "      <th>34506</th>\n",
              "      <td>0</td>\n",
              "      <td>[204530373_1, 201201356_2, 216009257_3, 190488...</td>\n",
              "    </tr>\n",
              "    <tr>\n",
              "      <th>34507</th>\n",
              "      <td>0</td>\n",
              "      <td>[216949034_1, 203690094_2, 201997191_3, 215919...</td>\n",
              "    </tr>\n",
              "  </tbody>\n",
              "</table>\n",
              "<p>34508 rows × 2 columns</p>\n",
              "</div>\n",
              "      <button class=\"colab-df-convert\" onclick=\"convertToInteractive('df-d4271098-d8d6-4e2e-b9a3-58630cc0ade2')\"\n",
              "              title=\"Convert this dataframe to an interactive table.\"\n",
              "              style=\"display:none;\">\n",
              "        \n",
              "  <svg xmlns=\"http://www.w3.org/2000/svg\" height=\"24px\"viewBox=\"0 0 24 24\"\n",
              "       width=\"24px\">\n",
              "    <path d=\"M0 0h24v24H0V0z\" fill=\"none\"/>\n",
              "    <path d=\"M18.56 5.44l.94 2.06.94-2.06 2.06-.94-2.06-.94-.94-2.06-.94 2.06-2.06.94zm-11 1L8.5 8.5l.94-2.06 2.06-.94-2.06-.94L8.5 2.5l-.94 2.06-2.06.94zm10 10l.94 2.06.94-2.06 2.06-.94-2.06-.94-.94-2.06-.94 2.06-2.06.94z\"/><path d=\"M17.41 7.96l-1.37-1.37c-.4-.4-.92-.59-1.43-.59-.52 0-1.04.2-1.43.59L10.3 9.45l-7.72 7.72c-.78.78-.78 2.05 0 2.83L4 21.41c.39.39.9.59 1.41.59.51 0 1.02-.2 1.41-.59l7.78-7.78 2.81-2.81c.8-.78.8-2.07 0-2.86zM5.41 20L4 18.59l7.72-7.72 1.47 1.35L5.41 20z\"/>\n",
              "  </svg>\n",
              "      </button>\n",
              "      \n",
              "  <style>\n",
              "    .colab-df-container {\n",
              "      display:flex;\n",
              "      flex-wrap:wrap;\n",
              "      gap: 12px;\n",
              "    }\n",
              "\n",
              "    .colab-df-convert {\n",
              "      background-color: #E8F0FE;\n",
              "      border: none;\n",
              "      border-radius: 50%;\n",
              "      cursor: pointer;\n",
              "      display: none;\n",
              "      fill: #1967D2;\n",
              "      height: 32px;\n",
              "      padding: 0 0 0 0;\n",
              "      width: 32px;\n",
              "    }\n",
              "\n",
              "    .colab-df-convert:hover {\n",
              "      background-color: #E2EBFA;\n",
              "      box-shadow: 0px 1px 2px rgba(60, 64, 67, 0.3), 0px 1px 3px 1px rgba(60, 64, 67, 0.15);\n",
              "      fill: #174EA6;\n",
              "    }\n",
              "\n",
              "    [theme=dark] .colab-df-convert {\n",
              "      background-color: #3B4455;\n",
              "      fill: #D2E3FC;\n",
              "    }\n",
              "\n",
              "    [theme=dark] .colab-df-convert:hover {\n",
              "      background-color: #434B5C;\n",
              "      box-shadow: 0px 1px 3px 1px rgba(0, 0, 0, 0.15);\n",
              "      filter: drop-shadow(0px 1px 2px rgba(0, 0, 0, 0.3));\n",
              "      fill: #FFFFFF;\n",
              "    }\n",
              "  </style>\n",
              "\n",
              "      <script>\n",
              "        const buttonEl =\n",
              "          document.querySelector('#df-d4271098-d8d6-4e2e-b9a3-58630cc0ade2 button.colab-df-convert');\n",
              "        buttonEl.style.display =\n",
              "          google.colab.kernel.accessAllowed ? 'block' : 'none';\n",
              "\n",
              "        async function convertToInteractive(key) {\n",
              "          const element = document.querySelector('#df-d4271098-d8d6-4e2e-b9a3-58630cc0ade2');\n",
              "          const dataTable =\n",
              "            await google.colab.kernel.invokeFunction('convertToInteractive',\n",
              "                                                     [key], {});\n",
              "          if (!dataTable) return;\n",
              "\n",
              "          const docLinkHtml = 'Like what you see? Visit the ' +\n",
              "            '<a target=\"_blank\" href=https://colab.research.google.com/notebooks/data_table.ipynb>data table notebook</a>'\n",
              "            + ' to learn more about interactive tables.';\n",
              "          element.innerHTML = '';\n",
              "          dataTable['output_type'] = 'display_data';\n",
              "          await google.colab.output.renderOutput(dataTable, element);\n",
              "          const docLink = document.createElement('div');\n",
              "          docLink.innerHTML = docLinkHtml;\n",
              "          element.appendChild(docLink);\n",
              "        }\n",
              "      </script>\n",
              "    </div>\n",
              "  </div>\n",
              "  "
            ]
          },
          "metadata": {},
          "execution_count": 25
        }
      ]
    },
    {
      "cell_type": "markdown",
      "source": [
        "##### Make Pickle"
      ],
      "metadata": {
        "id": "TRuOzK_C5o5I"
      }
    },
    {
      "cell_type": "code",
      "source": [
        "maryland_compatibility_train_df.to_csv('/content/drive/MyDrive/Outfit_Recommendation_Project/Data_CSV_Files/maryland_compatibility_train_outfits.csv',index=False)"
      ],
      "metadata": {
        "id": "aKi95xVC5o5I"
      },
      "execution_count": null,
      "outputs": []
    },
    {
      "cell_type": "markdown",
      "source": [
        "#### compatibility_valid.txt"
      ],
      "metadata": {
        "id": "Fqb2kHUh5o5I"
      }
    },
    {
      "cell_type": "code",
      "source": [
        "with open('/content/polyvore_outfits/maryland_polyvore_hardneg/compatibility_valid.txt', 'r') as f:\n",
        "    data = [line.split() for line in f]\n",
        "    data = [(line[0] , [item for item in line[1:]]) for line in data]\n",
        "\n",
        "maryland_compatibility_valid_df = pd.DataFrame.from_records(data, columns=['compatibility', 'outfit_sample'])\n",
        "\n",
        "maryland_compatibility_valid_df"
      ],
      "metadata": {
        "colab": {
          "base_uri": "https://localhost:8080/",
          "height": 423
        },
        "id": "RmvM-U8J5o5I",
        "outputId": "a82b924f-493e-4854-dab9-ace0b724a79b"
      },
      "execution_count": null,
      "outputs": [
        {
          "output_type": "execute_result",
          "data": {
            "text/plain": [
              "     compatibility                                      outfit_sample\n",
              "0                1  [209512492_1, 209512492_2, 209512492_3, 209512...\n",
              "1                1  [202881124_1, 202881124_2, 202881124_3, 202881...\n",
              "2                1  [204980379_1, 204980379_2, 204980379_3, 204980...\n",
              "3                1  [204510570_1, 204510570_2, 204510570_3, 204510...\n",
              "4                1  [214272106_1, 214272106_2, 214272106_3, 214272...\n",
              "...            ...                                                ...\n",
              "2959             0  [129459587_1, 214822788_2, 196993824_3, 216049...\n",
              "2960             0  [208861068_1, 125915024_2, 199902774_3, 170749...\n",
              "2961             0  [189099394_1, 217011829_2, 165431994_3, 151650...\n",
              "2962             0  [211457853_1, 200290225_2, 164788786_3, 192465...\n",
              "2963             0  [205585230_1, 198824359_2, 173085677_3, 212430...\n",
              "\n",
              "[2964 rows x 2 columns]"
            ],
            "text/html": [
              "\n",
              "  <div id=\"df-75dd92d3-6420-4a57-9a15-b88fb0282884\">\n",
              "    <div class=\"colab-df-container\">\n",
              "      <div>\n",
              "<style scoped>\n",
              "    .dataframe tbody tr th:only-of-type {\n",
              "        vertical-align: middle;\n",
              "    }\n",
              "\n",
              "    .dataframe tbody tr th {\n",
              "        vertical-align: top;\n",
              "    }\n",
              "\n",
              "    .dataframe thead th {\n",
              "        text-align: right;\n",
              "    }\n",
              "</style>\n",
              "<table border=\"1\" class=\"dataframe\">\n",
              "  <thead>\n",
              "    <tr style=\"text-align: right;\">\n",
              "      <th></th>\n",
              "      <th>compatibility</th>\n",
              "      <th>outfit_sample</th>\n",
              "    </tr>\n",
              "  </thead>\n",
              "  <tbody>\n",
              "    <tr>\n",
              "      <th>0</th>\n",
              "      <td>1</td>\n",
              "      <td>[209512492_1, 209512492_2, 209512492_3, 209512...</td>\n",
              "    </tr>\n",
              "    <tr>\n",
              "      <th>1</th>\n",
              "      <td>1</td>\n",
              "      <td>[202881124_1, 202881124_2, 202881124_3, 202881...</td>\n",
              "    </tr>\n",
              "    <tr>\n",
              "      <th>2</th>\n",
              "      <td>1</td>\n",
              "      <td>[204980379_1, 204980379_2, 204980379_3, 204980...</td>\n",
              "    </tr>\n",
              "    <tr>\n",
              "      <th>3</th>\n",
              "      <td>1</td>\n",
              "      <td>[204510570_1, 204510570_2, 204510570_3, 204510...</td>\n",
              "    </tr>\n",
              "    <tr>\n",
              "      <th>4</th>\n",
              "      <td>1</td>\n",
              "      <td>[214272106_1, 214272106_2, 214272106_3, 214272...</td>\n",
              "    </tr>\n",
              "    <tr>\n",
              "      <th>...</th>\n",
              "      <td>...</td>\n",
              "      <td>...</td>\n",
              "    </tr>\n",
              "    <tr>\n",
              "      <th>2959</th>\n",
              "      <td>0</td>\n",
              "      <td>[129459587_1, 214822788_2, 196993824_3, 216049...</td>\n",
              "    </tr>\n",
              "    <tr>\n",
              "      <th>2960</th>\n",
              "      <td>0</td>\n",
              "      <td>[208861068_1, 125915024_2, 199902774_3, 170749...</td>\n",
              "    </tr>\n",
              "    <tr>\n",
              "      <th>2961</th>\n",
              "      <td>0</td>\n",
              "      <td>[189099394_1, 217011829_2, 165431994_3, 151650...</td>\n",
              "    </tr>\n",
              "    <tr>\n",
              "      <th>2962</th>\n",
              "      <td>0</td>\n",
              "      <td>[211457853_1, 200290225_2, 164788786_3, 192465...</td>\n",
              "    </tr>\n",
              "    <tr>\n",
              "      <th>2963</th>\n",
              "      <td>0</td>\n",
              "      <td>[205585230_1, 198824359_2, 173085677_3, 212430...</td>\n",
              "    </tr>\n",
              "  </tbody>\n",
              "</table>\n",
              "<p>2964 rows × 2 columns</p>\n",
              "</div>\n",
              "      <button class=\"colab-df-convert\" onclick=\"convertToInteractive('df-75dd92d3-6420-4a57-9a15-b88fb0282884')\"\n",
              "              title=\"Convert this dataframe to an interactive table.\"\n",
              "              style=\"display:none;\">\n",
              "        \n",
              "  <svg xmlns=\"http://www.w3.org/2000/svg\" height=\"24px\"viewBox=\"0 0 24 24\"\n",
              "       width=\"24px\">\n",
              "    <path d=\"M0 0h24v24H0V0z\" fill=\"none\"/>\n",
              "    <path d=\"M18.56 5.44l.94 2.06.94-2.06 2.06-.94-2.06-.94-.94-2.06-.94 2.06-2.06.94zm-11 1L8.5 8.5l.94-2.06 2.06-.94-2.06-.94L8.5 2.5l-.94 2.06-2.06.94zm10 10l.94 2.06.94-2.06 2.06-.94-2.06-.94-.94-2.06-.94 2.06-2.06.94z\"/><path d=\"M17.41 7.96l-1.37-1.37c-.4-.4-.92-.59-1.43-.59-.52 0-1.04.2-1.43.59L10.3 9.45l-7.72 7.72c-.78.78-.78 2.05 0 2.83L4 21.41c.39.39.9.59 1.41.59.51 0 1.02-.2 1.41-.59l7.78-7.78 2.81-2.81c.8-.78.8-2.07 0-2.86zM5.41 20L4 18.59l7.72-7.72 1.47 1.35L5.41 20z\"/>\n",
              "  </svg>\n",
              "      </button>\n",
              "      \n",
              "  <style>\n",
              "    .colab-df-container {\n",
              "      display:flex;\n",
              "      flex-wrap:wrap;\n",
              "      gap: 12px;\n",
              "    }\n",
              "\n",
              "    .colab-df-convert {\n",
              "      background-color: #E8F0FE;\n",
              "      border: none;\n",
              "      border-radius: 50%;\n",
              "      cursor: pointer;\n",
              "      display: none;\n",
              "      fill: #1967D2;\n",
              "      height: 32px;\n",
              "      padding: 0 0 0 0;\n",
              "      width: 32px;\n",
              "    }\n",
              "\n",
              "    .colab-df-convert:hover {\n",
              "      background-color: #E2EBFA;\n",
              "      box-shadow: 0px 1px 2px rgba(60, 64, 67, 0.3), 0px 1px 3px 1px rgba(60, 64, 67, 0.15);\n",
              "      fill: #174EA6;\n",
              "    }\n",
              "\n",
              "    [theme=dark] .colab-df-convert {\n",
              "      background-color: #3B4455;\n",
              "      fill: #D2E3FC;\n",
              "    }\n",
              "\n",
              "    [theme=dark] .colab-df-convert:hover {\n",
              "      background-color: #434B5C;\n",
              "      box-shadow: 0px 1px 3px 1px rgba(0, 0, 0, 0.15);\n",
              "      filter: drop-shadow(0px 1px 2px rgba(0, 0, 0, 0.3));\n",
              "      fill: #FFFFFF;\n",
              "    }\n",
              "  </style>\n",
              "\n",
              "      <script>\n",
              "        const buttonEl =\n",
              "          document.querySelector('#df-75dd92d3-6420-4a57-9a15-b88fb0282884 button.colab-df-convert');\n",
              "        buttonEl.style.display =\n",
              "          google.colab.kernel.accessAllowed ? 'block' : 'none';\n",
              "\n",
              "        async function convertToInteractive(key) {\n",
              "          const element = document.querySelector('#df-75dd92d3-6420-4a57-9a15-b88fb0282884');\n",
              "          const dataTable =\n",
              "            await google.colab.kernel.invokeFunction('convertToInteractive',\n",
              "                                                     [key], {});\n",
              "          if (!dataTable) return;\n",
              "\n",
              "          const docLinkHtml = 'Like what you see? Visit the ' +\n",
              "            '<a target=\"_blank\" href=https://colab.research.google.com/notebooks/data_table.ipynb>data table notebook</a>'\n",
              "            + ' to learn more about interactive tables.';\n",
              "          element.innerHTML = '';\n",
              "          dataTable['output_type'] = 'display_data';\n",
              "          await google.colab.output.renderOutput(dataTable, element);\n",
              "          const docLink = document.createElement('div');\n",
              "          docLink.innerHTML = docLinkHtml;\n",
              "          element.appendChild(docLink);\n",
              "        }\n",
              "      </script>\n",
              "    </div>\n",
              "  </div>\n",
              "  "
            ]
          },
          "metadata": {},
          "execution_count": 27
        }
      ]
    },
    {
      "cell_type": "markdown",
      "source": [
        "##### Make CSV"
      ],
      "metadata": {
        "id": "DtX9sQ9I5o5I"
      }
    },
    {
      "cell_type": "code",
      "source": [
        "maryland_compatibility_valid_df.to_csv('/content/drive/MyDrive/Outfit_Recommendation_Project/Data_CSV_Files/maryland_compatibility_valid_outfits.csv',index=False)"
      ],
      "metadata": {
        "id": "UrgtzJiu5o5I"
      },
      "execution_count": null,
      "outputs": []
    },
    {
      "cell_type": "markdown",
      "source": [
        "#### fill_in_blank_test.json"
      ],
      "metadata": {
        "id": "RgTJ-27F5o5I"
      }
    },
    {
      "cell_type": "code",
      "source": [
        "maryland_fill_blank_test_df = pd.read_json('/content/polyvore_outfits/maryland_polyvore_hardneg/fill_in_blank_test.json')\n",
        "maryland_fill_blank_test_df"
      ],
      "metadata": {
        "id": "Zk36NVkS5o5I"
      },
      "execution_count": null,
      "outputs": []
    },
    {
      "cell_type": "markdown",
      "source": [
        "##### Make CSV"
      ],
      "metadata": {
        "id": "K4tjbMWg5o5I"
      }
    },
    {
      "cell_type": "code",
      "source": [
        "maryland_fill_blank_test_df.to_csv('/content/drive/MyDrive/Outfit_Recommendation_Project/Data_CSV_Files/maryland_fill_blank_test_outfits.csv',index=False)"
      ],
      "metadata": {
        "id": "3JCRhgvU5o5J"
      },
      "execution_count": null,
      "outputs": []
    },
    {
      "cell_type": "markdown",
      "source": [
        "#### fill_in_blank_train.json"
      ],
      "metadata": {
        "id": "bnQVMXhV5o5J"
      }
    },
    {
      "cell_type": "code",
      "source": [
        "maryland_fill_blank_train_df = pd.read_json('/content/polyvore_outfits/maryland_polyvore_hardneg/fill_in_blank_train.json')\n",
        "maryland_fill_blank_train_df"
      ],
      "metadata": {
        "id": "72sg4tTm5o5J"
      },
      "execution_count": null,
      "outputs": []
    },
    {
      "cell_type": "markdown",
      "source": [
        "##### Make CSV"
      ],
      "metadata": {
        "id": "2hrqts-k5o5J"
      }
    },
    {
      "cell_type": "code",
      "source": [
        "maryland_fill_blank_train_df.to_csv('/content/drive/MyDrive/Outfit_Recommendation_Project/Data_CSV_Files/maryland_fill_blank_train_outfits.csv',index=False)"
      ],
      "metadata": {
        "id": "lUB9sogT5o5J"
      },
      "execution_count": null,
      "outputs": []
    },
    {
      "cell_type": "markdown",
      "source": [
        "#### fill_in_blank_valid.json"
      ],
      "metadata": {
        "id": "SI2zaQ_U5o5J"
      }
    },
    {
      "cell_type": "code",
      "source": [
        "maryland_fill_blank_valid_df = pd.read_json('/content/polyvore_outfits/maryland_polyvore_hardneg/fill_in_blank_valid.json')\n",
        "maryland_fill_blank_valid_df"
      ],
      "metadata": {
        "id": "XctAEI8S5o5J"
      },
      "execution_count": null,
      "outputs": []
    },
    {
      "cell_type": "markdown",
      "source": [
        "##### Make Pickle"
      ],
      "metadata": {
        "id": "D5OQSSlv5o5J"
      }
    },
    {
      "cell_type": "code",
      "source": [
        "maryland_fill_blank_valid_df.to_csv('/content/drive/MyDrive/Outfit_Recommendation_Project/Data_CSV_Files/maryland_fill_blank_valid_outfits.csv',index=False)"
      ],
      "metadata": {
        "id": "hX69j_5q5o5J"
      },
      "execution_count": null,
      "outputs": []
    }
  ]
}